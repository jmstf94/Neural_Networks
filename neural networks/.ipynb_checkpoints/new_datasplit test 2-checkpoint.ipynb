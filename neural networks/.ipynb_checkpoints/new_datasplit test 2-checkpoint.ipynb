{
 "cells": [
  {
   "cell_type": "code",
   "execution_count": 3,
   "id": "3224fedc-e29f-4805-9ca1-6fac4bfb88bb",
   "metadata": {
    "tags": []
   },
   "outputs": [],
   "source": [
    "import pandas as pd\n",
    "import numpy as np\n",
    "\n",
    "from sklearn.model_selection import train_test_split\n",
    "\n",
    "import sys\n",
    "\n",
    "import pickle\n",
    "\n",
    "from transformers import AutoConfig, AutoTokenizer, TFAutoModel, DataCollatorWithPadding\n",
    "\n",
    "import tensorflow as tf\n",
    "import tensorflow_hub as hub\n",
    "from tensorflow.keras.models import Sequential\n",
    "from tensorflow.keras.layers import *\n",
    "from tensorflow.keras.optimizers import Adam\n",
    "\n",
    "import metrics\n",
    "\n",
    "from simpletransformers.language_representation import RepresentationModel\n",
    "\n",
    "from TweetDataReport import datasplit, print_tweet_report, check_relevance_balance\n",
    "\n",
    "import time\n",
    "import itertools\n",
    "import warnings\n",
    "# warnings.filterwarnings(\"ignore\")\n",
    "\n",
    "import matplotlib.pyplot as plt\n",
    "\n",
    "from IPython.display import clear_output\n",
    "\n",
    "import os\n",
    "import re\n",
    "\n",
    "from hyperopt import hp, fmin, tpe , pyll"
   ]
  },
  {
   "cell_type": "code",
   "execution_count": 4,
   "id": "effeac29-b580-486d-8399-77383bd765d4",
   "metadata": {
    "tags": []
   },
   "outputs": [
    {
     "name": "stdout",
     "output_type": "stream",
     "text": [
      "Python Version:3.9.18 (main, Sep 11 2023, 14:09:26) [MSC v.1916 64 bit (AMD64)]\n",
      "TensorFlow Version: 2.10.0\n",
      "GPU is available\n",
      "CUDA Version: True\n"
     ]
    }
   ],
   "source": [
    "print(\"Python Version:\" + sys.version)\n",
    "print(\"TensorFlow Version:\", tf.__version__)\n",
    "if tf.test.gpu_device_name():\n",
    "    print(\"GPU is available\")\n",
    "else:\n",
    "    print(\"GPU is NOT available\")\n",
    "print(\"CUDA Version:\", tf.test.is_built_with_cuda())"
   ]
  },
  {
   "cell_type": "code",
   "execution_count": 5,
   "id": "0d6e5d11-1311-423a-b9ee-070349c33c14",
   "metadata": {
    "tags": []
   },
   "outputs": [],
   "source": [
    "with open('data/italian/00-dirty_dataset/feature_extractions/bert/dbmdz_bert-base-italian-cased.pkl','rb') as file:\n",
    "    WF = pickle.load(file)"
   ]
  },
  {
   "cell_type": "code",
   "execution_count": 4,
   "id": "9358a9fe-46e7-48c4-9add-9b15a54aea57",
   "metadata": {
    "tags": []
   },
   "outputs": [
    {
     "data": {
      "text/html": [
       "<div>\n",
       "<style scoped>\n",
       "    .dataframe tbody tr th:only-of-type {\n",
       "        vertical-align: middle;\n",
       "    }\n",
       "\n",
       "    .dataframe tbody tr th {\n",
       "        vertical-align: top;\n",
       "    }\n",
       "\n",
       "    .dataframe thead th {\n",
       "        text-align: right;\n",
       "    }\n",
       "</style>\n",
       "<table border=\"1\" class=\"dataframe\">\n",
       "  <thead>\n",
       "    <tr style=\"text-align: right;\">\n",
       "      <th></th>\n",
       "      <th>relevance</th>\n",
       "      <th>count</th>\n",
       "      <th>balance</th>\n",
       "    </tr>\n",
       "  </thead>\n",
       "  <tbody>\n",
       "    <tr>\n",
       "      <th>0</th>\n",
       "      <td>0</td>\n",
       "      <td>1258</td>\n",
       "      <td>66.49%</td>\n",
       "    </tr>\n",
       "    <tr>\n",
       "      <th>1</th>\n",
       "      <td>1</td>\n",
       "      <td>634</td>\n",
       "      <td>33.51%</td>\n",
       "    </tr>\n",
       "  </tbody>\n",
       "</table>\n",
       "</div>"
      ],
      "text/plain": [
       "   relevance  count balance\n",
       "0          0   1258  66.49%\n",
       "1          1    634  33.51%"
      ]
     },
     "execution_count": 4,
     "metadata": {},
     "output_type": "execute_result"
    }
   ],
   "source": [
    "check_relevance_balance(WF)"
   ]
  },
  {
   "cell_type": "code",
   "execution_count": 5,
   "id": "a68d6e78-6710-4921-90ae-65184114cdf2",
   "metadata": {
    "tags": []
   },
   "outputs": [
    {
     "data": {
      "text/html": [
       "<div>\n",
       "<style scoped>\n",
       "    .dataframe tbody tr th:only-of-type {\n",
       "        vertical-align: middle;\n",
       "    }\n",
       "\n",
       "    .dataframe tbody tr th {\n",
       "        vertical-align: top;\n",
       "    }\n",
       "\n",
       "    .dataframe thead th {\n",
       "        text-align: right;\n",
       "    }\n",
       "</style>\n",
       "<table border=\"1\" class=\"dataframe\">\n",
       "  <thead>\n",
       "    <tr style=\"text-align: right;\">\n",
       "      <th></th>\n",
       "      <th>column_names</th>\n",
       "      <th>data_types</th>\n",
       "      <th>shape_len</th>\n",
       "      <th>unique_values</th>\n",
       "    </tr>\n",
       "  </thead>\n",
       "  <tbody>\n",
       "    <tr>\n",
       "      <th>0</th>\n",
       "      <td>reps</td>\n",
       "      <td>&lt;class 'numpy.ndarray'&gt;</td>\n",
       "      <td>(1, 768)</td>\n",
       "      <td>1892</td>\n",
       "    </tr>\n",
       "    <tr>\n",
       "      <th>1</th>\n",
       "      <td>relevance</td>\n",
       "      <td>&lt;class 'numpy.int64'&gt;</td>\n",
       "      <td>()</td>\n",
       "      <td>2</td>\n",
       "    </tr>\n",
       "  </tbody>\n",
       "</table>\n",
       "</div>"
      ],
      "text/plain": [
       "  column_names               data_types shape_len  unique_values\n",
       "0         reps  <class 'numpy.ndarray'>  (1, 768)           1892\n",
       "1    relevance    <class 'numpy.int64'>        ()              2"
      ]
     },
     "execution_count": 5,
     "metadata": {},
     "output_type": "execute_result"
    }
   ],
   "source": [
    "print_tweet_report(WF)"
   ]
  },
  {
   "cell_type": "code",
   "execution_count": 19,
   "id": "50a4c6c6-a498-4a34-93ac-8b2d33e499ff",
   "metadata": {
    "tags": []
   },
   "outputs": [
    {
     "name": "stdout",
     "output_type": "stream",
     "text": [
      "440\n",
      "884\n"
     ]
    },
    {
     "data": {
      "text/html": [
       "<div>\n",
       "<style scoped>\n",
       "    .dataframe tbody tr th:only-of-type {\n",
       "        vertical-align: middle;\n",
       "    }\n",
       "\n",
       "    .dataframe tbody tr th {\n",
       "        vertical-align: top;\n",
       "    }\n",
       "\n",
       "    .dataframe thead th {\n",
       "        text-align: right;\n",
       "    }\n",
       "</style>\n",
       "<table border=\"1\" class=\"dataframe\">\n",
       "  <thead>\n",
       "    <tr style=\"text-align: right;\">\n",
       "      <th></th>\n",
       "      <th>relevance</th>\n",
       "      <th>count</th>\n",
       "      <th>balance</th>\n",
       "    </tr>\n",
       "  </thead>\n",
       "  <tbody>\n",
       "    <tr>\n",
       "      <th>0</th>\n",
       "      <td>0</td>\n",
       "      <td>884</td>\n",
       "      <td>90.95%</td>\n",
       "    </tr>\n",
       "    <tr>\n",
       "      <th>1</th>\n",
       "      <td>1</td>\n",
       "      <td>88</td>\n",
       "      <td>9.05%</td>\n",
       "    </tr>\n",
       "  </tbody>\n",
       "</table>\n",
       "</div>"
      ],
      "text/plain": [
       "   relevance  count balance\n",
       "0          0    884  90.95%\n",
       "1          1     88   9.05%"
      ]
     },
     "execution_count": 19,
     "metadata": {},
     "output_type": "execute_result"
    }
   ],
   "source": [
    "import pandas as pd\n",
    "from sklearn.model_selection import train_test_split\n",
    "import numpy as np\n",
    "        \n",
    "def datasplit_new(df,testsize,relovir):\n",
    "    \"\"\"\n",
    "    Firstly we split the dataset into train and test parts.\n",
    "    \n",
    "    Then we create the training dataset by picking up the irrelevant tweets from the training \n",
    "    split part with only the number of relevant tweet\n",
    "    \n",
    "    The relovir variable represents the relative ratio of irrelevant(we usually have more irrelevant so) \n",
    "    over relevant number of training examples in the set.\n",
    "    \n",
    "    Returns as a (examples,768) np array the representations and the y as (examples,) shaped np array.\n",
    "    \n",
    "    Future: we need to be able to reduce zero and one examples accordinglydepending of which \n",
    "    \n",
    "    \"\"\"\n",
    "    # make a copied instance of the dataset\n",
    "    df = df.copy()\n",
    "    # we split the dataset into train and test subsets\n",
    "    df_X_train, df_X_test, df_y_train, df_y_test = train_test_split(df['reps'], df['relevance'], test_size = testsize)\n",
    "    # reconstruct training set\n",
    "    if relovir>0:\n",
    "        training_set = pd.DataFrame()\n",
    "        training_set['reps'] = df_X_train.copy()\n",
    "        training_set['relevance'] = df_y_train.copy()\n",
    "        training_set.reset_index(drop = True)\n",
    "        # we split the training dataset by relervance into two DataFrames irr and rel\n",
    "        grouping = training_set.groupby('relevance')\n",
    "        group_dict = {}\n",
    "        for name, group in grouping:\n",
    "            group_dict[str(name)] = group\n",
    "        # we find the absolute numbers \n",
    "        df_training_irr = group_dict['0'].reset_index(drop = True)\n",
    "        df_training_rel = group_dict['1'].reset_index(drop = True)\n",
    "        # based on the relovir parameter pick up the set with the appropriate ratio, here an explanation for the inner if is needed:\n",
    "        Nrel = len(df_training_rel)\n",
    "        print(Nrel)\n",
    "        Nirr = len(df_training_irr)\n",
    "        print(Nirr)\n",
    "        N = Nrel + Nirr\n",
    "        if relovir<=1:\n",
    "            if relovir<Nrel/Nirr:\n",
    "                relevant_part = df_training_rel.sample(n = int(Nirr*relovir))\n",
    "                df_training = pd.concat([df_training_irr, relevant_part]).sample(frac=1).reset_index(drop = True)\n",
    "            else:\n",
    "                df_training = pd.concat([df_training_irr, df_training_rel]).sample(frac=1).reset_index(drop = True)\n",
    "        else:\n",
    "            if relovir<Nrel/Nirr:\n",
    "                irrelevant_part = df_training_irr.sample(n = int((1/relovir)*Nrel))\n",
    "                df_training = pd.concat([df_training_rel, irrelevant_part]).sample(frac=1).reset_index(drop = True)\n",
    "            else:\n",
    "                df_training = pd.concat([df_training_irr, df_training_rel]).sample(frac=1).reset_index(drop = True)\n",
    "        df_X_train = df_training['reps'].copy()\n",
    "        df_y_train = df_training['relevance'].copy()\n",
    "    else:\n",
    "        print(\"relovir can't be negative or zero\")\n",
    "    df_X_train.apply(lambda x: x.reshape(768,))\n",
    "    df_X_test = df_X_test.copy().apply(lambda x: x.reshape(768,))\n",
    "    training_set_X = np.vstack(df_X_train)\n",
    "    test_set_X = np.vstack(df_X_test)\n",
    "    return training_set_X, test_set_X, df_y_train, df_y_test\n",
    "\n",
    "training_set_X, test_set_X, training_set_y,  test_set_y = datasplit_new(WF,0.3,relovir=0.1)\n",
    "some = pd.DataFrame()\n",
    "some['relevance']=training_set_y\n",
    "check_relevance_balance(some)"
   ]
  },
  {
   "cell_type": "code",
   "execution_count": 6,
   "id": "8e4b915a-9c55-4edf-a282-e9ea2cbb7471",
   "metadata": {
    "scrolled": true,
    "tags": []
   },
   "outputs": [
    {
     "name": "stdout",
     "output_type": "stream",
     "text": [
      "Το training set X: <class 'numpy.ndarray'> με (1044, 768)\n",
      "To test set X: <class 'numpy.ndarray'> με (568, 768)\n",
      "To training set y: <class 'pandas.core.series.Series'> με 1044\n",
      "To test set y: <class 'pandas.core.series.Series'> με 568\n",
      "Epoch 1/50\n",
      "11/11 - 2s - loss: 0.5065 - acc: 0.1667 - precision: 0.1651 - recall: 1.0000 - f1: 0.2822 - val_loss: 0.6962 - val_acc: 0.3169 - val_precision: 0.3196 - val_recall: 1.0000 - val_f1: 0.4834 - 2s/epoch - 219ms/step\n",
      "Epoch 2/50\n",
      "11/11 - 0s - loss: 0.4015 - acc: 0.1667 - precision: 0.1651 - recall: 1.0000 - f1: 0.2817 - val_loss: 0.5921 - val_acc: 0.3169 - val_precision: 0.3196 - val_recall: 1.0000 - val_f1: 0.4834 - 95ms/epoch - 9ms/step\n",
      "Epoch 3/50\n",
      "11/11 - 0s - loss: 0.3503 - acc: 0.1667 - precision: 0.1721 - recall: 1.0000 - f1: 0.2921 - val_loss: 0.4972 - val_acc: 0.3169 - val_precision: 0.3196 - val_recall: 1.0000 - val_f1: 0.4834 - 103ms/epoch - 9ms/step\n",
      "Epoch 4/50\n",
      "11/11 - 0s - loss: 0.3061 - acc: 0.1667 - precision: 0.1640 - recall: 1.0000 - f1: 0.2795 - val_loss: 0.4825 - val_acc: 0.3169 - val_precision: 0.3196 - val_recall: 1.0000 - val_f1: 0.4834 - 104ms/epoch - 9ms/step\n",
      "Epoch 5/50\n",
      "11/11 - 0s - loss: 0.2664 - acc: 0.1667 - precision: 0.1663 - recall: 1.0000 - f1: 0.2841 - val_loss: 0.3678 - val_acc: 0.3169 - val_precision: 0.3196 - val_recall: 1.0000 - val_f1: 0.4834 - 107ms/epoch - 10ms/step\n",
      "Epoch 6/50\n",
      "11/11 - 0s - loss: 0.2283 - acc: 0.1667 - precision: 0.1617 - recall: 1.0000 - f1: 0.2749 - val_loss: 0.4024 - val_acc: 0.3169 - val_precision: 0.3196 - val_recall: 1.0000 - val_f1: 0.4834 - 111ms/epoch - 10ms/step\n",
      "Epoch 7/50\n",
      "11/11 - 0s - loss: 0.2035 - acc: 0.1667 - precision: 0.1617 - recall: 1.0000 - f1: 0.2762 - val_loss: 0.3243 - val_acc: 0.3169 - val_precision: 0.3196 - val_recall: 1.0000 - val_f1: 0.4834 - 94ms/epoch - 9ms/step\n",
      "Epoch 8/50\n",
      "11/11 - 0s - loss: 0.1823 - acc: 0.1667 - precision: 0.1663 - recall: 1.0000 - f1: 0.2837 - val_loss: 0.2826 - val_acc: 0.3169 - val_precision: 0.3196 - val_recall: 1.0000 - val_f1: 0.4834 - 98ms/epoch - 9ms/step\n",
      "Epoch 9/50\n",
      "11/11 - 0s - loss: 0.1686 - acc: 0.1667 - precision: 0.1617 - recall: 1.0000 - f1: 0.2732 - val_loss: 0.3114 - val_acc: 0.3169 - val_precision: 0.3196 - val_recall: 1.0000 - val_f1: 0.4834 - 98ms/epoch - 9ms/step\n",
      "Epoch 10/50\n",
      "11/11 - 0s - loss: 0.1506 - acc: 0.1667 - precision: 0.1640 - recall: 1.0000 - f1: 0.2789 - val_loss: 0.2697 - val_acc: 0.3169 - val_precision: 0.3196 - val_recall: 1.0000 - val_f1: 0.4834 - 95ms/epoch - 9ms/step\n",
      "Epoch 11/50\n",
      "11/11 - 0s - loss: 0.1361 - acc: 0.1667 - precision: 0.1663 - recall: 1.0000 - f1: 0.2828 - val_loss: 0.2983 - val_acc: 0.3169 - val_precision: 0.3196 - val_recall: 1.0000 - val_f1: 0.4834 - 105ms/epoch - 10ms/step\n",
      "Epoch 12/50\n",
      "11/11 - 0s - loss: 0.1258 - acc: 0.1667 - precision: 0.1686 - recall: 1.0000 - f1: 0.2867 - val_loss: 0.2788 - val_acc: 0.3169 - val_precision: 0.3196 - val_recall: 1.0000 - val_f1: 0.4834 - 96ms/epoch - 9ms/step\n",
      "Epoch 13/50\n",
      "11/11 - 0s - loss: 0.1173 - acc: 0.1667 - precision: 0.1698 - recall: 1.0000 - f1: 0.2880 - val_loss: 0.2313 - val_acc: 0.3169 - val_precision: 0.3196 - val_recall: 1.0000 - val_f1: 0.4834 - 97ms/epoch - 9ms/step\n",
      "Epoch 14/50\n",
      "11/11 - 0s - loss: 0.1045 - acc: 0.1667 - precision: 0.1640 - recall: 1.0000 - f1: 0.2801 - val_loss: 0.2931 - val_acc: 0.3169 - val_precision: 0.3196 - val_recall: 1.0000 - val_f1: 0.4834 - 101ms/epoch - 9ms/step\n",
      "Epoch 15/50\n",
      "11/11 - 0s - loss: 0.0973 - acc: 0.1667 - precision: 0.1674 - recall: 1.0000 - f1: 0.2865 - val_loss: 0.2883 - val_acc: 0.3169 - val_precision: 0.3196 - val_recall: 1.0000 - val_f1: 0.4834 - 92ms/epoch - 8ms/step\n",
      "Epoch 16/50\n",
      "11/11 - 0s - loss: 0.0877 - acc: 0.1667 - precision: 0.1628 - recall: 1.0000 - f1: 0.2784 - val_loss: 0.2681 - val_acc: 0.3169 - val_precision: 0.3196 - val_recall: 1.0000 - val_f1: 0.4834 - 98ms/epoch - 9ms/step\n",
      "Epoch 17/50\n",
      "11/11 - 0s - loss: 0.0785 - acc: 0.1667 - precision: 0.1698 - recall: 1.0000 - f1: 0.2892 - val_loss: 0.2194 - val_acc: 0.3169 - val_precision: 0.3196 - val_recall: 1.0000 - val_f1: 0.4834 - 101ms/epoch - 9ms/step\n",
      "Epoch 18/50\n",
      "11/11 - 0s - loss: 0.0789 - acc: 0.1667 - precision: 0.1651 - recall: 1.0000 - f1: 0.2826 - val_loss: 0.2466 - val_acc: 0.3169 - val_precision: 0.3196 - val_recall: 1.0000 - val_f1: 0.4834 - 102ms/epoch - 9ms/step\n",
      "Epoch 19/50\n",
      "11/11 - 0s - loss: 0.0669 - acc: 0.1667 - precision: 0.1663 - recall: 1.0000 - f1: 0.2842 - val_loss: 0.2177 - val_acc: 0.3169 - val_precision: 0.3196 - val_recall: 1.0000 - val_f1: 0.4834 - 96ms/epoch - 9ms/step\n",
      "Epoch 20/50\n",
      "11/11 - 0s - loss: 0.0657 - acc: 0.1667 - precision: 0.1698 - recall: 1.0000 - f1: 0.2886 - val_loss: 0.2234 - val_acc: 0.3169 - val_precision: 0.3196 - val_recall: 1.0000 - val_f1: 0.4834 - 95ms/epoch - 9ms/step\n",
      "Epoch 21/50\n",
      "11/11 - 0s - loss: 0.0534 - acc: 0.1667 - precision: 0.1617 - recall: 1.0000 - f1: 0.2754 - val_loss: 0.2970 - val_acc: 0.3169 - val_precision: 0.3196 - val_recall: 1.0000 - val_f1: 0.4834 - 95ms/epoch - 9ms/step\n",
      "Epoch 22/50\n",
      "11/11 - 0s - loss: 0.0484 - acc: 0.1667 - precision: 0.1628 - recall: 1.0000 - f1: 0.2768 - val_loss: 0.2974 - val_acc: 0.3169 - val_precision: 0.3196 - val_recall: 1.0000 - val_f1: 0.4834 - 96ms/epoch - 9ms/step\n",
      "Epoch 23/50\n",
      "11/11 - 0s - loss: 0.0449 - acc: 0.1667 - precision: 0.1663 - recall: 1.0000 - f1: 0.2842 - val_loss: 0.2290 - val_acc: 0.3169 - val_precision: 0.3196 - val_recall: 1.0000 - val_f1: 0.4834 - 124ms/epoch - 11ms/step\n",
      "Epoch 24/50\n",
      "11/11 - 0s - loss: 0.0377 - acc: 0.1667 - precision: 0.1663 - recall: 1.0000 - f1: 0.2839 - val_loss: 0.2633 - val_acc: 0.3169 - val_precision: 0.3196 - val_recall: 1.0000 - val_f1: 0.4834 - 108ms/epoch - 10ms/step\n",
      "Epoch 25/50\n",
      "11/11 - 0s - loss: 0.0332 - acc: 0.1667 - precision: 0.1686 - recall: 1.0000 - f1: 0.2871 - val_loss: 0.2542 - val_acc: 0.3169 - val_precision: 0.3196 - val_recall: 1.0000 - val_f1: 0.4834 - 130ms/epoch - 12ms/step\n",
      "Epoch 26/50\n",
      "11/11 - 0s - loss: 0.0297 - acc: 0.1667 - precision: 0.1686 - recall: 1.0000 - f1: 0.2876 - val_loss: 0.2355 - val_acc: 0.3169 - val_precision: 0.3196 - val_recall: 1.0000 - val_f1: 0.4834 - 108ms/epoch - 10ms/step\n",
      "Epoch 27/50\n",
      "11/11 - 0s - loss: 0.0267 - acc: 0.1667 - precision: 0.1663 - recall: 1.0000 - f1: 0.2835 - val_loss: 0.2653 - val_acc: 0.3169 - val_precision: 0.3196 - val_recall: 1.0000 - val_f1: 0.4834 - 108ms/epoch - 10ms/step\n",
      "Epoch 28/50\n",
      "11/11 - 0s - loss: 0.0218 - acc: 0.1667 - precision: 0.1732 - recall: 1.0000 - f1: 0.2903 - val_loss: 0.3160 - val_acc: 0.3169 - val_precision: 0.3196 - val_recall: 1.0000 - val_f1: 0.4834 - 95ms/epoch - 9ms/step\n",
      "Epoch 29/50\n",
      "11/11 - 0s - loss: 0.0208 - acc: 0.1667 - precision: 0.1651 - recall: 1.0000 - f1: 0.2814 - val_loss: 0.3059 - val_acc: 0.3169 - val_precision: 0.3196 - val_recall: 1.0000 - val_f1: 0.4834 - 91ms/epoch - 8ms/step\n",
      "Epoch 30/50\n",
      "11/11 - 0s - loss: 0.0170 - acc: 0.1667 - precision: 0.1686 - recall: 1.0000 - f1: 0.2865 - val_loss: 0.2874 - val_acc: 0.3169 - val_precision: 0.3196 - val_recall: 1.0000 - val_f1: 0.4834 - 91ms/epoch - 8ms/step\n",
      "Epoch 31/50\n",
      "11/11 - 0s - loss: 0.0147 - acc: 0.1667 - precision: 0.1651 - recall: 1.0000 - f1: 0.2811 - val_loss: 0.2686 - val_acc: 0.3169 - val_precision: 0.3196 - val_recall: 1.0000 - val_f1: 0.4834 - 92ms/epoch - 8ms/step\n",
      "Epoch 32/50\n",
      "11/11 - 0s - loss: 0.0137 - acc: 0.1667 - precision: 0.1686 - recall: 1.0000 - f1: 0.2871 - val_loss: 0.2989 - val_acc: 0.3169 - val_precision: 0.3196 - val_recall: 1.0000 - val_f1: 0.4834 - 91ms/epoch - 8ms/step\n",
      "Epoch 33/50\n",
      "11/11 - 0s - loss: 0.0134 - acc: 0.1667 - precision: 0.1651 - recall: 1.0000 - f1: 0.2822 - val_loss: 0.3585 - val_acc: 0.3169 - val_precision: 0.3196 - val_recall: 1.0000 - val_f1: 0.4834 - 91ms/epoch - 8ms/step\n",
      "Epoch 34/50\n",
      "11/11 - 0s - loss: 0.0116 - acc: 0.1667 - precision: 0.1686 - recall: 1.0000 - f1: 0.2869 - val_loss: 0.3355 - val_acc: 0.3169 - val_precision: 0.3196 - val_recall: 1.0000 - val_f1: 0.4834 - 93ms/epoch - 8ms/step\n",
      "Epoch 35/50\n",
      "11/11 - 0s - loss: 0.0089 - acc: 0.1667 - precision: 0.1640 - recall: 1.0000 - f1: 0.2795 - val_loss: 0.3296 - val_acc: 0.3169 - val_precision: 0.3196 - val_recall: 1.0000 - val_f1: 0.4834 - 93ms/epoch - 8ms/step\n",
      "Epoch 36/50\n",
      "11/11 - 0s - loss: 0.0088 - acc: 0.1667 - precision: 0.1640 - recall: 1.0000 - f1: 0.2807 - val_loss: 0.2825 - val_acc: 0.3169 - val_precision: 0.3196 - val_recall: 1.0000 - val_f1: 0.4834 - 92ms/epoch - 8ms/step\n",
      "Epoch 37/50\n",
      "11/11 - 0s - loss: 0.0070 - acc: 0.1667 - precision: 0.1651 - recall: 1.0000 - f1: 0.2805 - val_loss: 0.3232 - val_acc: 0.3169 - val_precision: 0.3196 - val_recall: 1.0000 - val_f1: 0.4834 - 92ms/epoch - 8ms/step\n",
      "Epoch 38/50\n",
      "11/11 - 0s - loss: 0.0062 - acc: 0.1667 - precision: 0.1686 - recall: 1.0000 - f1: 0.2861 - val_loss: 0.3428 - val_acc: 0.3169 - val_precision: 0.3196 - val_recall: 1.0000 - val_f1: 0.4834 - 97ms/epoch - 9ms/step\n",
      "Epoch 39/50\n",
      "11/11 - 0s - loss: 0.0054 - acc: 0.1667 - precision: 0.1651 - recall: 1.0000 - f1: 0.2809 - val_loss: 0.3266 - val_acc: 0.3169 - val_precision: 0.3196 - val_recall: 1.0000 - val_f1: 0.4834 - 93ms/epoch - 8ms/step\n",
      "Epoch 40/50\n",
      "11/11 - 0s - loss: 0.0048 - acc: 0.1667 - precision: 0.1640 - recall: 1.0000 - f1: 0.2800 - val_loss: 0.3225 - val_acc: 0.3169 - val_precision: 0.3196 - val_recall: 1.0000 - val_f1: 0.4834 - 95ms/epoch - 9ms/step\n",
      "Epoch 41/50\n",
      "11/11 - 0s - loss: 0.0045 - acc: 0.1667 - precision: 0.1663 - recall: 1.0000 - f1: 0.2845 - val_loss: 0.3487 - val_acc: 0.3169 - val_precision: 0.3196 - val_recall: 1.0000 - val_f1: 0.4834 - 104ms/epoch - 9ms/step\n",
      "Epoch 42/50\n",
      "11/11 - 0s - loss: 0.0040 - acc: 0.1667 - precision: 0.1651 - recall: 1.0000 - f1: 0.2815 - val_loss: 0.3686 - val_acc: 0.3169 - val_precision: 0.3196 - val_recall: 1.0000 - val_f1: 0.4834 - 106ms/epoch - 10ms/step\n",
      "Epoch 43/50\n",
      "11/11 - 0s - loss: 0.0039 - acc: 0.1667 - precision: 0.1674 - recall: 1.0000 - f1: 0.2849 - val_loss: 0.3226 - val_acc: 0.3169 - val_precision: 0.3196 - val_recall: 1.0000 - val_f1: 0.4834 - 93ms/epoch - 8ms/step\n",
      "Epoch 44/50\n",
      "11/11 - 0s - loss: 0.0034 - acc: 0.1667 - precision: 0.1651 - recall: 1.0000 - f1: 0.2819 - val_loss: 0.3748 - val_acc: 0.3169 - val_precision: 0.3196 - val_recall: 1.0000 - val_f1: 0.4834 - 92ms/epoch - 8ms/step\n",
      "Epoch 45/50\n",
      "11/11 - 0s - loss: 0.0031 - acc: 0.1667 - precision: 0.1617 - recall: 1.0000 - f1: 0.2764 - val_loss: 0.3524 - val_acc: 0.3169 - val_precision: 0.3196 - val_recall: 1.0000 - val_f1: 0.4834 - 98ms/epoch - 9ms/step\n",
      "Epoch 46/50\n",
      "11/11 - 0s - loss: 0.0028 - acc: 0.1667 - precision: 0.1709 - recall: 1.0000 - f1: 0.2892 - val_loss: 0.3532 - val_acc: 0.3169 - val_precision: 0.3196 - val_recall: 1.0000 - val_f1: 0.4834 - 105ms/epoch - 10ms/step\n",
      "Epoch 47/50\n",
      "11/11 - 0s - loss: 0.0025 - acc: 0.1667 - precision: 0.1686 - recall: 1.0000 - f1: 0.2860 - val_loss: 0.3685 - val_acc: 0.3169 - val_precision: 0.3196 - val_recall: 1.0000 - val_f1: 0.4834 - 104ms/epoch - 9ms/step\n",
      "Epoch 48/50\n",
      "11/11 - 0s - loss: 0.0023 - acc: 0.1667 - precision: 0.1640 - recall: 1.0000 - f1: 0.2804 - val_loss: 0.3697 - val_acc: 0.3169 - val_precision: 0.3196 - val_recall: 1.0000 - val_f1: 0.4834 - 104ms/epoch - 9ms/step\n",
      "Epoch 49/50\n",
      "11/11 - 0s - loss: 0.0022 - acc: 0.1667 - precision: 0.1698 - recall: 1.0000 - f1: 0.2883 - val_loss: 0.3557 - val_acc: 0.3169 - val_precision: 0.3196 - val_recall: 1.0000 - val_f1: 0.4834 - 121ms/epoch - 11ms/step\n",
      "Epoch 50/50\n",
      "11/11 - 0s - loss: 0.0021 - acc: 0.1667 - precision: 0.1640 - recall: 1.0000 - f1: 0.2796 - val_loss: 0.3954 - val_acc: 0.3169 - val_precision: 0.3196 - val_recall: 1.0000 - val_f1: 0.4834 - 90ms/epoch - 8ms/step\n",
      "18/18 [==============================] - 0s 3ms/step - loss: 0.3954 - acc: 0.3169 - precision: 0.3171 - recall: 1.0000 - f1: 0.4766\n"
     ]
    },
    {
     "data": {
      "text/plain": [
       "[0.3954237103462219,\n",
       " 0.31690141558647156,\n",
       " 0.31712964177131653,\n",
       " 1.0,\n",
       " 0.4766274690628052]"
      ]
     },
     "execution_count": 6,
     "metadata": {},
     "output_type": "execute_result"
    }
   ],
   "source": [
    "print(f\"Το training set X: {type(training_set_X)} με {training_set_X.shape}\")\n",
    "print(f\"To test set X: {type(test_set_X)} με {test_set_X.shape}\")\n",
    "print(f\"To training set y: {type(training_set_y)} με {len(training_set_y)}\")\n",
    "print(f\"To test set y: {type(test_set_y )} με {len(test_set_y)}\")\n",
    "\n",
    "model = Sequential()\n",
    "model.add(Input(shape = (768,)))\n",
    "model.add(Dense(768,activation='relu'))\n",
    "model.add(Dense(384,activation='relu'))\n",
    "model.add(Dense(192,activation='relu'))\n",
    "model.add(Dense(1,activation='softmax'))\n",
    "model.compile(optimizer=Adam(learning_rate=0.0001), loss='binary_crossentropy', metrics=['acc', metrics.precision, metrics.recall, metrics.f1])\n",
    "history = model.fit(training_set_X, training_set_y,validation_data=( test_set_X,  test_set_y), batch_size = 100, epochs = 50, verbose = 2,callbacks=[],shuffle = True)\n",
    "model.evaluate(test_set_X,test_set_y)"
   ]
  },
  {
   "cell_type": "code",
   "execution_count": 232,
   "id": "e59e804f-7ea1-4899-9c01-04bd2baff0f2",
   "metadata": {
    "tags": []
   },
   "outputs": [
    {
     "data": {
      "text/plain": [
       "0.5166093928980527"
      ]
     },
     "execution_count": 232,
     "metadata": {},
     "output_type": "execute_result"
    }
   ],
   "source": [
    "451/873"
   ]
  },
  {
   "cell_type": "code",
   "execution_count": 203,
   "id": "40727fc6-c992-450b-8503-ace56c122800",
   "metadata": {
    "scrolled": true,
    "tags": []
   },
   "outputs": [
    {
     "ename": "NameError",
     "evalue": "name 'data' is not defined",
     "output_type": "error",
     "traceback": [
      "\u001b[1;31m---------------------------------------------------------------------------\u001b[0m",
      "\u001b[1;31mNameError\u001b[0m                                 Traceback (most recent call last)",
      "Cell \u001b[1;32mIn[203], line 1\u001b[0m\n\u001b[1;32m----> 1\u001b[0m data_new \u001b[38;5;241m=\u001b[39m datasplit_new(\u001b[43mdata\u001b[49m, testsize \u001b[38;5;241m=\u001b[39m \u001b[38;5;241m0.3\u001b[39m, relovir \u001b[38;5;241m=\u001b[39m \u001b[38;5;241m0.4\u001b[39m)\n",
      "\u001b[1;31mNameError\u001b[0m: name 'data' is not defined"
     ]
    }
   ],
   "source": [
    "data_new = datasplit_new(data, testsize = 0.3, relovir = 0.4)\n",
    "# data_new"
   ]
  },
  {
   "cell_type": "code",
   "execution_count": 73,
   "id": "08040cec-819c-4d10-b1f5-5ed211c68f67",
   "metadata": {
    "tags": []
   },
   "outputs": [
    {
     "ename": "AttributeError",
     "evalue": "'NoneType' object has no attribute 'columns'",
     "output_type": "error",
     "traceback": [
      "\u001b[1;31m---------------------------------------------------------------------------\u001b[0m",
      "\u001b[1;31mAttributeError\u001b[0m                            Traceback (most recent call last)",
      "Cell \u001b[1;32mIn[73], line 1\u001b[0m\n\u001b[1;32m----> 1\u001b[0m \u001b[43mprint_tweet_report\u001b[49m\u001b[43m(\u001b[49m\u001b[43mdata_new\u001b[49m\u001b[43m)\u001b[49m\n",
      "File \u001b[1;32m~\\Neural_Networks\\neural networks\\TweetDataReport.py:9\u001b[0m, in \u001b[0;36mprint_tweet_report\u001b[1;34m(df)\u001b[0m\n\u001b[0;32m      5\u001b[0m \u001b[38;5;28;01mdef\u001b[39;00m \u001b[38;5;21mprint_tweet_report\u001b[39m(df):\n\u001b[0;32m      6\u001b[0m \u001b[38;5;250m    \u001b[39m\u001b[38;5;124;03m\"\"\"\u001b[39;00m\n\u001b[0;32m      7\u001b[0m \u001b[38;5;124;03m    bla bla bla\u001b[39;00m\n\u001b[0;32m      8\u001b[0m \u001b[38;5;124;03m    \"\"\"\u001b[39;00m\n\u001b[1;32m----> 9\u001b[0m     column_names \u001b[38;5;241m=\u001b[39m \u001b[38;5;28mlist\u001b[39m(\u001b[43mdf\u001b[49m\u001b[38;5;241;43m.\u001b[39;49m\u001b[43mcolumns\u001b[49m)\n\u001b[0;32m     10\u001b[0m     subseries \u001b[38;5;241m=\u001b[39m  [df\u001b[38;5;241m.\u001b[39miloc[:,n] \u001b[38;5;28;01mfor\u001b[39;00m n \u001b[38;5;129;01min\u001b[39;00m \u001b[38;5;28mrange\u001b[39m(\u001b[38;5;241m0\u001b[39m,\u001b[38;5;28mlen\u001b[39m(column_names))]\n\u001b[0;32m     11\u001b[0m     \u001b[38;5;28;01mdef\u001b[39;00m \u001b[38;5;21mget_shapelen\u001b[39m(x):\n",
      "\u001b[1;31mAttributeError\u001b[0m: 'NoneType' object has no attribute 'columns'"
     ]
    }
   ],
   "source": [
    "print_tweet_report(data_new)"
   ]
  },
  {
   "cell_type": "code",
   "execution_count": 20,
   "id": "b970563c-0e3d-468f-9521-8d7a72edb713",
   "metadata": {
    "tags": []
   },
   "outputs": [
    {
     "data": {
      "text/html": [
       "<div>\n",
       "<style scoped>\n",
       "    .dataframe tbody tr th:only-of-type {\n",
       "        vertical-align: middle;\n",
       "    }\n",
       "\n",
       "    .dataframe tbody tr th {\n",
       "        vertical-align: top;\n",
       "    }\n",
       "\n",
       "    .dataframe thead th {\n",
       "        text-align: right;\n",
       "    }\n",
       "</style>\n",
       "<table border=\"1\" class=\"dataframe\">\n",
       "  <thead>\n",
       "    <tr style=\"text-align: right;\">\n",
       "      <th></th>\n",
       "      <th>relevance</th>\n",
       "      <th>count</th>\n",
       "      <th>balance</th>\n",
       "    </tr>\n",
       "  </thead>\n",
       "  <tbody>\n",
       "    <tr>\n",
       "      <th>0</th>\n",
       "      <td>0</td>\n",
       "      <td>1258</td>\n",
       "      <td>66.49%</td>\n",
       "    </tr>\n",
       "    <tr>\n",
       "      <th>1</th>\n",
       "      <td>1</td>\n",
       "      <td>634</td>\n",
       "      <td>33.51%</td>\n",
       "    </tr>\n",
       "  </tbody>\n",
       "</table>\n",
       "</div>"
      ],
      "text/plain": [
       "   relevance  count balance\n",
       "0          0   1258  66.49%\n",
       "1          1    634  33.51%"
      ]
     },
     "execution_count": 20,
     "metadata": {},
     "output_type": "execute_result"
    }
   ],
   "source": [
    "check_relevance_balance(data)"
   ]
  },
  {
   "cell_type": "code",
   "execution_count": 165,
   "id": "be497e76-3a18-40c6-93cc-c5429b0a56ae",
   "metadata": {},
   "outputs": [
    {
     "name": "stdout",
     "output_type": "stream",
     "text": [
      "(2, 3)\n"
     ]
    }
   ],
   "source": [
    "import numpy as np\n",
    "import pandas as pd\n",
    "\n",
    "# Example Pandas Series containing NumPy arrays\n",
    "my_series = pd.Series([np.array([1, 2, 3]), np.array([4, 5, 6])])\n",
    "\n",
    "# Use np.vstack() to stack the arrays vertically\n",
    "stacked_array = np.vstack(my_series)\n",
    "\n",
    "# The resulting array will have shape (1300, 768)\n",
    "print(stacked_array.shape)"
   ]
  },
  {
   "cell_type": "code",
   "execution_count": 166,
   "id": "a32d77d3-5d90-43b5-8e89-1f73388d4f9b",
   "metadata": {
    "tags": []
   },
   "outputs": [
    {
     "data": {
      "text/plain": [
       "0    [1, 2, 3]\n",
       "1    [4, 5, 6]\n",
       "dtype: object"
      ]
     },
     "execution_count": 166,
     "metadata": {},
     "output_type": "execute_result"
    }
   ],
   "source": [
    "my_series"
   ]
  },
  {
   "cell_type": "code",
   "execution_count": 167,
   "id": "f15c7a3c-87f0-44a1-9379-f46442a023e7",
   "metadata": {
    "tags": []
   },
   "outputs": [
    {
     "data": {
      "text/plain": [
       "array([[1, 2, 3],\n",
       "       [4, 5, 6]])"
      ]
     },
     "execution_count": 167,
     "metadata": {},
     "output_type": "execute_result"
    }
   ],
   "source": [
    "stacked_array"
   ]
  },
  {
   "cell_type": "code",
   "execution_count": null,
   "id": "599037f6-2c28-4de7-86a8-24dd95824374",
   "metadata": {},
   "outputs": [],
   "source": []
  }
 ],
 "metadata": {
  "kernelspec": {
   "display_name": "Python 3 (ipykernel)",
   "language": "python",
   "name": "python3"
  },
  "language_info": {
   "codemirror_mode": {
    "name": "ipython",
    "version": 3
   },
   "file_extension": ".py",
   "mimetype": "text/x-python",
   "name": "python",
   "nbconvert_exporter": "python",
   "pygments_lexer": "ipython3",
   "version": "3.9.18"
  }
 },
 "nbformat": 4,
 "nbformat_minor": 5
}
