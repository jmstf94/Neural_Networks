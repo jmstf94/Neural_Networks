{
 "cells": [
  {
   "cell_type": "code",
   "execution_count": 1,
   "id": "68ae900e-3091-4569-baba-a04ff40b8639",
   "metadata": {
    "tags": []
   },
   "outputs": [],
   "source": [
    "import pandas as pd\n",
    "import numpy as np\n",
    "\n",
    "import sys\n",
    "\n",
    "import pickle\n",
    "\n",
    "from transformers import AutoConfig, AutoTokenizer, TFAutoModel\n",
    "import tensorflow as tf\n",
    "import tensorflow_hub as hub\n",
    "from tensorflow.keras.models import Sequential\n",
    "from tensorflow.keras.layers import *\n",
    "from tensorflow.keras.optimizers import Adam\n",
    "\n",
    "import metrics\n",
    "\n",
    "from simpletransformers.language_representation import RepresentationModel\n",
    "\n",
    "from TweetDataReport import datasplit, print_tweet_report, check_relevance_balance, datasplit_new\n",
    "\n",
    "import time\n",
    "import itertools\n",
    "import warnings\n",
    "warnings.filterwarnings(\"ignore\")\n",
    "\n",
    "import matplotlib.pyplot as plt\n",
    "\n",
    "from IPython.display import clear_output\n",
    "\n",
    "import os\n",
    "import re\n",
    "\n",
    "from hyperopt import hp, fmin, tpe , pyll"
   ]
  },
  {
   "cell_type": "code",
   "execution_count": 2,
   "id": "786a75d6-fdaa-48a7-83da-5345dd767442",
   "metadata": {
    "tags": []
   },
   "outputs": [
    {
     "name": "stdout",
     "output_type": "stream",
     "text": [
      "Python Version:3.9.18 (main, Sep 11 2023, 14:09:26) [MSC v.1916 64 bit (AMD64)]\n",
      "TensorFlow Version: 2.10.0\n",
      "GPU is available\n",
      "CUDA Version: True\n"
     ]
    }
   ],
   "source": [
    "print(\"Python Version:\" + sys.version)\n",
    "print(\"TensorFlow Version:\", tf.__version__)\n",
    "if tf.test.gpu_device_name():\n",
    "    print(\"GPU is available\")\n",
    "else:\n",
    "    print(\"GPU is NOT available\")\n",
    "print(\"CUDA Version:\", tf.test.is_built_with_cuda())"
   ]
  },
  {
   "cell_type": "code",
   "execution_count": 3,
   "id": "167ebd18-9ca0-4979-b808-b340e826f1d5",
   "metadata": {
    "tags": []
   },
   "outputs": [],
   "source": [
    "# file = 'data/italian/00-dirty_dataset/feature_extractions/bert/dbmdz_bert-base-italian-cased.pkl'\n",
    "\n",
    "# with open(file, \"rb\") as file:\n",
    "#     WF = pickle.load(file)"
   ]
  },
  {
   "cell_type": "code",
   "execution_count": 4,
   "id": "da4ace83-271d-496a-853e-49a6949c7a83",
   "metadata": {
    "tags": []
   },
   "outputs": [],
   "source": [
    "# print_tweet_report(WF)"
   ]
  },
  {
   "cell_type": "code",
   "execution_count": 5,
   "id": "84f40341-808d-48e9-8d9f-08664434fed3",
   "metadata": {
    "tags": []
   },
   "outputs": [],
   "source": [
    "# check_relevance_balance(WF)"
   ]
  },
  {
   "cell_type": "code",
   "execution_count": 4,
   "id": "d931c4a0-b444-47cc-81b2-1b06e1b9f265",
   "metadata": {
    "tags": []
   },
   "outputs": [
    {
     "name": "stderr",
     "output_type": "stream",
     "text": [
      "Some weights of GPT2ForTextRepresentation were not initialized from the model checkpoint at GroNLP/gpt2-small-italian-embeddings and are newly initialized: ['transformer.gpt2.h.3.mlp.c_proj.bias', 'transformer.gpt2.h.2.mlp.c_proj.weight', 'transformer.gpt2.h.3.ln_1.bias', 'transformer.gpt2.h.5.ln_2.bias', 'transformer.gpt2.h.0.attn.c_attn.bias', 'transformer.gpt2.h.4.mlp.c_proj.weight', 'transformer.gpt2.h.2.mlp.c_proj.bias', 'transformer.gpt2.h.11.ln_2.bias', 'transformer.gpt2.h.10.attn.c_proj.bias', 'transformer.gpt2.h.11.ln_2.weight', 'transformer.gpt2.h.8.mlp.c_fc.weight', 'transformer.gpt2.ln_f.weight', 'transformer.gpt2.h.8.attn.c_attn.bias', 'transformer.gpt2.h.3.attn.c_attn.bias', 'transformer.gpt2.h.11.attn.c_proj.weight', 'transformer.gpt2.h.8.attn.c_proj.weight', 'transformer.gpt2.h.4.attn.c_attn.weight', 'transformer.gpt2.h.4.ln_2.bias', 'transformer.gpt2.h.7.attn.c_proj.weight', 'transformer.gpt2.h.9.ln_2.bias', 'transformer.gpt2.h.3.attn.c_attn.weight', 'transformer.gpt2.h.11.ln_1.bias', 'transformer.gpt2.h.5.attn.c_proj.bias', 'transformer.gpt2.h.8.ln_2.bias', 'transformer.gpt2.h.0.ln_2.bias', 'transformer.gpt2.h.10.mlp.c_proj.bias', 'transformer.gpt2.h.0.attn.c_attn.weight', 'transformer.gpt2.h.9.mlp.c_proj.bias', 'transformer.gpt2.h.1.mlp.c_fc.bias', 'transformer.gpt2.h.6.ln_1.weight', 'transformer.gpt2.h.9.attn.c_proj.bias', 'transformer.gpt2.h.7.ln_1.bias', 'transformer.gpt2.h.1.attn.c_attn.weight', 'transformer.gpt2.h.11.mlp.c_proj.bias', 'transformer.gpt2.h.1.attn.c_proj.weight', 'transformer.gpt2.h.7.attn.c_proj.bias', 'transformer.gpt2.h.5.mlp.c_fc.weight', 'transformer.gpt2.h.5.attn.c_proj.weight', 'transformer.gpt2.h.1.mlp.c_fc.weight', 'transformer.gpt2.h.10.mlp.c_fc.bias', 'transformer.gpt2.h.9.mlp.c_fc.weight', 'transformer.gpt2.h.4.attn.c_proj.weight', 'transformer.gpt2.h.3.ln_2.weight', 'transformer.gpt2.h.8.mlp.c_fc.bias', 'transformer.gpt2.h.7.attn.c_attn.weight', 'transformer.gpt2.h.9.mlp.c_fc.bias', 'transformer.gpt2.h.7.attn.c_attn.bias', 'transformer.gpt2.h.1.ln_2.weight', 'transformer.gpt2.h.11.mlp.c_fc.weight', 'transformer.gpt2.h.3.attn.c_proj.bias', 'transformer.gpt2.h.2.mlp.c_fc.bias', 'transformer.gpt2.h.3.ln_2.bias', 'transformer.gpt2.h.4.ln_1.bias', 'transformer.gpt2.h.5.mlp.c_proj.bias', 'transformer.gpt2.h.7.mlp.c_fc.bias', 'transformer.gpt2.h.0.ln_2.weight', 'transformer.gpt2.h.8.ln_1.bias', 'transformer.gpt2.h.9.ln_2.weight', 'transformer.gpt2.h.8.attn.c_proj.bias', 'transformer.gpt2.h.3.mlp.c_fc.bias', 'transformer.gpt2.wte.weight', 'transformer.gpt2.h.2.ln_2.bias', 'transformer.gpt2.h.6.attn.c_proj.weight', 'transformer.gpt2.h.6.ln_2.bias', 'transformer.gpt2.h.0.ln_1.bias', 'transformer.gpt2.h.10.attn.c_proj.weight', 'transformer.gpt2.h.5.attn.c_attn.bias', 'transformer.gpt2.h.2.attn.c_attn.bias', 'transformer.gpt2.wpe.weight', 'transformer.gpt2.h.8.ln_1.weight', 'transformer.gpt2.h.8.ln_2.weight', 'transformer.gpt2.h.10.mlp.c_fc.weight', 'transformer.gpt2.h.11.attn.c_attn.weight', 'transformer.gpt2.h.5.mlp.c_fc.bias', 'transformer.gpt2.ln_f.bias', 'transformer.gpt2.h.6.attn.c_attn.weight', 'transformer.gpt2.h.9.attn.c_attn.weight', 'transformer.gpt2.h.0.attn.c_proj.weight', 'transformer.gpt2.h.5.attn.c_attn.weight', 'transformer.gpt2.h.10.attn.c_attn.weight', 'transformer.gpt2.h.8.mlp.c_proj.weight', 'transformer.gpt2.h.7.mlp.c_proj.weight', 'transformer.gpt2.h.4.attn.c_proj.bias', 'transformer.gpt2.h.6.attn.c_attn.bias', 'transformer.gpt2.h.5.ln_1.bias', 'transformer.gpt2.h.5.mlp.c_proj.weight', 'transformer.gpt2.h.4.mlp.c_fc.weight', 'transformer.gpt2.h.6.mlp.c_proj.weight', 'transformer.gpt2.h.4.mlp.c_proj.bias', 'transformer.gpt2.h.9.attn.c_attn.bias', 'transformer.gpt2.h.3.mlp.c_proj.weight', 'transformer.gpt2.h.9.mlp.c_proj.weight', 'transformer.gpt2.h.0.mlp.c_proj.weight', 'transformer.gpt2.h.2.mlp.c_fc.weight', 'transformer.gpt2.h.11.mlp.c_fc.bias', 'transformer.gpt2.h.11.attn.c_proj.bias', 'transformer.gpt2.h.4.attn.c_attn.bias', 'transformer.gpt2.h.1.mlp.c_proj.bias', 'transformer.gpt2.h.1.attn.c_proj.bias', 'transformer.gpt2.h.1.ln_1.weight', 'transformer.gpt2.h.9.ln_1.bias', 'transformer.gpt2.h.2.ln_1.bias', 'transformer.gpt2.h.1.mlp.c_proj.weight', 'transformer.gpt2.h.6.ln_1.bias', 'transformer.gpt2.h.5.ln_2.weight', 'transformer.gpt2.h.6.mlp.c_fc.weight', 'transformer.gpt2.h.0.mlp.c_proj.bias', 'transformer.gpt2.h.11.attn.c_attn.bias', 'transformer.gpt2.h.11.ln_1.weight', 'transformer.gpt2.h.7.ln_2.bias', 'transformer.gpt2.h.1.ln_2.bias', 'transformer.gpt2.h.10.ln_2.weight', 'transformer.gpt2.h.2.attn.c_proj.weight', 'transformer.gpt2.h.4.ln_2.weight', 'transformer.gpt2.h.10.mlp.c_proj.weight', 'transformer.gpt2.h.6.mlp.c_proj.bias', 'transformer.gpt2.h.10.attn.c_attn.bias', 'transformer.gpt2.h.0.attn.c_proj.bias', 'transformer.gpt2.h.11.mlp.c_proj.weight', 'transformer.gpt2.h.4.ln_1.weight', 'transformer.gpt2.h.6.attn.c_proj.bias', 'transformer.gpt2.h.2.attn.c_proj.bias', 'transformer.gpt2.h.3.mlp.c_fc.weight', 'transformer.gpt2.h.2.ln_2.weight', 'transformer.gpt2.h.8.attn.c_attn.weight', 'transformer.gpt2.h.1.ln_1.bias', 'transformer.gpt2.h.0.mlp.c_fc.bias', 'transformer.gpt2.h.2.attn.c_attn.weight', 'transformer.gpt2.h.10.ln_2.bias', 'transformer.gpt2.h.2.ln_1.weight', 'transformer.gpt2.h.9.ln_1.weight', 'transformer.gpt2.h.8.mlp.c_proj.bias', 'transformer.gpt2.h.3.attn.c_proj.weight', 'transformer.gpt2.h.6.ln_2.weight', 'transformer.gpt2.h.4.mlp.c_fc.bias', 'transformer.gpt2.h.1.attn.c_attn.bias', 'transformer.gpt2.h.5.ln_1.weight', 'transformer.gpt2.h.9.attn.c_proj.weight', 'transformer.gpt2.h.7.ln_1.weight', 'transformer.gpt2.h.7.ln_2.weight', 'transformer.gpt2.h.6.mlp.c_fc.bias', 'transformer.gpt2.h.10.ln_1.weight', 'transformer.gpt2.h.0.ln_1.weight', 'transformer.gpt2.h.10.ln_1.bias', 'transformer.gpt2.h.0.mlp.c_fc.weight', 'transformer.gpt2.h.7.mlp.c_fc.weight', 'transformer.gpt2.h.3.ln_1.weight', 'transformer.gpt2.h.7.mlp.c_proj.bias']\n",
      "You should probably TRAIN this model on a down-stream task to be able to use it for predictions and inference.\n"
     ]
    },
    {
     "name": "stdout",
     "output_type": "stream",
     "text": [
      "data/italian/04-twisted_remover_with_emoticons/feature_extractions/gpt2/GroNLP_gpt2-small-italian-embeddings.pkl\n"
     ]
    }
   ],
   "source": [
    "language =  'italian'\n",
    "#language =  'spanish'\n",
    "#language =  'greek'\n",
    "\n",
    "cleanings = ['00-dirty_dataset','01-basic_remover','02-basic_remover_without_stopwords','03-basic_remover_without_stopwords_with_stemming','04-twisted_remover_with_emoticons']\n",
    "\n",
    "#case = 'bert'\n",
    "#case = 'roberta'\n",
    "case = 'gpt2'\n",
    "\n",
    " reps_models = [\"dbmdz/bert-base-italian-uncased\",\"dbmdz/bert-base-italian-cased\",\"dbmdz/bert-base-italian-xxl-cased\",\"dbmdz/bert-base-italian-xxl-uncased\"]\n",
    "# reps_models = ['osiria/roberta-base-italian']\n",
    "# reps_models = [\"GroNLP/gpt2-small-italian\",\"GroNLP/gpt2-medium-italian-embeddings\",\"GroNLP/gpt2-small-italian-embeddings\"]\n",
    "\n",
    "for combo in itertools.product(cleanings,reps_models):\n",
    "    \n",
    "    clear_output(wait=True)\n",
    "    \n",
    "    with open('data/'+ language +'/'+ combo[0] +'/data.pkl','rb') as file:\n",
    "        WF = pickle.load(file)\n",
    "    \n",
    "    pretrained_model = RepresentationModel(model_type=case,model_name=combo[1],use_cuda=False) \n",
    "    sentence_vectors = pretrained_model.encode_sentences(WF['text'], combine_strategy=\"mean\")\n",
    "    sentence_vectors = np.split(sentence_vectors,sentence_vectors.shape[0])\n",
    "    pandasseries = pd.Series(sentence_vectors)\n",
    "    WF['reps'] = pandasseries.copy()\n",
    "    data = pd.DataFrame()\n",
    "    data['reps'] = WF['reps'].copy()\n",
    "    data['relevance'] = WF['relevance'].copy()\n",
    "    \n",
    "    link = 'data/'+ language +'/'+ combo[0] +'/feature_extractions/'+case+'/'+ str(combo[1]).replace('/', '_')+'.pkl'\n",
    "    \n",
    "    print(link)\n",
    "    \n",
    "    with open(link , 'wb') as file:\n",
    "        pickle.dump(data, file)"
   ]
  },
  {
   "cell_type": "code",
   "execution_count": 4,
   "id": "4635de91-bf56-4022-8c1a-0b2bcd878d21",
   "metadata": {
    "tags": []
   },
   "outputs": [
    {
     "name": "stderr",
     "output_type": "stream",
     "text": [
      "Some weights of GPT2ForTextRepresentation were not initialized from the model checkpoint at DeepESP/gpt2-spanish-medium and are newly initialized: ['transformer.gpt2.h.23.ln_2.weight', 'transformer.gpt2.h.19.attn.c_proj.bias', 'transformer.gpt2.h.3.mlp.c_fc.bias', 'transformer.gpt2.wpe.weight', 'transformer.gpt2.h.0.attn.c_attn.weight', 'transformer.gpt2.h.9.mlp.c_proj.bias', 'transformer.gpt2.h.13.attn.c_proj.weight', 'transformer.gpt2.wte.weight', 'transformer.gpt2.h.7.mlp.c_proj.weight', 'transformer.gpt2.h.18.attn.c_proj.weight', 'transformer.gpt2.h.2.ln_2.bias', 'transformer.gpt2.h.2.attn.c_proj.weight', 'transformer.gpt2.h.17.attn.c_proj.weight', 'transformer.gpt2.h.23.ln_1.bias', 'transformer.gpt2.h.6.attn.c_proj.weight', 'transformer.gpt2.h.7.mlp.c_fc.weight', 'transformer.gpt2.h.18.attn.c_attn.bias', 'transformer.gpt2.h.12.attn.c_attn.weight', 'transformer.gpt2.h.10.mlp.c_proj.bias', 'transformer.gpt2.h.12.mlp.c_proj.weight', 'transformer.gpt2.h.18.attn.c_proj.bias', 'transformer.gpt2.h.21.mlp.c_proj.bias', 'transformer.gpt2.h.5.attn.c_proj.bias', 'transformer.gpt2.h.17.ln_1.bias', 'transformer.gpt2.h.0.attn.c_proj.bias', 'transformer.gpt2.h.7.ln_1.bias', 'transformer.gpt2.h.8.ln_1.bias', 'transformer.gpt2.h.7.ln_2.bias', 'transformer.gpt2.h.2.ln_1.bias', 'transformer.gpt2.h.17.ln_2.weight', 'transformer.gpt2.h.17.mlp.c_fc.weight', 'transformer.gpt2.h.0.mlp.c_proj.bias', 'transformer.gpt2.h.22.attn.c_attn.bias', 'transformer.gpt2.h.14.ln_1.bias', 'transformer.gpt2.h.10.mlp.c_proj.weight', 'transformer.gpt2.h.0.ln_1.bias', 'transformer.gpt2.h.20.ln_1.bias', 'transformer.gpt2.h.18.mlp.c_fc.bias', 'transformer.gpt2.h.15.ln_2.bias', 'transformer.gpt2.h.14.attn.c_attn.weight', 'transformer.gpt2.h.4.ln_1.weight', 'transformer.gpt2.h.0.ln_1.weight', 'transformer.gpt2.h.1.attn.c_attn.weight', 'transformer.gpt2.h.20.attn.c_attn.weight', 'transformer.gpt2.h.9.ln_1.bias', 'transformer.gpt2.h.6.mlp.c_proj.weight', 'transformer.gpt2.h.2.attn.c_proj.bias', 'transformer.gpt2.h.9.ln_2.weight', 'transformer.gpt2.h.23.ln_2.bias', 'transformer.gpt2.h.3.attn.c_proj.weight', 'transformer.gpt2.h.23.mlp.c_proj.bias', 'transformer.gpt2.h.2.attn.c_attn.bias', 'transformer.gpt2.h.16.ln_1.weight', 'transformer.gpt2.h.13.ln_1.bias', 'transformer.gpt2.h.8.ln_1.weight', 'transformer.gpt2.h.16.attn.c_attn.weight', 'transformer.gpt2.h.18.mlp.c_proj.weight', 'transformer.gpt2.h.21.ln_2.bias', 'transformer.gpt2.h.23.mlp.c_fc.bias', 'transformer.gpt2.h.5.ln_1.bias', 'transformer.gpt2.h.13.attn.c_proj.bias', 'transformer.gpt2.h.17.mlp.c_proj.weight', 'transformer.gpt2.h.5.mlp.c_fc.bias', 'transformer.gpt2.h.0.ln_2.weight', 'transformer.gpt2.h.19.attn.c_attn.weight', 'transformer.gpt2.h.7.attn.c_attn.bias', 'transformer.gpt2.h.6.mlp.c_fc.weight', 'transformer.gpt2.h.13.ln_1.weight', 'transformer.gpt2.h.6.ln_2.weight', 'transformer.gpt2.h.21.attn.c_proj.weight', 'transformer.gpt2.h.10.ln_2.bias', 'transformer.gpt2.h.21.ln_2.weight', 'transformer.gpt2.h.3.attn.c_attn.bias', 'transformer.gpt2.h.11.mlp.c_fc.weight', 'transformer.gpt2.h.8.mlp.c_fc.weight', 'transformer.gpt2.h.14.ln_2.bias', 'transformer.gpt2.h.2.ln_2.weight', 'transformer.gpt2.h.3.mlp.c_fc.weight', 'transformer.gpt2.h.23.attn.c_attn.weight', 'transformer.gpt2.h.17.attn.c_attn.weight', 'transformer.gpt2.h.8.attn.c_proj.bias', 'transformer.gpt2.h.16.ln_1.bias', 'transformer.gpt2.h.7.mlp.c_fc.bias', 'transformer.gpt2.h.9.mlp.c_fc.bias', 'transformer.gpt2.h.3.attn.c_proj.bias', 'transformer.gpt2.h.14.attn.c_proj.bias', 'transformer.gpt2.h.6.ln_1.bias', 'transformer.gpt2.h.1.ln_1.weight', 'transformer.gpt2.h.11.ln_2.bias', 'transformer.gpt2.h.10.attn.c_attn.bias', 'transformer.gpt2.h.10.ln_2.weight', 'transformer.gpt2.h.13.attn.c_attn.weight', 'transformer.gpt2.h.18.ln_2.bias', 'transformer.gpt2.h.7.attn.c_proj.weight', 'transformer.gpt2.h.5.mlp.c_proj.weight', 'transformer.gpt2.h.11.attn.c_proj.weight', 'transformer.gpt2.h.5.ln_2.weight', 'transformer.gpt2.h.8.attn.c_attn.weight', 'transformer.gpt2.h.12.ln_2.weight', 'transformer.gpt2.h.9.mlp.c_proj.weight', 'transformer.gpt2.h.12.attn.c_attn.bias', 'transformer.gpt2.h.12.attn.c_proj.bias', 'transformer.gpt2.h.14.mlp.c_fc.bias', 'transformer.gpt2.h.4.attn.c_attn.weight', 'transformer.gpt2.h.17.mlp.c_proj.bias', 'transformer.gpt2.h.22.ln_1.weight', 'transformer.gpt2.h.7.attn.c_proj.bias', 'transformer.gpt2.h.22.mlp.c_proj.bias', 'transformer.gpt2.h.11.attn.c_proj.bias', 'transformer.gpt2.h.6.mlp.c_fc.bias', 'transformer.gpt2.h.6.attn.c_attn.bias', 'transformer.gpt2.h.14.ln_1.weight', 'transformer.gpt2.h.9.ln_2.bias', 'transformer.gpt2.h.15.ln_1.weight', 'transformer.gpt2.h.19.mlp.c_fc.weight', 'transformer.gpt2.h.3.ln_2.bias', 'transformer.gpt2.h.4.mlp.c_fc.bias', 'transformer.gpt2.h.17.attn.c_attn.bias', 'transformer.gpt2.h.20.ln_2.weight', 'transformer.gpt2.ln_f.weight', 'transformer.gpt2.h.17.ln_2.bias', 'transformer.gpt2.h.1.ln_2.bias', 'transformer.gpt2.h.13.mlp.c_proj.weight', 'transformer.gpt2.h.7.attn.c_attn.weight', 'transformer.gpt2.h.4.attn.c_proj.bias', 'transformer.gpt2.h.23.attn.c_attn.bias', 'transformer.gpt2.h.22.ln_2.bias', 'transformer.gpt2.h.4.mlp.c_fc.weight', 'transformer.gpt2.h.18.ln_1.bias', 'transformer.gpt2.h.7.ln_2.weight', 'transformer.gpt2.h.9.ln_1.weight', 'transformer.gpt2.h.12.ln_1.weight', 'transformer.gpt2.h.13.mlp.c_proj.bias', 'transformer.gpt2.h.14.mlp.c_proj.weight', 'transformer.gpt2.h.5.attn.c_attn.weight', 'transformer.gpt2.h.5.mlp.c_proj.bias', 'transformer.gpt2.h.12.attn.c_proj.weight', 'transformer.gpt2.h.11.mlp.c_proj.weight', 'transformer.gpt2.h.0.mlp.c_fc.weight', 'transformer.gpt2.h.7.ln_1.weight', 'transformer.gpt2.h.4.ln_2.bias', 'transformer.gpt2.h.7.mlp.c_proj.bias', 'transformer.gpt2.h.13.mlp.c_fc.weight', 'transformer.gpt2.h.19.ln_2.bias', 'transformer.gpt2.h.15.ln_2.weight', 'transformer.gpt2.h.1.attn.c_proj.weight', 'transformer.gpt2.h.18.mlp.c_fc.weight', 'transformer.gpt2.h.11.ln_1.bias', 'transformer.gpt2.h.3.ln_1.weight', 'transformer.gpt2.h.21.attn.c_attn.weight', 'transformer.gpt2.h.8.mlp.c_proj.bias', 'transformer.gpt2.h.1.ln_2.weight', 'transformer.gpt2.h.22.mlp.c_fc.bias', 'transformer.gpt2.h.0.ln_2.bias', 'transformer.gpt2.h.16.attn.c_proj.bias', 'transformer.gpt2.h.10.ln_1.bias', 'transformer.gpt2.h.8.ln_2.bias', 'transformer.gpt2.h.9.attn.c_proj.weight', 'transformer.gpt2.h.10.mlp.c_fc.bias', 'transformer.gpt2.h.4.ln_1.bias', 'transformer.gpt2.h.15.mlp.c_fc.weight', 'transformer.gpt2.h.18.ln_2.weight', 'transformer.gpt2.h.22.attn.c_proj.bias', 'transformer.gpt2.h.23.mlp.c_proj.weight', 'transformer.gpt2.h.16.mlp.c_proj.bias', 'transformer.gpt2.h.13.mlp.c_fc.bias', 'transformer.gpt2.h.2.mlp.c_fc.weight', 'transformer.gpt2.h.12.mlp.c_fc.bias', 'transformer.gpt2.h.8.attn.c_attn.bias', 'transformer.gpt2.h.6.mlp.c_proj.bias', 'transformer.gpt2.h.21.attn.c_attn.bias', 'transformer.gpt2.h.17.ln_1.weight', 'transformer.gpt2.h.13.attn.c_attn.bias', 'transformer.gpt2.h.15.ln_1.bias', 'transformer.gpt2.h.21.mlp.c_fc.bias', 'transformer.gpt2.h.23.attn.c_proj.weight', 'transformer.gpt2.h.11.attn.c_attn.bias', 'transformer.gpt2.h.1.mlp.c_proj.weight', 'transformer.gpt2.h.14.attn.c_proj.weight', 'transformer.gpt2.h.4.ln_2.weight', 'transformer.gpt2.h.9.attn.c_attn.bias', 'transformer.gpt2.h.16.ln_2.weight', 'transformer.gpt2.h.19.ln_2.weight', 'transformer.gpt2.h.1.mlp.c_fc.bias', 'transformer.gpt2.h.20.attn.c_proj.weight', 'transformer.gpt2.h.22.ln_1.bias', 'transformer.gpt2.h.6.attn.c_attn.weight', 'transformer.gpt2.h.4.attn.c_attn.bias', 'transformer.gpt2.h.8.mlp.c_fc.bias', 'transformer.gpt2.h.18.attn.c_attn.weight', 'transformer.gpt2.h.21.mlp.c_proj.weight', 'transformer.gpt2.h.22.mlp.c_proj.weight', 'transformer.gpt2.h.9.mlp.c_fc.weight', 'transformer.gpt2.h.20.attn.c_attn.bias', 'transformer.gpt2.h.13.ln_2.weight', 'transformer.gpt2.h.2.mlp.c_proj.bias', 'transformer.gpt2.h.21.ln_1.weight', 'transformer.gpt2.h.2.mlp.c_fc.bias', 'transformer.gpt2.h.2.ln_1.weight', 'transformer.gpt2.h.12.ln_2.bias', 'transformer.gpt2.h.20.ln_1.weight', 'transformer.gpt2.h.0.attn.c_proj.weight', 'transformer.gpt2.h.12.mlp.c_fc.weight', 'transformer.gpt2.h.11.mlp.c_proj.bias', 'transformer.gpt2.h.10.mlp.c_fc.weight', 'transformer.gpt2.h.8.ln_2.weight', 'transformer.gpt2.h.20.attn.c_proj.bias', 'transformer.gpt2.h.20.ln_2.bias', 'transformer.gpt2.h.14.mlp.c_fc.weight', 'transformer.gpt2.h.15.attn.c_attn.weight', 'transformer.gpt2.h.0.attn.c_attn.bias', 'transformer.gpt2.h.1.mlp.c_proj.bias', 'transformer.gpt2.h.3.mlp.c_proj.bias', 'transformer.gpt2.h.16.mlp.c_fc.weight', 'transformer.gpt2.h.16.mlp.c_proj.weight', 'transformer.gpt2.h.11.ln_2.weight', 'transformer.gpt2.h.22.mlp.c_fc.weight', 'transformer.gpt2.h.5.ln_2.bias', 'transformer.gpt2.h.6.ln_1.weight', 'transformer.gpt2.h.19.ln_1.bias', 'transformer.gpt2.h.0.mlp.c_fc.bias', 'transformer.gpt2.h.4.mlp.c_proj.weight', 'transformer.gpt2.h.4.attn.c_proj.weight', 'transformer.gpt2.h.3.ln_1.bias', 'transformer.gpt2.h.11.mlp.c_fc.bias', 'transformer.gpt2.h.15.attn.c_proj.bias', 'transformer.gpt2.h.15.mlp.c_proj.weight', 'transformer.gpt2.h.16.attn.c_attn.bias', 'transformer.gpt2.h.16.mlp.c_fc.bias', 'transformer.gpt2.h.17.attn.c_proj.bias', 'transformer.gpt2.h.14.attn.c_attn.bias', 'transformer.gpt2.h.9.attn.c_attn.weight', 'transformer.gpt2.h.19.mlp.c_proj.weight', 'transformer.gpt2.h.6.attn.c_proj.bias', 'transformer.gpt2.h.3.ln_2.weight', 'transformer.gpt2.h.16.ln_2.bias', 'transformer.gpt2.h.11.attn.c_attn.weight', 'transformer.gpt2.h.2.mlp.c_proj.weight', 'transformer.gpt2.h.6.ln_2.bias', 'transformer.gpt2.h.18.mlp.c_proj.bias', 'transformer.gpt2.h.21.ln_1.bias', 'transformer.gpt2.h.22.attn.c_attn.weight', 'transformer.gpt2.h.23.attn.c_proj.bias', 'transformer.gpt2.h.10.attn.c_proj.bias', 'transformer.gpt2.h.5.mlp.c_fc.weight', 'transformer.gpt2.h.15.attn.c_attn.bias', 'transformer.gpt2.h.15.attn.c_proj.weight', 'transformer.gpt2.h.8.attn.c_proj.weight', 'transformer.gpt2.h.15.mlp.c_fc.bias', 'transformer.gpt2.h.22.ln_2.weight', 'transformer.gpt2.h.1.attn.c_proj.bias', 'transformer.gpt2.h.19.attn.c_proj.weight', 'transformer.gpt2.h.1.ln_1.bias', 'transformer.gpt2.h.11.ln_1.weight', 'transformer.gpt2.h.3.mlp.c_proj.weight', 'transformer.gpt2.h.5.attn.c_attn.bias', 'transformer.gpt2.h.23.mlp.c_fc.weight', 'transformer.gpt2.h.23.ln_1.weight', 'transformer.gpt2.h.5.ln_1.weight', 'transformer.gpt2.h.19.ln_1.weight', 'transformer.gpt2.h.0.mlp.c_proj.weight', 'transformer.gpt2.h.20.mlp.c_proj.weight', 'transformer.gpt2.h.2.attn.c_attn.weight', 'transformer.gpt2.h.10.attn.c_attn.weight', 'transformer.gpt2.h.10.ln_1.weight', 'transformer.gpt2.h.19.mlp.c_proj.bias', 'transformer.gpt2.h.20.mlp.c_fc.bias', 'transformer.gpt2.h.3.attn.c_attn.weight', 'transformer.gpt2.h.4.mlp.c_proj.bias', 'transformer.gpt2.h.13.ln_2.bias', 'transformer.gpt2.h.14.ln_2.weight', 'transformer.gpt2.h.17.mlp.c_fc.bias', 'transformer.gpt2.h.18.ln_1.weight', 'transformer.gpt2.h.9.attn.c_proj.bias', 'transformer.gpt2.h.12.ln_1.bias', 'transformer.gpt2.h.1.mlp.c_fc.weight', 'transformer.gpt2.h.19.attn.c_attn.bias', 'transformer.gpt2.h.20.mlp.c_proj.bias', 'transformer.gpt2.h.12.mlp.c_proj.bias', 'transformer.gpt2.h.15.mlp.c_proj.bias', 'transformer.gpt2.h.19.mlp.c_fc.bias', 'transformer.gpt2.h.10.attn.c_proj.weight', 'transformer.gpt2.h.14.mlp.c_proj.bias', 'transformer.gpt2.h.21.attn.c_proj.bias', 'transformer.gpt2.h.5.attn.c_proj.weight', 'transformer.gpt2.h.16.attn.c_proj.weight', 'transformer.gpt2.h.20.mlp.c_fc.weight', 'transformer.gpt2.h.22.attn.c_proj.weight', 'transformer.gpt2.h.1.attn.c_attn.bias', 'transformer.gpt2.ln_f.bias', 'transformer.gpt2.h.8.mlp.c_proj.weight', 'transformer.gpt2.h.21.mlp.c_fc.weight']\n",
      "You should probably TRAIN this model on a down-stream task to be able to use it for predictions and inference.\n"
     ]
    },
    {
     "name": "stdout",
     "output_type": "stream",
     "text": [
      "data/spanish/04-twisted_remover_with_emoticons/feature_extractions/gpt2/DeepESP_gpt2-spanish-medium.pkl\n"
     ]
    }
   ],
   "source": [
    "#language =  'italian'\n",
    "language =  'spanish'\n",
    "#language =  'greek'\n",
    "\n",
    "cleanings = ['00-dirty_dataset','01-basic_remover','02-basic_remover_without_stopwords','03-basic_remover_without_stopwords_with_stemming','04-twisted_remover_with_emoticons']\n",
    "\n",
    "#case = 'bert'\n",
    "#case = 'roberta'\n",
    "case = 'gpt2'\n",
    "\n",
    "#reps_models = [\"dccuchile/bert-base-spanish-wwm-uncased\",\"dccuchile/bert-base-spanish-wwm-cased\",\"Geotrend/bert-base-es-cased\",\"dccuchile/tulio-chilean-spanish-bert\",\"dccuchile/patana-chilean-spanish-bert\"]\n",
    "#reps_models = [\"MMG/mlm-spanish-roberta-base\",\"llange/xlm-roberta-large-spanish\"]\n",
    "reps_models = [\"DeepESP/gpt2-spanish\",\"datificate/gpt2-small-spanish\",\"mrm8488/spanish-gpt2\",\"DeepESP/gpt2-spanish-medium\"]\n",
    "\n",
    "for combo in itertools.product(cleanings,reps_models):\n",
    "    \n",
    "    clear_output(wait=True)\n",
    "    \n",
    "    with open('data/'+ language +'/'+ combo[0] +'/data.pkl','rb') as file:\n",
    "        WF = pickle.load(file)\n",
    "    \n",
    "    pretrained_model = RepresentationModel(model_type=case,model_name=combo[1],use_cuda=False) \n",
    "    sentence_vectors = pretrained_model.encode_sentences(WF['text'], combine_strategy=\"mean\")\n",
    "    sentence_vectors = np.split(sentence_vectors,sentence_vectors.shape[0])\n",
    "    pandasseries = pd.Series(sentence_vectors)\n",
    "    WF['reps'] = pandasseries.copy()\n",
    "    data = pd.DataFrame()\n",
    "    data['reps'] = WF['reps'].copy()\n",
    "    data['relevance'] = WF['relevance'].copy()\n",
    "\n",
    "    link = 'data/'+ language +'/'+ combo[0] +'/feature_extractions/'+case+'/'+ str(combo[1]).replace('/', '_')+'.pkl'\n",
    "    \n",
    "    print(link)\n",
    "    \n",
    "    with open(link , 'wb') as file:\n",
    "        pickle.dump(data, file)"
   ]
  },
  {
   "cell_type": "code",
   "execution_count": 9,
   "id": "a81fa9fd-91b1-48f0-9a3a-82a93bc1d718",
   "metadata": {
    "tags": []
   },
   "outputs": [
    {
     "name": "stderr",
     "output_type": "stream",
     "text": [
      "Some weights of GPT2ForTextRepresentation were not initialized from the model checkpoint at ClassCat/gpt2-small-greek-v2 and are newly initialized: ['transformer.gpt2.h.3.mlp.c_fc.bias', 'transformer.gpt2.wpe.weight', 'transformer.gpt2.h.0.attn.c_attn.weight', 'transformer.gpt2.wte.weight', 'transformer.gpt2.h.7.mlp.c_proj.weight', 'transformer.gpt2.h.2.ln_2.bias', 'transformer.gpt2.h.2.attn.c_proj.weight', 'transformer.gpt2.h.6.attn.c_proj.weight', 'transformer.gpt2.h.7.mlp.c_fc.weight', 'transformer.gpt2.h.5.attn.c_proj.bias', 'transformer.gpt2.h.0.attn.c_proj.bias', 'transformer.gpt2.h.7.ln_1.bias', 'transformer.gpt2.h.7.ln_2.bias', 'transformer.gpt2.h.2.ln_1.bias', 'transformer.gpt2.h.0.mlp.c_proj.bias', 'transformer.gpt2.h.0.ln_1.bias', 'transformer.gpt2.h.4.ln_1.weight', 'transformer.gpt2.h.0.ln_1.weight', 'transformer.gpt2.h.1.attn.c_attn.weight', 'transformer.gpt2.h.6.mlp.c_proj.weight', 'transformer.gpt2.h.2.attn.c_proj.bias', 'transformer.gpt2.h.3.attn.c_proj.weight', 'transformer.gpt2.h.2.attn.c_attn.bias', 'transformer.gpt2.h.5.ln_1.bias', 'transformer.gpt2.h.5.mlp.c_fc.bias', 'transformer.gpt2.h.0.ln_2.weight', 'transformer.gpt2.h.7.attn.c_attn.bias', 'transformer.gpt2.h.6.mlp.c_fc.weight', 'transformer.gpt2.h.6.ln_2.weight', 'transformer.gpt2.h.3.attn.c_attn.bias', 'transformer.gpt2.h.2.ln_2.weight', 'transformer.gpt2.h.3.mlp.c_fc.weight', 'transformer.gpt2.h.7.mlp.c_fc.bias', 'transformer.gpt2.h.3.attn.c_proj.bias', 'transformer.gpt2.h.6.ln_1.bias', 'transformer.gpt2.h.1.ln_1.weight', 'transformer.gpt2.h.7.attn.c_proj.weight', 'transformer.gpt2.h.5.mlp.c_proj.weight', 'transformer.gpt2.h.5.ln_2.weight', 'transformer.gpt2.h.4.attn.c_attn.weight', 'transformer.gpt2.h.7.attn.c_proj.bias', 'transformer.gpt2.h.6.mlp.c_fc.bias', 'transformer.gpt2.h.6.attn.c_attn.bias', 'transformer.gpt2.h.3.ln_2.bias', 'transformer.gpt2.h.4.mlp.c_fc.bias', 'transformer.gpt2.ln_f.weight', 'transformer.gpt2.h.1.ln_2.bias', 'transformer.gpt2.h.7.attn.c_attn.weight', 'transformer.gpt2.h.4.attn.c_proj.bias', 'transformer.gpt2.h.4.mlp.c_fc.weight', 'transformer.gpt2.h.7.ln_2.weight', 'transformer.gpt2.h.5.attn.c_attn.weight', 'transformer.gpt2.h.5.mlp.c_proj.bias', 'transformer.gpt2.h.0.mlp.c_fc.weight', 'transformer.gpt2.h.7.mlp.c_proj.bias', 'transformer.gpt2.h.7.ln_1.weight', 'transformer.gpt2.h.4.ln_2.bias', 'transformer.gpt2.h.1.attn.c_proj.weight', 'transformer.gpt2.h.3.ln_1.weight', 'transformer.gpt2.h.1.ln_2.weight', 'transformer.gpt2.h.0.ln_2.bias', 'transformer.gpt2.h.4.ln_1.bias', 'transformer.gpt2.h.2.mlp.c_fc.weight', 'transformer.gpt2.h.6.mlp.c_proj.bias', 'transformer.gpt2.h.1.mlp.c_proj.weight', 'transformer.gpt2.h.4.ln_2.weight', 'transformer.gpt2.h.1.mlp.c_fc.bias', 'transformer.gpt2.h.6.attn.c_attn.weight', 'transformer.gpt2.h.4.attn.c_attn.bias', 'transformer.gpt2.h.2.mlp.c_proj.bias', 'transformer.gpt2.h.2.mlp.c_fc.bias', 'transformer.gpt2.h.2.ln_1.weight', 'transformer.gpt2.h.0.attn.c_proj.weight', 'transformer.gpt2.h.0.attn.c_attn.bias', 'transformer.gpt2.h.1.mlp.c_proj.bias', 'transformer.gpt2.h.3.mlp.c_proj.bias', 'transformer.gpt2.h.5.ln_2.bias', 'transformer.gpt2.h.6.ln_1.weight', 'transformer.gpt2.h.0.mlp.c_fc.bias', 'transformer.gpt2.h.4.mlp.c_proj.weight', 'transformer.gpt2.h.4.attn.c_proj.weight', 'transformer.gpt2.h.3.ln_1.bias', 'transformer.gpt2.h.6.attn.c_proj.bias', 'transformer.gpt2.h.3.ln_2.weight', 'transformer.gpt2.h.2.mlp.c_proj.weight', 'transformer.gpt2.h.6.ln_2.bias', 'transformer.gpt2.h.5.mlp.c_fc.weight', 'transformer.gpt2.h.1.attn.c_proj.bias', 'transformer.gpt2.h.1.ln_1.bias', 'transformer.gpt2.h.3.mlp.c_proj.weight', 'transformer.gpt2.h.5.attn.c_attn.bias', 'transformer.gpt2.h.5.ln_1.weight', 'transformer.gpt2.h.0.mlp.c_proj.weight', 'transformer.gpt2.h.2.attn.c_attn.weight', 'transformer.gpt2.h.3.attn.c_attn.weight', 'transformer.gpt2.h.4.mlp.c_proj.bias', 'transformer.gpt2.h.1.mlp.c_fc.weight', 'transformer.gpt2.h.5.attn.c_proj.weight', 'transformer.gpt2.h.1.attn.c_attn.bias', 'transformer.gpt2.ln_f.bias']\n",
      "You should probably TRAIN this model on a down-stream task to be able to use it for predictions and inference.\n"
     ]
    },
    {
     "name": "stdout",
     "output_type": "stream",
     "text": [
      "data/greek/04-twisted_remover_with_emoticons/feature_extractions/gpt2/ClassCat_gpt2-small-greek-v2.pkl\n"
     ]
    }
   ],
   "source": [
    "#language =  'italian'\n",
    "#language =  'spanish'\n",
    "language =  'greek'\n",
    "\n",
    "cleanings = ['00-dirty_dataset','01-basic_remover','02-basic_remover_without_stopwords','03-basic_remover_without_stopwords_with_stemming','04-twisted_remover_with_emoticons']\n",
    "\n",
    "#model_type = 'bert'\n",
    "#case = 'roberta'\n",
    "model_type = 'gpt2'\n",
    "\n",
    "#reps_models = [\"Geotrend/bert-base-el-cased\",\"nlpaueb/bert-base-greek-uncased-v1\",\"dimitriz/st-greek-media-bert-base-uncased\",\"petros/bert-base-cypriot-uncased-v1\"]\n",
    "reps_models = [\"lighteternal/gpt2-finetuned-greek-small\",\"lighteternal/gpt2-finetuned-greek\",\"nikokons/gpt2-greek\",\"ClassCat/gpt2-small-greek-v2\"]\n",
    "\n",
    "for combo in itertools.product(cleanings,reps_models):\n",
    "    \n",
    "    clear_output(wait=True)\n",
    "    \n",
    "    with open('data/'+ language +'/'+ combo[0] +'/data.pkl','rb') as file:\n",
    "        WF = pickle.load(file)\n",
    "    \n",
    "    pretrained_model = RepresentationModel(model_type=model_type,model_name=combo[1],use_cuda=False) \n",
    "    sentence_vectors = pretrained_model.encode_sentences(WF['text'], combine_strategy=\"mean\")\n",
    "    sentence_vectors = np.split(sentence_vectors,sentence_vectors.shape[0])\n",
    "    pandasseries = pd.Series(sentence_vectors)\n",
    "    WF['reps'] = pandasseries.copy()\n",
    "    data = pd.DataFrame()\n",
    "    data['reps'] = WF['reps'].copy()\n",
    "    data['relevance'] = WF['relevance'].copy()\n",
    "    \n",
    "    link = 'data/'+ language +'/'+ combo[0] +'/feature_extractions/'+model_type+'/'+ str(combo[1]).replace('/', '_')+'.pkl'\n",
    "    \n",
    "    print(link)\n",
    "    \n",
    "    with open(link , 'wb') as file:\n",
    "        pickle.dump(data, file)"
   ]
  },
  {
   "cell_type": "markdown",
   "id": "066ce0ce-fa25-4bb8-baec-c76a44a0d622",
   "metadata": {
    "tags": []
   },
   "source": [
    "## POST PROCESSING HYPER TUNING"
   ]
  },
  {
   "cell_type": "code",
   "execution_count": 5,
   "id": "4de36109-af3a-4157-8773-a8f6ea096244",
   "metadata": {
    "tags": []
   },
   "outputs": [
    {
     "data": {
      "text/plain": [
       "['data/italian/00-dirty_dataset/feature_extractions/bert/dbmdz_bert-base-italian-cased.pkl',\n",
       " 'data/italian/00-dirty_dataset/feature_extractions/bert/dbmdz_bert-base-italian-uncased.pkl',\n",
       " 'data/italian/00-dirty_dataset/feature_extractions/bert/dbmdz_bert-base-italian-xxl-cased.pkl',\n",
       " 'data/italian/00-dirty_dataset/feature_extractions/bert/dbmdz_bert-base-italian-xxl-uncased.pkl',\n",
       " 'data/italian/01-basic_remover/feature_extractions/bert/dbmdz_bert-base-italian-cased.pkl',\n",
       " 'data/italian/01-basic_remover/feature_extractions/bert/dbmdz_bert-base-italian-uncased.pkl',\n",
       " 'data/italian/01-basic_remover/feature_extractions/bert/dbmdz_bert-base-italian-xxl-cased.pkl',\n",
       " 'data/italian/01-basic_remover/feature_extractions/bert/dbmdz_bert-base-italian-xxl-uncased.pkl',\n",
       " 'data/italian/02-basic_remover_without_stopwords/feature_extractions/bert/dbmdz_bert-base-italian-cased.pkl',\n",
       " 'data/italian/02-basic_remover_without_stopwords/feature_extractions/bert/dbmdz_bert-base-italian-uncased.pkl',\n",
       " 'data/italian/02-basic_remover_without_stopwords/feature_extractions/bert/dbmdz_bert-base-italian-xxl-cased.pkl',\n",
       " 'data/italian/02-basic_remover_without_stopwords/feature_extractions/bert/dbmdz_bert-base-italian-xxl-uncased.pkl',\n",
       " 'data/italian/03-basic_remover_without_stopwords_with_stemming/feature_extractions/bert/dbmdz_bert-base-italian-cased.pkl',\n",
       " 'data/italian/03-basic_remover_without_stopwords_with_stemming/feature_extractions/bert/dbmdz_bert-base-italian-uncased.pkl',\n",
       " 'data/italian/03-basic_remover_without_stopwords_with_stemming/feature_extractions/bert/dbmdz_bert-base-italian-xxl-cased.pkl',\n",
       " 'data/italian/03-basic_remover_without_stopwords_with_stemming/feature_extractions/bert/dbmdz_bert-base-italian-xxl-uncased.pkl',\n",
       " 'data/italian/04-twisted_remover_with_emoticons/feature_extractions/bert/dbmdz_bert-base-italian-cased.pkl',\n",
       " 'data/italian/04-twisted_remover_with_emoticons/feature_extractions/bert/dbmdz_bert-base-italian-uncased.pkl',\n",
       " 'data/italian/04-twisted_remover_with_emoticons/feature_extractions/bert/dbmdz_bert-base-italian-xxl-cased.pkl',\n",
       " 'data/italian/04-twisted_remover_with_emoticons/feature_extractions/bert/dbmdz_bert-base-italian-xxl-uncased.pkl']"
      ]
     },
     "execution_count": 5,
     "metadata": {},
     "output_type": "execute_result"
    }
   ],
   "source": [
    "# I just change the combinations of language and model_type\n",
    "\n",
    "language =  'italian'\n",
    "#language =  'spanish'\n",
    "#language =  'greek'\n",
    "\n",
    "cleanings = ['00-dirty_dataset','01-basic_remover','02-basic_remover_without_stopwords','03-basic_remover_without_stopwords_with_stemming','04-twisted_remover_with_emoticons']\n",
    "\n",
    "model_type = 'bert'\n",
    "# ase = 'roberta' didn't manage to get representations yet\n",
    "#case = 'gpt-2' probably the code needs reformation\n",
    "\n",
    "data_files = []\n",
    "\n",
    "for cleaning in cleanings:\n",
    "    path = 'data/'+ language +'/'+ cleaning + '/feature_extractions/' + model_type\n",
    "    for x in os.listdir(path):\n",
    "        file = path + '/' + x\n",
    "        data_files.append(file)\n",
    "data_files"
   ]
  },
  {
   "cell_type": "code",
   "execution_count": 6,
   "id": "29f16d98-1d39-4ce1-bdcf-ab1dbb1060b2",
   "metadata": {
    "scrolled": true,
    "tags": []
   },
   "outputs": [],
   "source": [
    "# for file in data_files:\n",
    "#     with open(file, \"rb\") as file:\n",
    "#         WF = pickle.load(file)\n",
    "#     print(print_tweet_report(WF))\n",
    "#     print(check_relevance_balance(WF))"
   ]
  },
  {
   "cell_type": "markdown",
   "id": "f8af3394-8a9d-435a-b0ff-9f1ac5276c4b",
   "metadata": {
    "tags": []
   },
   "source": [
    "# MODELIZE AND HYPERTUNE(n dense post layers with 768 + one dropout):"
   ]
  },
  {
   "cell_type": "code",
   "execution_count": 8,
   "id": "ad61bba9-7874-418e-9a76-70636f0612fb",
   "metadata": {
    "tags": []
   },
   "outputs": [],
   "source": [
    "def binary_classification_representation_based_transfer_learning(calibrers,WF):  \n",
    "    \n",
    "    hyperparameters = {\n",
    "                   'ITERATIONS':'15',\n",
    "                   'EPOCHS': '50',\n",
    "                   'LOSS':\"'binary_crossentropy'\",\n",
    "                   'OPTIMIZER': \"\"\"Adam(learning_rate=calibrers['learning_rate'])\"\"\",\n",
    "                   'METRICS': \"\"\"['acc', metrics.precision, metrics.recall, metrics.f1]\"\"\",\n",
    "                   'BATCH_SIZE': \"\"\"calibrers['batch_size']\"\"\",\n",
    "                   'TEST_SIZE': '0.3',\n",
    "                   'RELOVIR': \"\"\"calibrers['relovir']\"\"\"}\n",
    "    \n",
    "    for key, value in hyperparameters.items():\n",
    "        globals()[key] = eval(value)\n",
    "    \n",
    "    av_loss_train = np.zeros(EPOCHS)\n",
    "    av_loss_val = np.zeros(EPOCHS)\n",
    "    av_acc_train = np.zeros(EPOCHS)\n",
    "    av_acc_val = np.zeros(EPOCHS)\n",
    "    av_prec_train = np.zeros(EPOCHS)\n",
    "    av_prec_val = np.zeros(EPOCHS)\n",
    "    av_rec_train = np.zeros(EPOCHS)\n",
    "    av_rec_val = np.zeros(EPOCHS)\n",
    "    av_f1_train = np.zeros(EPOCHS)\n",
    "    av_f1_val = np.zeros(EPOCHS)\n",
    "    \n",
    "    fit_time = 0\n",
    "    \n",
    "    for iteration in range(ITERATIONS):\n",
    "\n",
    "        training_set_X, test_set_X, training_set_y, test_set_y = datasplit_new(WF,0.3,relovir = RELOVIR)\n",
    "        \n",
    "        model = None\n",
    "    \n",
    "        #np.random.seed(SEED)\n",
    "    \n",
    "        #initializer choice\n",
    "    \n",
    "        model = Sequential()\n",
    "        \n",
    "        model.add(Input(shape = (768,)))\n",
    "        \n",
    "        for layers in range(int(calibrers['numberofpostlayers'])):\n",
    "            model.add(Dense(768,activation='relu'))\n",
    "        \n",
    "        model.add(Dropout(calibrers['dropout_rate']))     \n",
    "        \n",
    "        model.add(Dense(1,activation = calibrers['PrePredictionActivation']))\n",
    "        \n",
    "        model.compile(optimizer=OPTIMIZER, loss=LOSS, metrics=METRICS)\n",
    "    \n",
    "        #print(type(model.summary()))\n",
    "              \n",
    "        clear_output(wait=True)\n",
    "        print(f'iteration {iteration-1} took {iter_time} s or {iter_time/60} min')\n",
    "        \n",
    "        start_time = time.time()\n",
    "        \n",
    "        history = model.fit(training_set_X, training_set_y,validation_data=( test_set_X,  test_set_y), batch_size = int(BATCH_SIZE), epochs = EPOCHS, verbose = 0,callbacks=[],shuffle = True)\n",
    "        \n",
    "        end_time = time.time()\n",
    "        \n",
    "        fit_time += end_time-start_time\n",
    "    \n",
    "        #training metrics\n",
    "        av_loss_train = np.add(av_loss_train,np.array(history.history['loss']))\n",
    "        av_acc_train = np.add(av_acc_train,np.array(history.history['acc']))\n",
    "        av_prec_train = np.add(av_prec_train,np.array(history.history['precision']))\n",
    "        av_rec_train = np.add(av_rec_train,np.array(history.history['recall']))\n",
    "        av_f1_train = np.add(av_f1_train,np.array(history.history['f1']))\n",
    "        #validation metrics\n",
    "        av_loss_val = np.add(av_loss_val,np.array(history.history['val_loss']))\n",
    "        av_acc_val = np.add(av_acc_val,np.array(history.history['val_acc']))\n",
    "        av_prec_val = np.add(av_prec_val,np.array(history.history['val_precision']))\n",
    "        av_rec_val = np.add(av_rec_val,np.array(history.history['val_recall']))\n",
    "        av_f1_val = np.add(av_f1_val,np.array(history.history['val_f1']))\n",
    "    \n",
    "    \n",
    "    av_loss_train = np.divide(av_loss_train,ITERATIONS)\n",
    "    av_acc_train = np.divide(av_acc_train,ITERATIONS)\n",
    "    av_prec_train = np.divide(av_prec_train,ITERATIONS)\n",
    "    av_rec_train = np.divide(av_rec_train,ITERATIONS)\n",
    "    av_f1_train = np.divide(av_f1_train,ITERATIONS)\n",
    "\n",
    "    av_loss_val = np.divide(av_loss_val,ITERATIONS)\n",
    "    av_acc_val = np.divide(av_acc_val,ITERATIONS)\n",
    "    av_prec_val = np.divide(av_prec_val,ITERATIONS)\n",
    "    av_rec_val = np.divide(av_rec_val,ITERATIONS)\n",
    "    av_f1_val = np.divide(av_f1_val,ITERATIONS)\n",
    "    \n",
    "    clear_output(wait=True)\n",
    "\n",
    "    results = pd.DataFrame({'train_loss': av_loss_train,'train_acc': av_acc_train,'train_prec': av_prec_train,'train_rec': av_rec_train,'train_f1': av_f1_train,'val_loss': av_loss_val,'val_acc': av_acc_val,'val_prec': av_prec_val,'val_rec': av_rec_val,'val_f1': av_f1_val})\n",
    "    \n",
    "    path = \"runs\"\n",
    "    dirs = os.listdir(path)\n",
    "    dirs.sort(reverse = True)\n",
    "    the_run = dirs[0]\n",
    "    match = re.search(r\"run\\d{5}\", the_run)[0][3:]\n",
    "    match = f'{(int(match)+1):05}'\n",
    "    the_folder = f\"run{match}\"\n",
    "    directory = os.path.join(path, the_folder)\n",
    "    if not os.path.exists(directory):\n",
    "        os.makedirs(directory)\n",
    "        print(f\"Directory {the_folder} created!\")\n",
    "    else:\n",
    "        print(\"Directory already exists.\")\n",
    "    \n",
    "    #####################\n",
    "    # now save the results pickle and the hyperparameter text in the correct run folder\n",
    "    filepath = f\"runs\" +f\"/{the_folder}\"\n",
    "    sub_dir1 = os.path.join(filepath,'results.plk')\n",
    "    sub_dir2 = os.path.join(filepath,\"hyperparameters.txt\")\n",
    "    sub_dir3 = os.path.join(filepath,'other_info')\n",
    "    with open(sub_dir1, 'wb') as dummy:\n",
    "        pickle.dump(results, dummy)\n",
    "        \n",
    "    hyperparameters = {\n",
    "                   'ITERATIONS':'5',\n",
    "                   'EPOCHS': '50',\n",
    "                   'LOSS':\"'binary_crossentropy'\",\n",
    "                   'OPTIMIZER': 'Adam(learning_rate=0.0001)',\n",
    "                   'METRICS': \"\"\"['acc', metrics.precision, metrics.recall, metrics.f1]\"\"\",\n",
    "                   'BATCH_SIZE': BATCH_SIZE,\n",
    "                   'TEST_SIZE': '0.3',\n",
    "                   'RELOVIR': RELOVIR }\n",
    "    \n",
    "    \n",
    "    with open(sub_dir2, 'w') as file:\n",
    "        for key in hyperparameters:\n",
    "            file.write('\\n '+ key + ':' + str(hyperparameters[key]) + '\\n')\n",
    "            #file.write(file)\n",
    "            \n",
    "    with open(sub_dir3, 'w') as file:\n",
    "        file.write(f'{file} : {fit_time/ITERATIONS}')\n",
    "            \n",
    "    # txt with the n maximum val_f1 epochs and their values\n",
    "    n=10\n",
    "    if EPOCHS<n:\n",
    "        n = 1\n",
    "    sub_dir3 = os.path.join(filepath,\"val_f1.txt\")\n",
    "    x = list(results['val_f1'].nlargest(n).index)\n",
    "    print(x)\n",
    "    nums = list(map(lambda x: round(results['val_f1'].loc[x],4),x))\n",
    "    print(nums)\n",
    "    text = 'epoch value\\n'\n",
    "    for i in range(n):\n",
    "        text+=f'-{(x[i]):03}- {nums[i]}\\n'\n",
    "    with open(sub_dir3, 'wb') as dummy:\n",
    "        dummy.write(text.encode())\n",
    "        \n",
    "    #####################\n",
    "    # now save the plot pictures(not particularly usefull in the general code)\n",
    "    plt.plot(results['val_acc'])\n",
    "    plt.plot(results['val_prec'])\n",
    "    plt.plot(results['val_rec'])\n",
    "    plt.plot(results['val_f1'])\n",
    "    plt.title('Average Evaluation Model Metrics')\n",
    "    plt.ylabel('Value')\n",
    "    plt.xlabel('Epoch')\n",
    "    plt.legend(['accuracy','precision','recall','f1-score'], loc='lower right')#, bbox_to_anchor=(1, 0.5))\n",
    "    plt.savefig(f'runs/{the_folder}/AEMM.jpg',dpi = 300)\n",
    "    plt.show()\n",
    "    \n",
    "    ######################\n",
    "    # save model summary\n",
    "    with open(f'runs/{the_folder}/model_summary.txt', 'w') as f:\n",
    "        model.summary(print_fn=lambda x: f.write(x + '\\n'))\n",
    "\n",
    "    print(results)\n",
    "    \n",
    "    av_f1_val = np.add(av_f1_val,np.array(history.history['val_f1']))\n",
    " \n",
    "    return -np.max(np.divide(av_f1_val,ITERATIONS))"
   ]
  },
  {
   "cell_type": "code",
   "execution_count": 7,
   "id": "c55c0c41-bed1-4aaf-972d-a8b1018a01f2",
   "metadata": {
    "tags": []
   },
   "outputs": [],
   "source": [
    "hyperspace = {\n",
    "    'dropout_rate': hp.uniform('dropout_rate', 0.1, 0.5),\n",
    "    'numberofpostlayers': hp.quniform('postlayersnumbers',3,15,q=1),\n",
    "    'relovir': hp.uniform('relovir', 0.2, 0.5),\n",
    "    'learning_rate': hp.uniform('learning_rate',0.0000001,0.001),\n",
    "    'batch_size' : hp.quniform('batch_size',20,140,q=5),\n",
    "    'PrePredictionActivation':hp.choice('PrePredictionActivation',['softmax','sigmoid'])\n",
    "     }"
   ]
  },
  {
   "cell_type": "code",
   "execution_count": 12,
   "id": "f4139216-e1e1-4693-8b30-e997bec6bc7a",
   "metadata": {},
   "outputs": [
    {
     "name": "stdout",
     "output_type": "stream",
     "text": [
      "Directory run00078 created!                                                        \n",
      "[49, 47, 44, 48, 46, 45, 40, 36, 41, 43]                                           \n",
      "[0.1764, 0.1761, 0.176, 0.176, 0.1754, 0.1753, 0.1748, 0.1746, 0.1743, 0.1742]     \n",
      " 50%|█████     | 1/2 [08:53<05:05, 305.23s/trial, best loss: -0.003929039902157254]"
     ]
    },
    {
     "data": {
      "image/png": "[encoded data removed]",
      "text/plain": [
       "<Figure size 640x480 with 1 Axes>"
      ]
     },
     "metadata": {},
     "output_type": "display_data"
    },
    {
     "name": "stdout",
     "output_type": "stream",
     "text": [
      "    train_loss  train_acc  train_prec  train_rec  train_f1  val_loss  \\            \n",
      "0    43.071071   0.687345    0.019294   0.042760  0.023544  6.254287   \n",
      "1     1.853271   0.695375    0.019058   0.029487  0.015210  0.695373   \n",
      "2     6.611256   0.691428    0.012005   0.037103  0.017725  0.989245   \n",
      "3     0.629549   0.702661    0.004826   0.012500  0.006866  0.792300   \n",
      "4     0.629655   0.701113    0.003160   0.009325  0.004521  0.647392   \n",
      "5     1.867820   0.703453    0.000990   0.004167  0.001599  0.646776   \n",
      "6     0.621721   0.705016    0.011001   0.009095  0.007844  0.646568   \n",
      "7     0.607024   0.704902    0.009205   0.009195  0.007932  0.648297   \n",
      "8     0.608399   0.706523    0.007167   0.004614  0.004559  0.645889   \n",
      "9     0.609575   0.710444    0.022224   0.018267  0.018240  0.670270   \n",
      "10    0.610289   0.704004    0.001157   0.003968  0.001792  0.645899   \n",
      "11    0.607801   0.705717    0.000000   0.000000  0.000000  0.646246   \n",
      "12    0.606777   0.705717    0.000000   0.000000  0.000000  0.646796   \n",
      "13    0.604108   0.705717    0.000000   0.000000  0.000000  0.638434   \n",
      "14    0.593152   0.713641    0.051612   0.053149  0.047774  0.629726   \n",
      "15    0.586513   0.719891    0.058997   0.055957  0.057036  0.615693   \n",
      "16    0.586780   0.717584    0.064710   0.069775  0.063828  0.635636   \n",
      "17    0.591529   0.714771    0.050325   0.052533  0.048418  0.626636   \n",
      "18    0.583251   0.719406    0.056780   0.057497  0.056528  0.625761   \n",
      "19    0.583163   0.719513    0.055831   0.059179  0.056807  0.621451   \n",
      "20    0.591268   0.720753    0.060240   0.057960  0.058845  0.620995   \n",
      "21    0.580059   0.722785    0.068149   0.070360  0.068620  0.622732   \n",
      "22    0.581502   0.718486    0.067817   0.047356  0.055175  0.628821   \n",
      "23    0.581215   0.718951    0.060899   0.063697  0.061243  0.621684   \n",
      "24    0.579406   0.720807    0.061959   0.055659  0.058380  0.627236   \n",
      "25    0.576572   0.722471    0.083654   0.063567  0.070541  0.607451   \n",
      "26    0.557685   0.741944    0.153107   0.137637  0.142287  0.592584   \n",
      "27    0.536411   0.750242    0.180173   0.172025  0.174156  0.585958   \n",
      "28    0.537652   0.745583    0.159266   0.159433  0.157883  0.597449   \n",
      "29    0.546161   0.741368    0.143968   0.135728  0.136680  0.582941   \n",
      "30    0.548307   0.743843    0.147778   0.145459  0.145508  0.602708   \n",
      "31    0.550538   0.738965    0.133629   0.134366  0.132020  0.595067   \n",
      "32    0.535599   0.742140    0.155076   0.142324  0.143303  0.578539   \n",
      "33    0.524644   0.753549    0.190502   0.171098  0.179040  0.585247   \n",
      "34    0.529778   0.745387    0.150796   0.152938  0.150355  0.579604   \n",
      "35    0.527338   0.743928    0.150288   0.157045  0.151544  0.589163   \n",
      "36    0.519572   0.750984    0.170122   0.184059  0.175756  0.572272   \n",
      "37    0.515449   0.756146    0.187625   0.183815  0.185267  0.571472   \n",
      "38    0.512783   0.757365    0.190188   0.190619  0.189911  0.569961   \n",
      "39    0.520391   0.754236    0.183970   0.182263  0.181469  0.574668   \n",
      "40    0.515407   0.755687    0.182663   0.189327  0.185358  0.567834   \n",
      "41    0.511808   0.757356    0.187589   0.187528  0.187208  0.570807   \n",
      "42    0.511780   0.757245    0.189493   0.184912  0.186879  0.570976   \n",
      "43    0.510436   0.758210    0.189376   0.189266  0.189037  0.565950   \n",
      "44    0.508321   0.758040    0.188200   0.190426  0.189069  0.565308   \n",
      "45    0.506784   0.758523    0.190162   0.189564  0.189677  0.565567   \n",
      "46    0.505637   0.759004    0.191108   0.189741  0.190242  0.567155   \n",
      "47    0.504977   0.759484    0.193257   0.189346  0.191135  0.569808   \n",
      "48    0.504547   0.759748    0.193480   0.190445  0.191749  0.567074   \n",
      "49    0.518863   0.757489    0.193649   0.193525  0.192392  0.566578   \n",
      "\n",
      "     val_acc  val_prec   val_rec    val_f1  \n",
      "0   0.640258  0.023333  0.066667  0.034371  \n",
      "1   0.658568  0.000000  0.000000  0.000000  \n",
      "2   0.658568  0.000000  0.000000  0.000000  \n",
      "3   0.658568  0.000000  0.000000  0.000000  \n",
      "4   0.658568  0.000000  0.000000  0.000000  \n",
      "5   0.658568  0.000000  0.000000  0.000000  \n",
      "6   0.658568  0.000000  0.000000  0.000000  \n",
      "7   0.673122  0.050635  0.062129  0.055586  \n",
      "8   0.658568  0.000000  0.000000  0.000000  \n",
      "9   0.636268  0.021563  0.066667  0.032386  \n",
      "10  0.658568  0.000000  0.000000  0.000000  \n",
      "11  0.658568  0.000000  0.000000  0.000000  \n",
      "12  0.658568  0.000000  0.000000  0.000000  \n",
      "13  0.658568  0.000000  0.000000  0.000000  \n",
      "14  0.672887  0.058180  0.052296  0.054333  \n",
      "15  0.684272  0.117142  0.092938  0.098487  \n",
      "16  0.657981  0.004167  0.000333  0.000617  \n",
      "17  0.672418  0.057050  0.051087  0.052595  \n",
      "18  0.671948  0.048103  0.062145  0.053441  \n",
      "19  0.674178  0.056455  0.057141  0.055909  \n",
      "20  0.674178  0.054699  0.059343  0.056124  \n",
      "21  0.670892  0.060240  0.044591  0.050006  \n",
      "22  0.673357  0.057599  0.053250  0.054131  \n",
      "23  0.674531  0.054827  0.059631  0.055983  \n",
      "24  0.669601  0.060748  0.040291  0.046896  \n",
      "25  0.688615  0.114777  0.106401  0.109089  \n",
      "26  0.706221  0.171654  0.165535  0.166748  \n",
      "27  0.708451  0.172472  0.174976  0.172134  \n",
      "28  0.690141  0.108372  0.121062  0.113398  \n",
      "29  0.701878  0.155192  0.179314  0.164389  \n",
      "30  0.687324  0.115182  0.106500  0.107167  \n",
      "31  0.686268  0.116964  0.098911  0.101787  \n",
      "32  0.707160  0.169975  0.171514  0.168527  \n",
      "33  0.705047  0.173490  0.160399  0.162579  \n",
      "34  0.691784  0.114073  0.119071  0.115145  \n",
      "35  0.691667  0.126286  0.124675  0.116483  \n",
      "36  0.709507  0.173045  0.177808  0.174576  \n",
      "37  0.709977  0.170481  0.180173  0.173644  \n",
      "38  0.709859  0.170237  0.179702  0.173531  \n",
      "39  0.710094  0.171395  0.178616  0.173634  \n",
      "40  0.710798  0.171871  0.180563  0.174804  \n",
      "41  0.710329  0.169622  0.182255  0.174280  \n",
      "42  0.709977  0.171805  0.178622  0.173507  \n",
      "43  0.710211  0.169518  0.182059  0.174162  \n",
      "44  0.711737  0.173630  0.181183  0.175972  \n",
      "45  0.711268  0.173325  0.180232  0.175276  \n",
      "46  0.711620  0.176278  0.177563  0.175378  \n",
      "47  0.712089  0.175911  0.179260  0.176120  \n",
      "48  0.711385  0.175366  0.179936  0.175954  \n",
      "49  0.711972  0.178030  0.177891  0.176389  \n",
      "100%|██████████| 2/2 [08:53<00:00, 266.71s/trial, best loss: -0.011759275595347087]\n",
      "<_io.BufferedReader name='data/italian/04-twisted_remover_with_emoticons/feature_extractions/bert/dbmdz_bert-base-italian-xxl-uncased.pkl'> : 533.4411535263062\n"
     ]
    }
   ],
   "source": [
    "for file in data_files:\n",
    "    with open(file, \"rb\") as file:\n",
    "        WF = pickle.load(file)\n",
    "    best = fmin(fn=modelize, space=hyperspace, algo=tpe.suggest, max_evals=2) #i use WF and file in here but it works weirdly :P\n",
    "    total_time = end_time-start_time\n",
    "    print(f'{file} : {total_time}')"
   ]
  },
  {
   "cell_type": "code",
   "execution_count": null,
   "id": "a0cc6f04-98ec-4b3d-a9d4-7c5b9f7b5080",
   "metadata": {},
   "outputs": [],
   "source": []
  }
 ],
 "metadata": {
  "kernelspec": {
   "display_name": "Python 3 (ipykernel)",
   "language": "python",
   "name": "python3"
  },
  "language_info": {
   "codemirror_mode": {
    "name": "ipython",
    "version": 3
   },
   "file_extension": ".py",
   "mimetype": "text/x-python",
   "name": "python",
   "nbconvert_exporter": "python",
   "pygments_lexer": "ipython3",
   "version": "3.8.18"
  }
 },
 "nbformat": 4,
 "nbformat_minor": 5
}
