{
 "cells": [
  {
   "cell_type": "code",
   "execution_count": 1,
   "id": "3224fedc-e29f-4805-9ca1-6fac4bfb88bb",
   "metadata": {
    "tags": []
   },
   "outputs": [],
   "source": [
    "import pandas as pd\n",
    "import numpy as np\n",
    "\n",
    "from sklearn.model_selection import train_test_split\n",
    "\n",
    "import sys\n",
    "\n",
    "import pickle\n",
    "\n",
    "from transformers import AutoConfig, AutoTokenizer, TFAutoModel, DataCollatorWithPadding\n",
    "\n",
    "import tensorflow as tf\n",
    "import tensorflow_hub as hub\n",
    "from tensorflow.keras.models import Sequential\n",
    "from tensorflow.keras.layers import *\n",
    "from tensorflow.keras.optimizers import Adam\n",
    "\n",
    "import metrics\n",
    "\n",
    "from simpletransformers.language_representation import RepresentationModel\n",
    "\n",
    "from TweetDataReport import datasplit, print_tweet_report, check_relevance_balance\n",
    "\n",
    "import time\n",
    "import itertools\n",
    "import warnings\n",
    "warnings.filterwarnings(\"ignore\")\n",
    "\n",
    "import matplotlib.pyplot as plt\n",
    "\n",
    "from IPython.display import clear_output\n",
    "\n",
    "import os\n",
    "import re\n",
    "\n",
    "from hyperopt import hp, fmin, tpe , pyll"
   ]
  },
  {
   "cell_type": "code",
   "execution_count": 2,
   "id": "effeac29-b580-486d-8399-77383bd765d4",
   "metadata": {
    "tags": []
   },
   "outputs": [
    {
     "name": "stdout",
     "output_type": "stream",
     "text": [
      "Python Version:3.9.18 (main, Sep 11 2023, 14:09:26) [MSC v.1916 64 bit (AMD64)]\n",
      "TensorFlow Version: 2.10.0\n",
      "GPU is available\n",
      "CUDA Version: True\n"
     ]
    }
   ],
   "source": [
    "print(\"Python Version:\" + sys.version)\n",
    "print(\"TensorFlow Version:\", tf.__version__)\n",
    "if tf.test.gpu_device_name():\n",
    "    print(\"GPU is available\")\n",
    "else:\n",
    "    print(\"GPU is NOT available\")\n",
    "print(\"CUDA Version:\", tf.test.is_built_with_cuda())"
   ]
  },
  {
   "cell_type": "code",
   "execution_count": 125,
   "id": "0d6e5d11-1311-423a-b9ee-070349c33c14",
   "metadata": {
    "tags": []
   },
   "outputs": [
    {
     "data": {
      "text/html": [
       "<div>\n",
       "<style scoped>\n",
       "    .dataframe tbody tr th:only-of-type {\n",
       "        vertical-align: middle;\n",
       "    }\n",
       "\n",
       "    .dataframe tbody tr th {\n",
       "        vertical-align: top;\n",
       "    }\n",
       "\n",
       "    .dataframe thead th {\n",
       "        text-align: right;\n",
       "    }\n",
       "</style>\n",
       "<table border=\"1\" class=\"dataframe\">\n",
       "  <thead>\n",
       "    <tr style=\"text-align: right;\">\n",
       "      <th></th>\n",
       "      <th>reps</th>\n",
       "      <th>relevance</th>\n",
       "    </tr>\n",
       "  </thead>\n",
       "  <tbody>\n",
       "    <tr>\n",
       "      <th>0</th>\n",
       "      <td>[[-0.16349472, -0.022513028, 0.1601058, 0.3005...</td>\n",
       "      <td>1</td>\n",
       "    </tr>\n",
       "    <tr>\n",
       "      <th>1</th>\n",
       "      <td>[[-0.1870734, -0.1289106, 0.36564282, 0.020390...</td>\n",
       "      <td>0</td>\n",
       "    </tr>\n",
       "    <tr>\n",
       "      <th>2</th>\n",
       "      <td>[[-0.058511183, -0.09192906, -0.24975105, 0.45...</td>\n",
       "      <td>1</td>\n",
       "    </tr>\n",
       "    <tr>\n",
       "      <th>3</th>\n",
       "      <td>[[-0.07063484, -0.08345323, 0.18612616, 0.2530...</td>\n",
       "      <td>1</td>\n",
       "    </tr>\n",
       "    <tr>\n",
       "      <th>4</th>\n",
       "      <td>[[-0.09547403, 0.21283852, 0.012412298, 0.3508...</td>\n",
       "      <td>1</td>\n",
       "    </tr>\n",
       "    <tr>\n",
       "      <th>...</th>\n",
       "      <td>...</td>\n",
       "      <td>...</td>\n",
       "    </tr>\n",
       "    <tr>\n",
       "      <th>1887</th>\n",
       "      <td>[[-0.030228468, -0.14970928, 0.20723383, 0.424...</td>\n",
       "      <td>0</td>\n",
       "    </tr>\n",
       "    <tr>\n",
       "      <th>1888</th>\n",
       "      <td>[[-0.115419574, 0.18743767, 0.23865303, 0.2736...</td>\n",
       "      <td>1</td>\n",
       "    </tr>\n",
       "    <tr>\n",
       "      <th>1889</th>\n",
       "      <td>[[-0.042768005, 0.074689046, 0.05405128, 0.196...</td>\n",
       "      <td>1</td>\n",
       "    </tr>\n",
       "    <tr>\n",
       "      <th>1890</th>\n",
       "      <td>[[-0.09403053, -0.04718489, 0.18331964, 0.4239...</td>\n",
       "      <td>0</td>\n",
       "    </tr>\n",
       "    <tr>\n",
       "      <th>1891</th>\n",
       "      <td>[[0.055064242, -0.059358418, 0.063184425, 0.28...</td>\n",
       "      <td>1</td>\n",
       "    </tr>\n",
       "  </tbody>\n",
       "</table>\n",
       "<p>1892 rows × 2 columns</p>\n",
       "</div>"
      ],
      "text/plain": [
       "                                                   reps  relevance\n",
       "0     [[-0.16349472, -0.022513028, 0.1601058, 0.3005...          1\n",
       "1     [[-0.1870734, -0.1289106, 0.36564282, 0.020390...          0\n",
       "2     [[-0.058511183, -0.09192906, -0.24975105, 0.45...          1\n",
       "3     [[-0.07063484, -0.08345323, 0.18612616, 0.2530...          1\n",
       "4     [[-0.09547403, 0.21283852, 0.012412298, 0.3508...          1\n",
       "...                                                 ...        ...\n",
       "1887  [[-0.030228468, -0.14970928, 0.20723383, 0.424...          0\n",
       "1888  [[-0.115419574, 0.18743767, 0.23865303, 0.2736...          1\n",
       "1889  [[-0.042768005, 0.074689046, 0.05405128, 0.196...          1\n",
       "1890  [[-0.09403053, -0.04718489, 0.18331964, 0.4239...          0\n",
       "1891  [[0.055064242, -0.059358418, 0.063184425, 0.28...          1\n",
       "\n",
       "[1892 rows x 2 columns]"
      ]
     },
     "execution_count": 125,
     "metadata": {},
     "output_type": "execute_result"
    }
   ],
   "source": [
    "with open('data/italian/00-dirty_dataset/feature_extractions/bert/dbmdz_bert-base-italian-cased.pkl','rb') as file:\n",
    "    WF = pickle.load(file)\n",
    "data = WF.copy()\n",
    "data"
   ]
  },
  {
   "cell_type": "code",
   "execution_count": 219,
   "id": "f7e8005b-4aad-4d8e-81fe-e787dbb8d992",
   "metadata": {
    "tags": []
   },
   "outputs": [],
   "source": [
    "class Relovir_Error(Exception):\n",
    "    \"\"\"\n",
    "    This class checks if the given relovir number is acceptable based on the ratio of the dataset you gave.\n",
    "    The dataset of course must be a pandas dataframe with two columns.The second column must be the 0\n",
    "    (irrelevant) or 1(relevant) values of the corresponding tweets/representations. \n",
    "    \n",
    "    \"\"\"\n",
    "    def __init__(self,dataset,relovir):\n",
    "        self.relovir = relovir\n",
    "        dataset = dataset.copy()\n",
    "        checker = check_relevance_balance(dataset).copy()\n",
    "        self.irr = checker.loc[checker['relevance']==0,'count'].reset_index(drop=True)[0]\n",
    "        self.rel = checker.loc[checker['relevance']==1,'count'].reset_index(drop=True)[0]\n",
    "        self.ratio = self.rel/self.irr\n",
    "        if self.relovir>self.ratio or self.relovir>1:\n",
    "            raise self\n",
    "    def __str__(self):\n",
    "        if self.relovir>self.ratio:\n",
    "            return f\"The relovir ratio of your dataset is {self.ratio} but you gave me {self.relovir}. The relovir ratio cannot be larger than 1.\""
   ]
  },
  {
   "cell_type": "code",
   "execution_count": 222,
   "id": "50a4c6c6-a498-4a34-93ac-8b2d33e499ff",
   "metadata": {
    "tags": []
   },
   "outputs": [
    {
     "name": "stdout",
     "output_type": "stream",
     "text": [
      "(1056,)\n"
     ]
    },
    {
     "data": {
      "text/plain": [
       "array([0, 0, 0, ..., 0, 0, 0], dtype=int64)"
      ]
     },
     "execution_count": 222,
     "metadata": {},
     "output_type": "execute_result"
    }
   ],
   "source": [
    "def datasplit_new(df,testsize,relovir=None):\n",
    "    \"\"\"\n",
    "    Firstly we split the dataset into train and test parts.\n",
    "    \n",
    "    Then we create the training dataset by picking up the irrelevant tweets from the training \n",
    "    split part with only the number of relevant tweet\n",
    "    \n",
    "    The relovir variable represents the relative ratio of irrelevant(we usually have more irrelevant so) \n",
    "    over relevant number of training examples in the set.\n",
    "    \n",
    "    Returns as a (examples,768) np array the representations and the y as (examples,) shaped np array.\n",
    "    \n",
    "    Future: maybe it would be better to split the dataset by relevance and then pick up the \"correct\" \n",
    "    relovir ratio for the test dataset from the ratio of the total dataset. \n",
    "    Now we include some randomness which is not particularly wanted due to the fact that after the split\n",
    "    the relovir ratios of the training and test parts won't match exactly. \n",
    "    I will have to make 20 30 iterations per model to make sure we get the average.\n",
    "    In the other case we were going to be satisfied with 5. \n",
    "    \"\"\"\n",
    "    df = df.copy() # make a copied instance of the dataset\n",
    "    \n",
    "    X_train, X_test, y_train, y_test = train_test_split(df['reps'], df['relevance'], test_size = testsize)\n",
    "\n",
    "    if relovir is not None:\n",
    "        \n",
    "        Relovir_Error(df,relovir) # check if you can accept the relovir variable instance maybe the ratio is not that big\n",
    "        \n",
    "        # now we reconstruct the training dataset in order to use the relovir \n",
    "        training_set = pd.DataFrame()\n",
    "        training_set['reps'] = X_train\n",
    "        training_set['relevance'] = y_train\n",
    "        training_set.reset_index(drop = True)\n",
    "        # we split the training data in irrelevant and relevant cases\n",
    "        # we make sure the zeros and the ones correctly correspond to irr and rel respectively\n",
    "        grouping = training_set.groupby('relevance')\n",
    "        group_dict = {}\n",
    "        for name, group in grouping:\n",
    "            group_dict[str(name)] = group\n",
    "        # we find the absolute numbers \n",
    "        irr = group_dict['0']\n",
    "        rel = group_dict['1']\n",
    "        #print(len(irr)+len(rel))\n",
    "        #pickup all the irrelevants and the correct random part of the relevants\n",
    "        dfirr = irr.sample(frac = 1).reset_index(drop = True)\n",
    "        #print(len(dfirr))\n",
    "        dfrel = rel.sample(n = int(len(irr)*relovir)).reset_index(drop = True)\n",
    "        #print(len(dfrel))\n",
    "        #print(len(dfirr)+len(dfrel)\n",
    "        training_set = None\n",
    "        training_set = pd.concat([dfirr, dfrel]).sample(frac = 1).reset_index(drop = True)\n",
    "    \n",
    "    training_set_X = np.vstack(training_set['reps'])\n",
    "    test_set_X = np.vstack(X_test)\n",
    "    y_train = training_set['relevance'].to_frame().reset_index(drop = True)\n",
    "    y_test = y_test.to_frame().reset_index(drop = True)\n",
    "    return training_set_X, test_set_X, y_train.to_numpy().reshape(-1), y_test.to_numpy().reshape(-1)\n",
    "    \n",
    "xtr , xts , ytr , yts = datasplit_new(data, testsize = 0.3, relovir = 0.2)\n"
   ]
  },
  {
   "cell_type": "code",
   "execution_count": 191,
   "id": "6edda567-21cd-4ae8-8b02-1de269460440",
   "metadata": {
    "tags": []
   },
   "outputs": [
    {
     "ename": "AttributeError",
     "evalue": "'tuple' object has no attribute 'columns'",
     "output_type": "error",
     "traceback": [
      "\u001b[1;31m---------------------------------------------------------------------------\u001b[0m",
      "\u001b[1;31mAttributeError\u001b[0m                            Traceback (most recent call last)",
      "Cell \u001b[1;32mIn[191], line 1\u001b[0m\n\u001b[1;32m----> 1\u001b[0m \u001b[43mprint_tweet_report\u001b[49m\u001b[43m(\u001b[49m\u001b[43mdata_new\u001b[49m\u001b[43m)\u001b[49m\n",
      "File \u001b[1;32m~\\Neural_Networks\\neural networks\\TweetDataReport.py:9\u001b[0m, in \u001b[0;36mprint_tweet_report\u001b[1;34m(df)\u001b[0m\n\u001b[0;32m      5\u001b[0m \u001b[38;5;28;01mdef\u001b[39;00m \u001b[38;5;21mprint_tweet_report\u001b[39m(df):\n\u001b[0;32m      6\u001b[0m \u001b[38;5;250m    \u001b[39m\u001b[38;5;124;03m\"\"\"\u001b[39;00m\n\u001b[0;32m      7\u001b[0m \u001b[38;5;124;03m    bla bla bla\u001b[39;00m\n\u001b[0;32m      8\u001b[0m \u001b[38;5;124;03m    \"\"\"\u001b[39;00m\n\u001b[1;32m----> 9\u001b[0m     column_names \u001b[38;5;241m=\u001b[39m \u001b[38;5;28mlist\u001b[39m(\u001b[43mdf\u001b[49m\u001b[38;5;241;43m.\u001b[39;49m\u001b[43mcolumns\u001b[49m)\n\u001b[0;32m     10\u001b[0m     subseries \u001b[38;5;241m=\u001b[39m  [df\u001b[38;5;241m.\u001b[39miloc[:,n] \u001b[38;5;28;01mfor\u001b[39;00m n \u001b[38;5;129;01min\u001b[39;00m \u001b[38;5;28mrange\u001b[39m(\u001b[38;5;241m0\u001b[39m,\u001b[38;5;28mlen\u001b[39m(column_names))]\n\u001b[0;32m     11\u001b[0m     \u001b[38;5;28;01mdef\u001b[39;00m \u001b[38;5;21mget_shapelen\u001b[39m(x):\n",
      "\u001b[1;31mAttributeError\u001b[0m: 'tuple' object has no attribute 'columns'"
     ]
    }
   ],
   "source": [
    "print_tweet_report(data)"
   ]
  },
  {
   "cell_type": "code",
   "execution_count": 177,
   "id": "292a5285-7277-475b-972c-32e8457213a6",
   "metadata": {
    "tags": []
   },
   "outputs": [
    {
     "data": {
      "text/html": [
       "<div>\n",
       "<style scoped>\n",
       "    .dataframe tbody tr th:only-of-type {\n",
       "        vertical-align: middle;\n",
       "    }\n",
       "\n",
       "    .dataframe tbody tr th {\n",
       "        vertical-align: top;\n",
       "    }\n",
       "\n",
       "    .dataframe thead th {\n",
       "        text-align: right;\n",
       "    }\n",
       "</style>\n",
       "<table border=\"1\" class=\"dataframe\">\n",
       "  <thead>\n",
       "    <tr style=\"text-align: right;\">\n",
       "      <th></th>\n",
       "      <th>relevance</th>\n",
       "      <th>count</th>\n",
       "      <th>balance</th>\n",
       "    </tr>\n",
       "  </thead>\n",
       "  <tbody>\n",
       "    <tr>\n",
       "      <th>0</th>\n",
       "      <td>0</td>\n",
       "      <td>860</td>\n",
       "      <td>64.95%</td>\n",
       "    </tr>\n",
       "    <tr>\n",
       "      <th>1</th>\n",
       "      <td>1</td>\n",
       "      <td>464</td>\n",
       "      <td>35.05%</td>\n",
       "    </tr>\n",
       "  </tbody>\n",
       "</table>\n",
       "</div>"
      ],
      "text/plain": [
       "   relevance  count balance\n",
       "0          0    860  64.95%\n",
       "1          1    464  35.05%"
      ]
     },
     "execution_count": 177,
     "metadata": {},
     "output_type": "execute_result"
    }
   ],
   "source": [
    "check_relevance_balance(data_new)"
   ]
  },
  {
   "cell_type": "code",
   "execution_count": 74,
   "id": "40727fc6-c992-450b-8503-ace56c122800",
   "metadata": {
    "scrolled": true,
    "tags": []
   },
   "outputs": [
    {
     "name": "stdout",
     "output_type": "stream",
     "text": [
      "{'rel0':                                                    reps  relevance\n",
      "878   [[ 7.82199129e-02 -9.90853831e-02  1.13456212e...          0\n",
      "693   [[-6.93078190e-02 -1.53684229e-01  1.67621210e...          0\n",
      "758   [[-2.75426716e-01  9.96491760e-02 -8.91101658e...          0\n",
      "108   [[-6.13126159e-01 -7.80202821e-02  1.87519327e...          0\n",
      "1426  [[ 4.42697145e-02 -1.32218733e-01  3.34164947e...          0\n",
      "...                                                 ...        ...\n",
      "1191  [[-3.35526586e-01  2.43928675e-02  3.65641177e...          0\n",
      "1677  [[ 4.48293053e-02  3.26756150e-01  2.34281510e...          0\n",
      "419   [[-2.38247976e-01 -1.18343003e-01 -1.08924881e...          0\n",
      "689   [[-1.11226447e-01 -1.33113116e-01  1.69762716e...          0\n",
      "1526  [[-3.57638150e-02  6.03203811e-02  3.91110390e...          0\n",
      "\n",
      "[882 rows x 2 columns], 'rel1':                                                    reps  relevance\n",
      "793   [[ 1.18133217e-01  1.06173556e-03  2.20925882e...          1\n",
      "436   [[ 2.75166184e-02 -2.86957055e-01 -1.21046547e...          1\n",
      "1767  [[-8.43108892e-02 -9.30077061e-02  9.23950151e...          1\n",
      "260   [[ 7.89718032e-02 -6.27300739e-02  2.08393559e...          1\n",
      "1604  [[-3.00563693e-01  6.52555376e-02 -4.84809056e...          1\n",
      "...                                                 ...        ...\n",
      "1218  [[ 6.56178892e-02  1.70009598e-01  1.84226558e...          1\n",
      "1129  [[-2.62197435e-01 -1.10045299e-01  5.58525436e...          1\n",
      "63    [[ 5.49093559e-02 -1.16754919e-01  6.94496483e...          1\n",
      "80    [[ 8.02591741e-02 -2.25765750e-01  2.57207453e...          1\n",
      "1532  [[-3.23292762e-01 -3.71716470e-02 -4.14836071e...          1\n",
      "\n",
      "[442 rows x 2 columns]}\n"
     ]
    }
   ],
   "source": [
    "data_new = datasplit_new(data, testsize = 0.3, relovir = 0.4)\n",
    "# data_new"
   ]
  },
  {
   "cell_type": "code",
   "execution_count": 73,
   "id": "08040cec-819c-4d10-b1f5-5ed211c68f67",
   "metadata": {
    "tags": []
   },
   "outputs": [
    {
     "ename": "AttributeError",
     "evalue": "'NoneType' object has no attribute 'columns'",
     "output_type": "error",
     "traceback": [
      "\u001b[1;31m---------------------------------------------------------------------------\u001b[0m",
      "\u001b[1;31mAttributeError\u001b[0m                            Traceback (most recent call last)",
      "Cell \u001b[1;32mIn[73], line 1\u001b[0m\n\u001b[1;32m----> 1\u001b[0m \u001b[43mprint_tweet_report\u001b[49m\u001b[43m(\u001b[49m\u001b[43mdata_new\u001b[49m\u001b[43m)\u001b[49m\n",
      "File \u001b[1;32m~\\Neural_Networks\\neural networks\\TweetDataReport.py:9\u001b[0m, in \u001b[0;36mprint_tweet_report\u001b[1;34m(df)\u001b[0m\n\u001b[0;32m      5\u001b[0m \u001b[38;5;28;01mdef\u001b[39;00m \u001b[38;5;21mprint_tweet_report\u001b[39m(df):\n\u001b[0;32m      6\u001b[0m \u001b[38;5;250m    \u001b[39m\u001b[38;5;124;03m\"\"\"\u001b[39;00m\n\u001b[0;32m      7\u001b[0m \u001b[38;5;124;03m    bla bla bla\u001b[39;00m\n\u001b[0;32m      8\u001b[0m \u001b[38;5;124;03m    \"\"\"\u001b[39;00m\n\u001b[1;32m----> 9\u001b[0m     column_names \u001b[38;5;241m=\u001b[39m \u001b[38;5;28mlist\u001b[39m(\u001b[43mdf\u001b[49m\u001b[38;5;241;43m.\u001b[39;49m\u001b[43mcolumns\u001b[49m)\n\u001b[0;32m     10\u001b[0m     subseries \u001b[38;5;241m=\u001b[39m  [df\u001b[38;5;241m.\u001b[39miloc[:,n] \u001b[38;5;28;01mfor\u001b[39;00m n \u001b[38;5;129;01min\u001b[39;00m \u001b[38;5;28mrange\u001b[39m(\u001b[38;5;241m0\u001b[39m,\u001b[38;5;28mlen\u001b[39m(column_names))]\n\u001b[0;32m     11\u001b[0m     \u001b[38;5;28;01mdef\u001b[39;00m \u001b[38;5;21mget_shapelen\u001b[39m(x):\n",
      "\u001b[1;31mAttributeError\u001b[0m: 'NoneType' object has no attribute 'columns'"
     ]
    }
   ],
   "source": [
    "print_tweet_report(data_new)"
   ]
  },
  {
   "cell_type": "code",
   "execution_count": 20,
   "id": "b970563c-0e3d-468f-9521-8d7a72edb713",
   "metadata": {
    "tags": []
   },
   "outputs": [
    {
     "data": {
      "text/html": [
       "<div>\n",
       "<style scoped>\n",
       "    .dataframe tbody tr th:only-of-type {\n",
       "        vertical-align: middle;\n",
       "    }\n",
       "\n",
       "    .dataframe tbody tr th {\n",
       "        vertical-align: top;\n",
       "    }\n",
       "\n",
       "    .dataframe thead th {\n",
       "        text-align: right;\n",
       "    }\n",
       "</style>\n",
       "<table border=\"1\" class=\"dataframe\">\n",
       "  <thead>\n",
       "    <tr style=\"text-align: right;\">\n",
       "      <th></th>\n",
       "      <th>relevance</th>\n",
       "      <th>count</th>\n",
       "      <th>balance</th>\n",
       "    </tr>\n",
       "  </thead>\n",
       "  <tbody>\n",
       "    <tr>\n",
       "      <th>0</th>\n",
       "      <td>0</td>\n",
       "      <td>1258</td>\n",
       "      <td>66.49%</td>\n",
       "    </tr>\n",
       "    <tr>\n",
       "      <th>1</th>\n",
       "      <td>1</td>\n",
       "      <td>634</td>\n",
       "      <td>33.51%</td>\n",
       "    </tr>\n",
       "  </tbody>\n",
       "</table>\n",
       "</div>"
      ],
      "text/plain": [
       "   relevance  count balance\n",
       "0          0   1258  66.49%\n",
       "1          1    634  33.51%"
      ]
     },
     "execution_count": 20,
     "metadata": {},
     "output_type": "execute_result"
    }
   ],
   "source": [
    "check_relevance_balance(data)"
   ]
  },
  {
   "cell_type": "code",
   "execution_count": null,
   "id": "be497e76-3a18-40c6-93cc-c5429b0a56ae",
   "metadata": {},
   "outputs": [],
   "source": []
  }
 ],
 "metadata": {
  "kernelspec": {
   "display_name": "Python 3 (ipykernel)",
   "language": "python",
   "name": "python3"
  },
  "language_info": {
   "codemirror_mode": {
    "name": "ipython",
    "version": 3
   },
   "file_extension": ".py",
   "mimetype": "text/x-python",
   "name": "python",
   "nbconvert_exporter": "python",
   "pygments_lexer": "ipython3",
   "version": "3.9.18"
  }
 },
 "nbformat": 4,
 "nbformat_minor": 5
}
