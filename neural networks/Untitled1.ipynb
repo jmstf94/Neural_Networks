{
 "cells": [
  {
   "cell_type": "code",
   "execution_count": 1,
   "id": "3224fedc-e29f-4805-9ca1-6fac4bfb88bb",
   "metadata": {
    "tags": []
   },
   "outputs": [],
   "source": [
    "import pandas as pd\n",
    "import numpy as np\n",
    "\n",
    "from sklearn.model_selection import train_test_split\n",
    "\n",
    "import sys\n",
    "\n",
    "import pickle\n",
    "\n",
    "from transformers import AutoConfig, AutoTokenizer, TFAutoModel, DataCollatorWithPadding\n",
    "\n",
    "import tensorflow as tf\n",
    "import tensorflow_hub as hub\n",
    "from tensorflow.keras.models import Sequential\n",
    "from tensorflow.keras.layers import *\n",
    "from tensorflow.keras.optimizers import Adam\n",
    "\n",
    "import metrics\n",
    "\n",
    "from simpletransformers.language_representation import RepresentationModel\n",
    "\n",
    "from TweetDataReport import datasplit, print_tweet_report, check_relevance_balance\n",
    "\n",
    "import time\n",
    "import itertools\n",
    "import warnings\n",
    "# warnings.filterwarnings(\"ignore\")\n",
    "\n",
    "import matplotlib.pyplot as plt\n",
    "\n",
    "from IPython.display import clear_output\n",
    "\n",
    "import os\n",
    "import re\n",
    "\n",
    "from hyperopt import hp, fmin, tpe , pyll"
   ]
  },
  {
   "cell_type": "code",
   "execution_count": 2,
   "id": "effeac29-b580-486d-8399-77383bd765d4",
   "metadata": {
    "tags": []
   },
   "outputs": [
    {
     "name": "stdout",
     "output_type": "stream",
     "text": [
      "Python Version:3.9.18 (main, Sep 11 2023, 14:09:26) [MSC v.1916 64 bit (AMD64)]\n",
      "TensorFlow Version: 2.10.0\n",
      "GPU is available\n",
      "CUDA Version: True\n"
     ]
    }
   ],
   "source": [
    "print(\"Python Version:\" + sys.version)\n",
    "print(\"TensorFlow Version:\", tf.__version__)\n",
    "if tf.test.gpu_device_name():\n",
    "    print(\"GPU is available\")\n",
    "else:\n",
    "    print(\"GPU is NOT available\")\n",
    "print(\"CUDA Version:\", tf.test.is_built_with_cuda())"
   ]
  },
  {
   "cell_type": "code",
   "execution_count": 4,
   "id": "0d6e5d11-1311-423a-b9ee-070349c33c14",
   "metadata": {
    "tags": []
   },
   "outputs": [],
   "source": [
    "with open('data/italian/00-dirty_dataset/feature_extractions/bert/dbmdz_bert-base-italian-cased.pkl','rb') as file:\n",
    "    WF = pickle.load(file)"
   ]
  },
  {
   "cell_type": "code",
   "execution_count": 53,
   "id": "50a4c6c6-a498-4a34-93ac-8b2d33e499ff",
   "metadata": {
    "tags": []
   },
   "outputs": [
    {
     "name": "stdout",
     "output_type": "stream",
     "text": [
      "447\n",
      "877\n"
     ]
    },
    {
     "data": {
      "text/html": [
       "<div>\n",
       "<style scoped>\n",
       "    .dataframe tbody tr th:only-of-type {\n",
       "        vertical-align: middle;\n",
       "    }\n",
       "\n",
       "    .dataframe tbody tr th {\n",
       "        vertical-align: top;\n",
       "    }\n",
       "\n",
       "    .dataframe thead th {\n",
       "        text-align: right;\n",
       "    }\n",
       "</style>\n",
       "<table border=\"1\" class=\"dataframe\">\n",
       "  <thead>\n",
       "    <tr style=\"text-align: right;\">\n",
       "      <th></th>\n",
       "      <th>relevance</th>\n",
       "      <th>count</th>\n",
       "      <th>balance</th>\n",
       "    </tr>\n",
       "  </thead>\n",
       "  <tbody>\n",
       "    <tr>\n",
       "      <th>0</th>\n",
       "      <td>0</td>\n",
       "      <td>877</td>\n",
       "      <td>83.37%</td>\n",
       "    </tr>\n",
       "    <tr>\n",
       "      <th>1</th>\n",
       "      <td>1</td>\n",
       "      <td>175</td>\n",
       "      <td>16.63%</td>\n",
       "    </tr>\n",
       "  </tbody>\n",
       "</table>\n",
       "</div>"
      ],
      "text/plain": [
       "   relevance  count balance\n",
       "0          0    877  83.37%\n",
       "1          1    175  16.63%"
      ]
     },
     "execution_count": 53,
     "metadata": {},
     "output_type": "execute_result"
    }
   ],
   "source": [
    "import pandas as pd\n",
    "from sklearn.model_selection import train_test_split\n",
    "import numpy as np\n",
    "        \n",
    "def datasplit_new(df,testsize,relovir):\n",
    "    \"\"\"\n",
    "    Firstly we split the dataset into train and test parts.\n",
    "    \n",
    "    Then we create the training dataset by picking up the irrelevant tweets from the training \n",
    "    split part with only the number of relevant tweet\n",
    "    \n",
    "    The relovir variable represents the relative ratio of irrelevant(we usually have more irrelevant so) \n",
    "    over relevant number of training examples in the set.\n",
    "    \n",
    "    Returns as a (examples,768) np array the representations and the y as (examples,) shaped np array.\n",
    "    \n",
    "    Future: we need to be able to reduce zero and one examples accordinglydepending of which \n",
    "    \n",
    "    \"\"\"\n",
    "    # make a copied instance of the dataset\n",
    "    df = df.copy()\n",
    "    # we split the dataset into train and test subsets\n",
    "    df_X_train, df_X_test, df_y_train, df_y_test = train_test_split(df['reps'], df['relevance'], test_size = testsize)\n",
    "    # reconstruct training set\n",
    "    if relovir>0:\n",
    "        training_set = pd.DataFrame()\n",
    "        training_set['reps'] = df_X_train.copy()\n",
    "        training_set['relevance'] = df_y_train.copy()\n",
    "        training_set.reset_index(drop = True)\n",
    "        # we split the training dataset by relervance into two DataFrames irr and rel\n",
    "        grouping = training_set.groupby('relevance')\n",
    "        group_dict = {}\n",
    "        for name, group in grouping:\n",
    "            group_dict[str(name)] = group\n",
    "        # we find the absolute numbers \n",
    "        df_training_irr = group_dict['0'].reset_index(drop = True)\n",
    "        df_training_rel = group_dict['1'].reset_index(drop = True)\n",
    "        # based on the relovir parameter pick up the set with the appropriate ratio, here an explanation for the inner if is needed:\n",
    "        Nrel = len(df_training_rel)\n",
    "        print(Nrel)\n",
    "        Nirr = len(df_training_irr)\n",
    "        print(Nirr)\n",
    "        N = Nrel + Nirr\n",
    "        if relovir<=1:\n",
    "            if relovir<Nrel/Nirr:\n",
    "                relevant_part = df_training_rel.sample(n = int(Nirr*relovir))\n",
    "                df_training = pd.concat([df_training_irr, relevant_part]).sample(frac=1).reset_index(drop = True)\n",
    "            else:\n",
    "                df_training = pd.concat([df_training_irr, df_training_rel]).sample(frac=1).reset_index(drop = True)\n",
    "        else:\n",
    "            if relovir<Nrel/Nirr:\n",
    "                irrelevant_part = df_training_irr.sample(n = int((1/relovir)*Nrel))\n",
    "                df_training = pd.concat([df_training_rel, irrelevant_part]).sample(frac=1).reset_index(drop = True)\n",
    "            else:\n",
    "                df_training = pd.concat([df_training_irr, df_training_rel]).sample(frac=1).reset_index(drop = True)\n",
    "        df_X_train = df_training['reps'].copy()\n",
    "        df_y_train = df_training['relevance'].copy()\n",
    "    else:\n",
    "        print(\"relovir can't be negative or zero\")\n",
    "    df_X_train.apply(lambda x: x.reshape(768,))\n",
    "    df_X_test = df_X_test.copy().apply(lambda x: x.reshape(768,))\n",
    "    training_set_X = np.vstack(df_X_train)\n",
    "    test_set_X = np.vstack(df_X_test)\n",
    "    return training_set_X, test_set_X, df_y_train, df_y_test\n",
    "\n",
    "training_set_X, test_set_X, training_set_y,  test_set_y = datasplit_new(WF,0.3,relovir=0.2)\n",
    "some = pd.DataFrame()\n",
    "some['relevance']=training_set_y\n",
    "check_relevance_balance(some)"
   ]
  },
  {
   "cell_type": "code",
   "execution_count": 38,
   "id": "43e96162-e966-4117-8fe2-021a55a1091a",
   "metadata": {
    "tags": []
   },
   "outputs": [
    {
     "data": {
      "text/plain": [
       "0.19977298524404086"
      ]
     },
     "execution_count": 38,
     "metadata": {},
     "output_type": "execute_result"
    }
   ],
   "source": [
    "176/881"
   ]
  },
  {
   "cell_type": "code",
   "execution_count": 50,
   "id": "8e4b915a-9c55-4edf-a282-e9ea2cbb7471",
   "metadata": {
    "scrolled": true,
    "tags": []
   },
   "outputs": [
    {
     "name": "stdout",
     "output_type": "stream",
     "text": [
      "Το training set X: <class 'numpy.ndarray'> με (1324, 768)\n",
      "To test set X: <class 'numpy.ndarray'> με (568, 768)\n",
      "To training set y: <class 'pandas.core.series.Series'> με 1324\n",
      "To test set y: <class 'pandas.core.series.Series'> με 568\n",
      "Epoch 1/50\n",
      "14/14 - 2s - loss: 0.5775 - acc: 0.3331 - precision: 0.3376 - recall: 1.0000 - f1: 0.5025 - val_loss: 0.4980 - val_acc: 0.3398 - val_precision: 0.3436 - val_recall: 1.0000 - val_f1: 0.5104 - 2s/epoch - 145ms/step\n",
      "Epoch 2/50\n",
      "14/14 - 0s - loss: 0.4364 - acc: 0.3331 - precision: 0.3308 - recall: 1.0000 - f1: 0.4951 - val_loss: 0.3951 - val_acc: 0.3398 - val_precision: 0.3436 - val_recall: 1.0000 - val_f1: 0.5104 - 105ms/epoch - 7ms/step\n",
      "Epoch 3/50\n",
      "14/14 - 0s - loss: 0.3473 - acc: 0.3331 - precision: 0.3286 - recall: 1.0000 - f1: 0.4931 - val_loss: 0.3294 - val_acc: 0.3398 - val_precision: 0.3436 - val_recall: 1.0000 - val_f1: 0.5104 - 104ms/epoch - 7ms/step\n",
      "Epoch 4/50\n",
      "14/14 - 0s - loss: 0.2918 - acc: 0.3331 - precision: 0.3331 - recall: 1.0000 - f1: 0.4976 - val_loss: 0.2899 - val_acc: 0.3398 - val_precision: 0.3436 - val_recall: 1.0000 - val_f1: 0.5104 - 103ms/epoch - 7ms/step\n",
      "Epoch 5/50\n",
      "14/14 - 0s - loss: 0.2559 - acc: 0.3331 - precision: 0.3286 - recall: 1.0000 - f1: 0.4921 - val_loss: 0.2689 - val_acc: 0.3398 - val_precision: 0.3436 - val_recall: 1.0000 - val_f1: 0.5104 - 101ms/epoch - 7ms/step\n",
      "Epoch 6/50\n",
      "14/14 - 0s - loss: 0.2357 - acc: 0.3331 - precision: 0.3308 - recall: 1.0000 - f1: 0.4960 - val_loss: 0.2477 - val_acc: 0.3398 - val_precision: 0.3436 - val_recall: 1.0000 - val_f1: 0.5104 - 107ms/epoch - 8ms/step\n",
      "Epoch 7/50\n",
      "14/14 - 0s - loss: 0.2083 - acc: 0.3331 - precision: 0.3421 - recall: 1.0000 - f1: 0.5067 - val_loss: 0.2409 - val_acc: 0.3398 - val_precision: 0.3436 - val_recall: 1.0000 - val_f1: 0.5104 - 122ms/epoch - 9ms/step\n",
      "Epoch 8/50\n",
      "14/14 - 0s - loss: 0.1921 - acc: 0.3331 - precision: 0.3331 - recall: 1.0000 - f1: 0.4988 - val_loss: 0.2602 - val_acc: 0.3398 - val_precision: 0.3436 - val_recall: 1.0000 - val_f1: 0.5104 - 104ms/epoch - 7ms/step\n",
      "Epoch 9/50\n",
      "14/14 - 0s - loss: 0.1795 - acc: 0.3331 - precision: 0.3399 - recall: 1.0000 - f1: 0.5054 - val_loss: 0.2240 - val_acc: 0.3398 - val_precision: 0.3436 - val_recall: 1.0000 - val_f1: 0.5104 - 103ms/epoch - 7ms/step\n",
      "Epoch 10/50\n",
      "14/14 - 0s - loss: 0.1632 - acc: 0.3331 - precision: 0.3376 - recall: 1.0000 - f1: 0.5030 - val_loss: 0.2227 - val_acc: 0.3398 - val_precision: 0.3436 - val_recall: 1.0000 - val_f1: 0.5104 - 101ms/epoch - 7ms/step\n",
      "Epoch 11/50\n",
      "14/14 - 0s - loss: 0.1504 - acc: 0.3331 - precision: 0.3376 - recall: 1.0000 - f1: 0.5035 - val_loss: 0.2213 - val_acc: 0.3398 - val_precision: 0.3436 - val_recall: 1.0000 - val_f1: 0.5104 - 106ms/epoch - 8ms/step\n",
      "Epoch 12/50\n",
      "14/14 - 0s - loss: 0.1364 - acc: 0.3331 - precision: 0.3331 - recall: 1.0000 - f1: 0.4989 - val_loss: 0.2310 - val_acc: 0.3398 - val_precision: 0.3436 - val_recall: 1.0000 - val_f1: 0.5104 - 103ms/epoch - 7ms/step\n",
      "Epoch 13/50\n",
      "14/14 - 0s - loss: 0.1290 - acc: 0.3331 - precision: 0.3331 - recall: 1.0000 - f1: 0.4988 - val_loss: 0.2267 - val_acc: 0.3398 - val_precision: 0.3436 - val_recall: 1.0000 - val_f1: 0.5104 - 106ms/epoch - 8ms/step\n",
      "Epoch 14/50\n",
      "14/14 - 0s - loss: 0.1171 - acc: 0.3331 - precision: 0.3421 - recall: 1.0000 - f1: 0.5065 - val_loss: 0.2244 - val_acc: 0.3398 - val_precision: 0.3436 - val_recall: 1.0000 - val_f1: 0.5104 - 107ms/epoch - 8ms/step\n",
      "Epoch 15/50\n",
      "14/14 - 0s - loss: 0.1110 - acc: 0.3331 - precision: 0.3354 - recall: 1.0000 - f1: 0.5014 - val_loss: 0.2621 - val_acc: 0.3398 - val_precision: 0.3436 - val_recall: 1.0000 - val_f1: 0.5104 - 112ms/epoch - 8ms/step\n",
      "Epoch 16/50\n",
      "14/14 - 0s - loss: 0.1160 - acc: 0.3331 - precision: 0.3331 - recall: 1.0000 - f1: 0.4983 - val_loss: 0.2302 - val_acc: 0.3398 - val_precision: 0.3436 - val_recall: 1.0000 - val_f1: 0.5104 - 95ms/epoch - 7ms/step\n",
      "Epoch 17/50\n",
      "14/14 - 0s - loss: 0.0926 - acc: 0.3331 - precision: 0.3444 - recall: 1.0000 - f1: 0.5086 - val_loss: 0.2301 - val_acc: 0.3398 - val_precision: 0.3436 - val_recall: 1.0000 - val_f1: 0.5104 - 115ms/epoch - 8ms/step\n",
      "Epoch 18/50\n",
      "14/14 - 0s - loss: 0.0802 - acc: 0.3331 - precision: 0.3399 - recall: 1.0000 - f1: 0.5052 - val_loss: 0.2315 - val_acc: 0.3398 - val_precision: 0.3436 - val_recall: 1.0000 - val_f1: 0.5104 - 112ms/epoch - 8ms/step\n",
      "Epoch 19/50\n",
      "14/14 - 0s - loss: 0.0787 - acc: 0.3331 - precision: 0.3354 - recall: 1.0000 - f1: 0.5009 - val_loss: 0.2370 - val_acc: 0.3398 - val_precision: 0.3436 - val_recall: 1.0000 - val_f1: 0.5104 - 114ms/epoch - 8ms/step\n",
      "Epoch 20/50\n",
      "14/14 - 0s - loss: 0.0673 - acc: 0.3331 - precision: 0.3308 - recall: 1.0000 - f1: 0.4948 - val_loss: 0.2495 - val_acc: 0.3398 - val_precision: 0.3436 - val_recall: 1.0000 - val_f1: 0.5104 - 106ms/epoch - 8ms/step\n",
      "Epoch 21/50\n",
      "14/14 - 0s - loss: 0.0641 - acc: 0.3331 - precision: 0.3399 - recall: 1.0000 - f1: 0.5054 - val_loss: 0.2449 - val_acc: 0.3398 - val_precision: 0.3436 - val_recall: 1.0000 - val_f1: 0.5104 - 109ms/epoch - 8ms/step\n",
      "Epoch 22/50\n",
      "14/14 - 0s - loss: 0.0675 - acc: 0.3331 - precision: 0.3354 - recall: 1.0000 - f1: 0.5008 - val_loss: 0.2744 - val_acc: 0.3398 - val_precision: 0.3436 - val_recall: 1.0000 - val_f1: 0.5104 - 109ms/epoch - 8ms/step\n",
      "Epoch 23/50\n",
      "14/14 - 0s - loss: 0.0558 - acc: 0.3331 - precision: 0.3331 - recall: 1.0000 - f1: 0.4975 - val_loss: 0.2489 - val_acc: 0.3398 - val_precision: 0.3436 - val_recall: 1.0000 - val_f1: 0.5104 - 109ms/epoch - 8ms/step\n",
      "Epoch 24/50\n",
      "14/14 - 0s - loss: 0.0421 - acc: 0.3331 - precision: 0.3263 - recall: 1.0000 - f1: 0.4897 - val_loss: 0.2528 - val_acc: 0.3398 - val_precision: 0.3436 - val_recall: 1.0000 - val_f1: 0.5104 - 111ms/epoch - 8ms/step\n",
      "Epoch 25/50\n",
      "14/14 - 0s - loss: 0.0376 - acc: 0.3331 - precision: 0.3308 - recall: 1.0000 - f1: 0.4950 - val_loss: 0.2581 - val_acc: 0.3398 - val_precision: 0.3436 - val_recall: 1.0000 - val_f1: 0.5104 - 112ms/epoch - 8ms/step\n",
      "Epoch 26/50\n",
      "14/14 - 0s - loss: 0.0330 - acc: 0.3331 - precision: 0.3286 - recall: 1.0000 - f1: 0.4931 - val_loss: 0.2652 - val_acc: 0.3398 - val_precision: 0.3436 - val_recall: 1.0000 - val_f1: 0.5104 - 110ms/epoch - 8ms/step\n",
      "Epoch 27/50\n",
      "14/14 - 0s - loss: 0.0302 - acc: 0.3331 - precision: 0.3376 - recall: 1.0000 - f1: 0.5031 - val_loss: 0.2725 - val_acc: 0.3398 - val_precision: 0.3436 - val_recall: 1.0000 - val_f1: 0.5104 - 111ms/epoch - 8ms/step\n",
      "Epoch 28/50\n",
      "14/14 - 0s - loss: 0.0256 - acc: 0.3331 - precision: 0.3467 - recall: 1.0000 - f1: 0.5093 - val_loss: 0.2733 - val_acc: 0.3398 - val_precision: 0.3436 - val_recall: 1.0000 - val_f1: 0.5104 - 113ms/epoch - 8ms/step\n",
      "Epoch 29/50\n",
      "14/14 - 0s - loss: 0.0228 - acc: 0.3331 - precision: 0.3376 - recall: 1.0000 - f1: 0.5036 - val_loss: 0.2756 - val_acc: 0.3398 - val_precision: 0.3436 - val_recall: 1.0000 - val_f1: 0.5104 - 89ms/epoch - 6ms/step\n",
      "Epoch 30/50\n",
      "14/14 - 0s - loss: 0.0206 - acc: 0.3331 - precision: 0.3376 - recall: 1.0000 - f1: 0.5029 - val_loss: 0.2902 - val_acc: 0.3398 - val_precision: 0.3436 - val_recall: 1.0000 - val_f1: 0.5104 - 107ms/epoch - 8ms/step\n",
      "Epoch 31/50\n",
      "14/14 - 0s - loss: 0.0175 - acc: 0.3331 - precision: 0.3331 - recall: 1.0000 - f1: 0.4980 - val_loss: 0.2837 - val_acc: 0.3398 - val_precision: 0.3436 - val_recall: 1.0000 - val_f1: 0.5104 - 109ms/epoch - 8ms/step\n",
      "Epoch 32/50\n",
      "14/14 - 0s - loss: 0.0161 - acc: 0.3331 - precision: 0.3308 - recall: 1.0000 - f1: 0.4954 - val_loss: 0.2915 - val_acc: 0.3398 - val_precision: 0.3436 - val_recall: 1.0000 - val_f1: 0.5104 - 109ms/epoch - 8ms/step\n",
      "Epoch 33/50\n",
      "14/14 - 0s - loss: 0.0141 - acc: 0.3331 - precision: 0.3354 - recall: 1.0000 - f1: 0.5009 - val_loss: 0.2931 - val_acc: 0.3398 - val_precision: 0.3436 - val_recall: 1.0000 - val_f1: 0.5104 - 109ms/epoch - 8ms/step\n",
      "Epoch 34/50\n",
      "14/14 - 0s - loss: 0.0121 - acc: 0.3331 - precision: 0.3421 - recall: 1.0000 - f1: 0.5070 - val_loss: 0.2980 - val_acc: 0.3398 - val_precision: 0.3436 - val_recall: 1.0000 - val_f1: 0.5104 - 122ms/epoch - 9ms/step\n",
      "Epoch 35/50\n",
      "14/14 - 0s - loss: 0.0106 - acc: 0.3331 - precision: 0.3354 - recall: 1.0000 - f1: 0.5006 - val_loss: 0.3152 - val_acc: 0.3398 - val_precision: 0.3436 - val_recall: 1.0000 - val_f1: 0.5104 - 119ms/epoch - 8ms/step\n",
      "Epoch 36/50\n",
      "14/14 - 0s - loss: 0.0101 - acc: 0.3331 - precision: 0.3331 - recall: 1.0000 - f1: 0.4982 - val_loss: 0.3052 - val_acc: 0.3398 - val_precision: 0.3436 - val_recall: 1.0000 - val_f1: 0.5104 - 122ms/epoch - 9ms/step\n",
      "Epoch 37/50\n",
      "14/14 - 0s - loss: 0.0079 - acc: 0.3331 - precision: 0.3263 - recall: 1.0000 - f1: 0.4877 - val_loss: 0.3081 - val_acc: 0.3398 - val_precision: 0.3436 - val_recall: 1.0000 - val_f1: 0.5104 - 119ms/epoch - 8ms/step\n",
      "Epoch 38/50\n",
      "14/14 - 0s - loss: 0.0072 - acc: 0.3331 - precision: 0.3308 - recall: 1.0000 - f1: 0.4963 - val_loss: 0.3102 - val_acc: 0.3398 - val_precision: 0.3436 - val_recall: 1.0000 - val_f1: 0.5104 - 109ms/epoch - 8ms/step\n",
      "Epoch 39/50\n",
      "14/14 - 0s - loss: 0.0063 - acc: 0.3331 - precision: 0.3399 - recall: 1.0000 - f1: 0.5041 - val_loss: 0.3156 - val_acc: 0.3398 - val_precision: 0.3436 - val_recall: 1.0000 - val_f1: 0.5104 - 107ms/epoch - 8ms/step\n",
      "Epoch 40/50\n",
      "14/14 - 0s - loss: 0.0068 - acc: 0.3331 - precision: 0.3354 - recall: 1.0000 - f1: 0.4999 - val_loss: 0.3161 - val_acc: 0.3398 - val_precision: 0.3436 - val_recall: 1.0000 - val_f1: 0.5104 - 111ms/epoch - 8ms/step\n",
      "Epoch 41/50\n",
      "14/14 - 0s - loss: 0.0053 - acc: 0.3331 - precision: 0.3376 - recall: 1.0000 - f1: 0.5030 - val_loss: 0.3211 - val_acc: 0.3398 - val_precision: 0.3436 - val_recall: 1.0000 - val_f1: 0.5104 - 108ms/epoch - 8ms/step\n",
      "Epoch 42/50\n",
      "14/14 - 0s - loss: 0.0045 - acc: 0.3331 - precision: 0.3421 - recall: 1.0000 - f1: 0.5076 - val_loss: 0.3257 - val_acc: 0.3398 - val_precision: 0.3436 - val_recall: 1.0000 - val_f1: 0.5104 - 107ms/epoch - 8ms/step\n",
      "Epoch 43/50\n",
      "14/14 - 0s - loss: 0.0041 - acc: 0.3331 - precision: 0.3399 - recall: 1.0000 - f1: 0.5052 - val_loss: 0.3320 - val_acc: 0.3398 - val_precision: 0.3436 - val_recall: 1.0000 - val_f1: 0.5104 - 104ms/epoch - 7ms/step\n",
      "Epoch 44/50\n",
      "14/14 - 0s - loss: 0.0038 - acc: 0.3331 - precision: 0.3376 - recall: 1.0000 - f1: 0.5013 - val_loss: 0.3352 - val_acc: 0.3398 - val_precision: 0.3436 - val_recall: 1.0000 - val_f1: 0.5104 - 102ms/epoch - 7ms/step\n",
      "Epoch 45/50\n",
      "14/14 - 0s - loss: 0.0034 - acc: 0.3331 - precision: 0.3331 - recall: 1.0000 - f1: 0.4984 - val_loss: 0.3349 - val_acc: 0.3398 - val_precision: 0.3436 - val_recall: 1.0000 - val_f1: 0.5104 - 81ms/epoch - 6ms/step\n",
      "Epoch 46/50\n",
      "14/14 - 0s - loss: 0.0031 - acc: 0.3331 - precision: 0.3331 - recall: 1.0000 - f1: 0.4978 - val_loss: 0.3393 - val_acc: 0.3398 - val_precision: 0.3436 - val_recall: 1.0000 - val_f1: 0.5104 - 107ms/epoch - 8ms/step\n",
      "Epoch 47/50\n",
      "14/14 - 0s - loss: 0.0028 - acc: 0.3331 - precision: 0.3331 - recall: 1.0000 - f1: 0.4987 - val_loss: 0.3397 - val_acc: 0.3398 - val_precision: 0.3436 - val_recall: 1.0000 - val_f1: 0.5104 - 114ms/epoch - 8ms/step\n",
      "Epoch 48/50\n",
      "14/14 - 0s - loss: 0.0027 - acc: 0.3331 - precision: 0.3286 - recall: 1.0000 - f1: 0.4934 - val_loss: 0.3432 - val_acc: 0.3398 - val_precision: 0.3436 - val_recall: 1.0000 - val_f1: 0.5104 - 96ms/epoch - 7ms/step\n",
      "Epoch 49/50\n",
      "14/14 - 0s - loss: 0.0024 - acc: 0.3331 - precision: 0.3354 - recall: 1.0000 - f1: 0.5006 - val_loss: 0.3490 - val_acc: 0.3398 - val_precision: 0.3436 - val_recall: 1.0000 - val_f1: 0.5104 - 108ms/epoch - 8ms/step\n",
      "Epoch 50/50\n",
      "14/14 - 0s - loss: 0.0022 - acc: 0.3331 - precision: 0.3354 - recall: 1.0000 - f1: 0.5002 - val_loss: 0.3469 - val_acc: 0.3398 - val_precision: 0.3436 - val_recall: 1.0000 - val_f1: 0.5104 - 118ms/epoch - 8ms/step\n",
      "18/18 [==============================] - 0s 3ms/step - loss: 0.3469 - acc: 0.3398 - precision: 0.3409 - recall: 1.0000 - f1: 0.5050\n"
     ]
    },
    {
     "data": {
      "text/plain": [
       "[0.34694820642471313,\n",
       " 0.3397887349128723,\n",
       " 0.3408564627170563,\n",
       " 1.0,\n",
       " 0.5050369501113892]"
      ]
     },
     "execution_count": 50,
     "metadata": {},
     "output_type": "execute_result"
    }
   ],
   "source": [
    "\n",
    "\n",
    "print(f\"Το training set X: {type(training_set_X)} με {training_set_X.shape}\")\n",
    "print(f\"To test set X: {type(test_set_X)} με {test_set_X.shape}\")\n",
    "print(f\"To training set y: {type(training_set_y)} με {len(training_set_y)}\")\n",
    "print(f\"To test set y: {type(test_set_y )} με {len(test_set_y)}\")\n",
    "\n",
    "model = Sequential()\n",
    "model.add(Input(shape = (768,)))\n",
    "model.add(Dense(768,activation='relu'))\n",
    "model.add(Dense(384,activation='relu'))\n",
    "model.add(Dense(192,activation='relu'))\n",
    "model.add(Dense(1,activation='softmax'))\n",
    "model.compile(optimizer=Adam(learning_rate=0.0001), loss='binary_crossentropy', metrics=['acc', metrics.precision, metrics.recall, metrics.f1])\n",
    "history = model.fit(training_set_X, training_set_y,validation_data=( test_set_X,  test_set_y), batch_size = 100, epochs = 50, verbose = 2,callbacks=[],shuffle = True)\n",
    "model.evaluate(test_set_X,test_set_y)"
   ]
  },
  {
   "cell_type": "code",
   "execution_count": 232,
   "id": "e59e804f-7ea1-4899-9c01-04bd2baff0f2",
   "metadata": {
    "tags": []
   },
   "outputs": [
    {
     "data": {
      "text/plain": [
       "0.5166093928980527"
      ]
     },
     "execution_count": 232,
     "metadata": {},
     "output_type": "execute_result"
    }
   ],
   "source": [
    "451/873"
   ]
  },
  {
   "cell_type": "code",
   "execution_count": 203,
   "id": "40727fc6-c992-450b-8503-ace56c122800",
   "metadata": {
    "scrolled": true,
    "tags": []
   },
   "outputs": [
    {
     "ename": "NameError",
     "evalue": "name 'data' is not defined",
     "output_type": "error",
     "traceback": [
      "\u001b[1;31m---------------------------------------------------------------------------\u001b[0m",
      "\u001b[1;31mNameError\u001b[0m                                 Traceback (most recent call last)",
      "Cell \u001b[1;32mIn[203], line 1\u001b[0m\n\u001b[1;32m----> 1\u001b[0m data_new \u001b[38;5;241m=\u001b[39m datasplit_new(\u001b[43mdata\u001b[49m, testsize \u001b[38;5;241m=\u001b[39m \u001b[38;5;241m0.3\u001b[39m, relovir \u001b[38;5;241m=\u001b[39m \u001b[38;5;241m0.4\u001b[39m)\n",
      "\u001b[1;31mNameError\u001b[0m: name 'data' is not defined"
     ]
    }
   ],
   "source": [
    "data_new = datasplit_new(data, testsize = 0.3, relovir = 0.4)\n",
    "# data_new"
   ]
  },
  {
   "cell_type": "code",
   "execution_count": 73,
   "id": "08040cec-819c-4d10-b1f5-5ed211c68f67",
   "metadata": {
    "tags": []
   },
   "outputs": [
    {
     "ename": "AttributeError",
     "evalue": "'NoneType' object has no attribute 'columns'",
     "output_type": "error",
     "traceback": [
      "\u001b[1;31m---------------------------------------------------------------------------\u001b[0m",
      "\u001b[1;31mAttributeError\u001b[0m                            Traceback (most recent call last)",
      "Cell \u001b[1;32mIn[73], line 1\u001b[0m\n\u001b[1;32m----> 1\u001b[0m \u001b[43mprint_tweet_report\u001b[49m\u001b[43m(\u001b[49m\u001b[43mdata_new\u001b[49m\u001b[43m)\u001b[49m\n",
      "File \u001b[1;32m~\\Neural_Networks\\neural networks\\TweetDataReport.py:9\u001b[0m, in \u001b[0;36mprint_tweet_report\u001b[1;34m(df)\u001b[0m\n\u001b[0;32m      5\u001b[0m \u001b[38;5;28;01mdef\u001b[39;00m \u001b[38;5;21mprint_tweet_report\u001b[39m(df):\n\u001b[0;32m      6\u001b[0m \u001b[38;5;250m    \u001b[39m\u001b[38;5;124;03m\"\"\"\u001b[39;00m\n\u001b[0;32m      7\u001b[0m \u001b[38;5;124;03m    bla bla bla\u001b[39;00m\n\u001b[0;32m      8\u001b[0m \u001b[38;5;124;03m    \"\"\"\u001b[39;00m\n\u001b[1;32m----> 9\u001b[0m     column_names \u001b[38;5;241m=\u001b[39m \u001b[38;5;28mlist\u001b[39m(\u001b[43mdf\u001b[49m\u001b[38;5;241;43m.\u001b[39;49m\u001b[43mcolumns\u001b[49m)\n\u001b[0;32m     10\u001b[0m     subseries \u001b[38;5;241m=\u001b[39m  [df\u001b[38;5;241m.\u001b[39miloc[:,n] \u001b[38;5;28;01mfor\u001b[39;00m n \u001b[38;5;129;01min\u001b[39;00m \u001b[38;5;28mrange\u001b[39m(\u001b[38;5;241m0\u001b[39m,\u001b[38;5;28mlen\u001b[39m(column_names))]\n\u001b[0;32m     11\u001b[0m     \u001b[38;5;28;01mdef\u001b[39;00m \u001b[38;5;21mget_shapelen\u001b[39m(x):\n",
      "\u001b[1;31mAttributeError\u001b[0m: 'NoneType' object has no attribute 'columns'"
     ]
    }
   ],
   "source": [
    "print_tweet_report(data_new)"
   ]
  },
  {
   "cell_type": "code",
   "execution_count": 20,
   "id": "b970563c-0e3d-468f-9521-8d7a72edb713",
   "metadata": {
    "tags": []
   },
   "outputs": [
    {
     "data": {
      "text/html": [
       "<div>\n",
       "<style scoped>\n",
       "    .dataframe tbody tr th:only-of-type {\n",
       "        vertical-align: middle;\n",
       "    }\n",
       "\n",
       "    .dataframe tbody tr th {\n",
       "        vertical-align: top;\n",
       "    }\n",
       "\n",
       "    .dataframe thead th {\n",
       "        text-align: right;\n",
       "    }\n",
       "</style>\n",
       "<table border=\"1\" class=\"dataframe\">\n",
       "  <thead>\n",
       "    <tr style=\"text-align: right;\">\n",
       "      <th></th>\n",
       "      <th>relevance</th>\n",
       "      <th>count</th>\n",
       "      <th>balance</th>\n",
       "    </tr>\n",
       "  </thead>\n",
       "  <tbody>\n",
       "    <tr>\n",
       "      <th>0</th>\n",
       "      <td>0</td>\n",
       "      <td>1258</td>\n",
       "      <td>66.49%</td>\n",
       "    </tr>\n",
       "    <tr>\n",
       "      <th>1</th>\n",
       "      <td>1</td>\n",
       "      <td>634</td>\n",
       "      <td>33.51%</td>\n",
       "    </tr>\n",
       "  </tbody>\n",
       "</table>\n",
       "</div>"
      ],
      "text/plain": [
       "   relevance  count balance\n",
       "0          0   1258  66.49%\n",
       "1          1    634  33.51%"
      ]
     },
     "execution_count": 20,
     "metadata": {},
     "output_type": "execute_result"
    }
   ],
   "source": [
    "check_relevance_balance(data)"
   ]
  },
  {
   "cell_type": "code",
   "execution_count": 165,
   "id": "be497e76-3a18-40c6-93cc-c5429b0a56ae",
   "metadata": {},
   "outputs": [
    {
     "name": "stdout",
     "output_type": "stream",
     "text": [
      "(2, 3)\n"
     ]
    }
   ],
   "source": [
    "import numpy as np\n",
    "import pandas as pd\n",
    "\n",
    "# Example Pandas Series containing NumPy arrays\n",
    "my_series = pd.Series([np.array([1, 2, 3]), np.array([4, 5, 6])])\n",
    "\n",
    "# Use np.vstack() to stack the arrays vertically\n",
    "stacked_array = np.vstack(my_series)\n",
    "\n",
    "# The resulting array will have shape (1300, 768)\n",
    "print(stacked_array.shape)"
   ]
  },
  {
   "cell_type": "code",
   "execution_count": 166,
   "id": "a32d77d3-5d90-43b5-8e89-1f73388d4f9b",
   "metadata": {
    "tags": []
   },
   "outputs": [
    {
     "data": {
      "text/plain": [
       "0    [1, 2, 3]\n",
       "1    [4, 5, 6]\n",
       "dtype: object"
      ]
     },
     "execution_count": 166,
     "metadata": {},
     "output_type": "execute_result"
    }
   ],
   "source": [
    "my_series"
   ]
  },
  {
   "cell_type": "code",
   "execution_count": 167,
   "id": "f15c7a3c-87f0-44a1-9379-f46442a023e7",
   "metadata": {
    "tags": []
   },
   "outputs": [
    {
     "data": {
      "text/plain": [
       "array([[1, 2, 3],\n",
       "       [4, 5, 6]])"
      ]
     },
     "execution_count": 167,
     "metadata": {},
     "output_type": "execute_result"
    }
   ],
   "source": [
    "stacked_array"
   ]
  },
  {
   "cell_type": "code",
   "execution_count": null,
   "id": "599037f6-2c28-4de7-86a8-24dd95824374",
   "metadata": {},
   "outputs": [],
   "source": []
  }
 ],
 "metadata": {
  "kernelspec": {
   "display_name": "Python 3 (ipykernel)",
   "language": "python",
   "name": "python3"
  },
  "language_info": {
   "codemirror_mode": {
    "name": "ipython",
    "version": 3
   },
   "file_extension": ".py",
   "mimetype": "text/x-python",
   "name": "python",
   "nbconvert_exporter": "python",
   "pygments_lexer": "ipython3",
   "version": "3.9.18"
  }
 },
 "nbformat": 4,
 "nbformat_minor": 5
}
