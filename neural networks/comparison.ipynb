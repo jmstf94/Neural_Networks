{
 "cells": [
  {
   "cell_type": "code",
   "execution_count": null,
   "id": "6472f791-365f-4ca0-9ff4-24e8f9e214a4",
   "metadata": {},
   "outputs": [],
   "source": [
    "def print_directory_structure(root_directory):\n",
    "    for dirpath, dirnames, filenames in os.walk(root_directory):\n",
    "        level = dirpath.replace(root_directory, '').count(os.sep)\n",
    "        indent = ' ' * 4 * (level)\n",
    "        print('{}{}/'.format(indent, os.path.basename(dirpath)))\n",
    "        sub_indent = ' ' * 4 * (level + 1)\n",
    "        for f in filenames:\n",
    "            print('{}{}'.format(sub_indent, f))\n",
    "root_directory = 'runs'\n",
    "print_directory_structure(root_directory)"
   ]
  },
  {
   "cell_type": "code",
   "execution_count": null,
   "id": "08118eaa-8ea8-4914-a0a4-eae522cfc207",
   "metadata": {},
   "outputs": [],
   "source": [
    "maxlist = []\n",
    "runlist = []\n",
    "for run in os.listdir('runs')[1:]:\n",
    "    folderpath = 'runs/'+run\n",
    "    hyperparameters = None\n",
    "    results = None\n",
    "    with open(folderpath+'/results.plk', 'rb') as file:\n",
    "        results = pickle.load(file)\n",
    "    results = results.sort_values(by='val_f1',ascending = False)\n",
    "    maxlist.append(results['val_f1'][0])\n",
    "    runlist.append(run)"
   ]
  },
  {
   "cell_type": "code",
   "execution_count": null,
   "id": "a05ffb25-cdd8-41c2-96a0-fb16307dfa61",
   "metadata": {},
   "outputs": [],
   "source": [
    "comparison = pd.DataFrame({'run':runlist,'f1':maxlist})"
   ]
  },
  {
   "cell_type": "code",
   "execution_count": null,
   "id": "5f345155-c25a-4f08-813d-99009a19bb3f",
   "metadata": {},
   "outputs": [],
   "source": [
    "comparison = comparison.sort_values(by = 'f1',ascending=False)"
   ]
  },
  {
   "cell_type": "code",
   "execution_count": null,
   "id": "8f4d9545-300c-4a02-acb7-e36be18977e1",
   "metadata": {},
   "outputs": [],
   "source": [
    "comparison"
   ]
  }
 ],
 "metadata": {
  "kernelspec": {
   "display_name": "Python 3 (ipykernel)",
   "language": "python",
   "name": "python3"
  },
  "language_info": {
   "codemirror_mode": {
    "name": "ipython",
    "version": 3
   },
   "file_extension": ".py",
   "mimetype": "text/x-python",
   "name": "python",
   "nbconvert_exporter": "python",
   "pygments_lexer": "ipython3",
   "version": "3.9.18"
  }
 },
 "nbformat": 4,
 "nbformat_minor": 5
}
