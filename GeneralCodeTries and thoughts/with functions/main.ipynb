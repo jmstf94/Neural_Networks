{
 "cells": [
  {
   "cell_type": "code",
   "execution_count": 4,
   "id": "2ce04516",
   "metadata": {},
   "outputs": [],
   "source": [
    "import tensorflow as tf\n",
    "from tensorflow import keras\n",
    "from hyperopt import fmin, tpe, hp, pyll\n",
    "from hyperopt.pyll import scope\n",
    "import hyperopt\n",
    "from TweetDataProcessing.TweetDataReport import *\n",
    "import pandas as pd\n",
    "import numpy as np\n",
    "from sklearn.model_selection import train_test_split\n",
    "from simpletransformers.language_representation import RepresentationModel\n",
    "from tensorflow.keras.models import Sequential\n",
    "from tensorflow.keras.layers import *\n",
    "from tensorflow.keras.initializers import GlorotUniform, HeUniform\n",
    "from tensorflow.keras.optimizers import Adam\n",
    "np.set_printoptions(precision=8, suppress=False)\n",
    "import pickle\n",
    "import metrics\n",
    "import matplotlib.pyplot as plt\n",
    "import time\n",
    "from IPython.display import clear_output\n",
    "import os\n",
    "import re"
   ]
  },
  {
   "cell_type": "code",
   "execution_count": 12,
   "id": "dc1c2783",
   "metadata": {},
   "outputs": [],
   "source": [
    "with open('WF.pkl', 'rb') as f:  \n",
    "    WF = pickle.load(f)"
   ]
  },
  {
   "cell_type": "code",
   "execution_count": 13,
   "id": "fddaf0a7",
   "metadata": {},
   "outputs": [
    {
     "data": {
      "text/html": [
       "<div>\n",
       "<style scoped>\n",
       "    .dataframe tbody tr th:only-of-type {\n",
       "        vertical-align: middle;\n",
       "    }\n",
       "\n",
       "    .dataframe tbody tr th {\n",
       "        vertical-align: top;\n",
       "    }\n",
       "\n",
       "    .dataframe thead th {\n",
       "        text-align: right;\n",
       "    }\n",
       "</style>\n",
       "<table border=\"1\" class=\"dataframe\">\n",
       "  <thead>\n",
       "    <tr style=\"text-align: right;\">\n",
       "      <th></th>\n",
       "      <th>id</th>\n",
       "      <th>text</th>\n",
       "      <th>relevance</th>\n",
       "      <th>reps</th>\n",
       "    </tr>\n",
       "  </thead>\n",
       "  <tbody>\n",
       "    <tr>\n",
       "      <th>0</th>\n",
       "      <td>897467574333710336</td>\n",
       "      <td>2007 . Κυβέρνηση Καραμανλή. 63 Άνθρωποι κάηκαν...</td>\n",
       "      <td>0</td>\n",
       "      <td>[[-0.6408848, -0.48102167, 0.20622978, -0.0700...</td>\n",
       "    </tr>\n",
       "    <tr>\n",
       "      <th>1</th>\n",
       "      <td>881453930370146304</td>\n",
       "      <td>56 δασικές πυρκαγιές μέσα σε ένα 24ωρο - σε εξ...</td>\n",
       "      <td>0</td>\n",
       "      <td>[[-0.18210799, -0.5399046, 0.111069806, 0.3130...</td>\n",
       "    </tr>\n",
       "    <tr>\n",
       "      <th>2</th>\n",
       "      <td>897201816047411200</td>\n",
       "      <td>#vouli #Καλαμο #Kalamos #Βαρναβα #φωτιά #πυρκα...</td>\n",
       "      <td>0</td>\n",
       "      <td>[[-0.84237725, -0.2731679, -0.31454232, 0.5368...</td>\n",
       "    </tr>\n",
       "    <tr>\n",
       "      <th>3</th>\n",
       "      <td>897871421879275520</td>\n",
       "      <td>#pyrkagia:Ευθύνες στους 300 διαχρονικά #vouli ...</td>\n",
       "      <td>0</td>\n",
       "      <td>[[-0.5167864, -0.85462856, -0.17453858, 0.8997...</td>\n",
       "    </tr>\n",
       "    <tr>\n",
       "      <th>4</th>\n",
       "      <td>897670763649662976</td>\n",
       "      <td>Αμυδρές ελπίδες ότι “ηρεμούν” οι φωτιές: Δεν έ...</td>\n",
       "      <td>1</td>\n",
       "      <td>[[-0.6144835, -0.7360876, 0.08487149, 0.340718...</td>\n",
       "    </tr>\n",
       "    <tr>\n",
       "      <th>...</th>\n",
       "      <td>...</td>\n",
       "      <td>...</td>\n",
       "      <td>...</td>\n",
       "      <td>...</td>\n",
       "    </tr>\n",
       "    <tr>\n",
       "      <th>3799</th>\n",
       "      <td>907235177885261824</td>\n",
       "      <td>Σε εξέλιξη μεγάλη πυρκαγιά στο Αγρίνιο | kontr...</td>\n",
       "      <td>1</td>\n",
       "      <td>[[-0.44032797, -0.65290415, -0.13523479, 0.345...</td>\n",
       "    </tr>\n",
       "    <tr>\n",
       "      <th>3800</th>\n",
       "      <td>897215964785332224</td>\n",
       "      <td>@couchpotatoes05 @pyrosvestiki Τραβάνε μεγάλο ...</td>\n",
       "      <td>0</td>\n",
       "      <td>[[-0.7781397, -0.39640337, -0.5486824, 0.28955...</td>\n",
       "    </tr>\n",
       "    <tr>\n",
       "      <th>3801</th>\n",
       "      <td>897214452738781184</td>\n",
       "      <td>#vouli #Καλαμο #Kalamos #Βαρναβα #φωτιά #πυρκα...</td>\n",
       "      <td>0</td>\n",
       "      <td>[[-1.2320484, 0.09964307, -0.58601195, 0.54208...</td>\n",
       "    </tr>\n",
       "    <tr>\n",
       "      <th>3802</th>\n",
       "      <td>907288819061231616</td>\n",
       "      <td>Σε εξέλιξη πυρκαγιά σε περιοχή του Ρεθύμνου  h...</td>\n",
       "      <td>1</td>\n",
       "      <td>[[-0.6051739, -0.53369755, 0.27293795, 0.63927...</td>\n",
       "    </tr>\n",
       "    <tr>\n",
       "      <th>3803</th>\n",
       "      <td>881191982168760320</td>\n",
       "      <td>Μυτιλήνη: Πυρκαγιά στην περιοχή του Καρά Τεπέ ...</td>\n",
       "      <td>1</td>\n",
       "      <td>[[-0.41292074, -0.7942677, 0.22602521, 0.41025...</td>\n",
       "    </tr>\n",
       "  </tbody>\n",
       "</table>\n",
       "<p>3804 rows × 4 columns</p>\n",
       "</div>"
      ],
      "text/plain": [
       "                      id                                               text  \\\n",
       "0     897467574333710336  2007 . Κυβέρνηση Καραμανλή. 63 Άνθρωποι κάηκαν...   \n",
       "1     881453930370146304  56 δασικές πυρκαγιές μέσα σε ένα 24ωρο - σε εξ...   \n",
       "2     897201816047411200  #vouli #Καλαμο #Kalamos #Βαρναβα #φωτιά #πυρκα...   \n",
       "3     897871421879275520  #pyrkagia:Ευθύνες στους 300 διαχρονικά #vouli ...   \n",
       "4     897670763649662976  Αμυδρές ελπίδες ότι “ηρεμούν” οι φωτιές: Δεν έ...   \n",
       "...                  ...                                                ...   \n",
       "3799  907235177885261824  Σε εξέλιξη μεγάλη πυρκαγιά στο Αγρίνιο | kontr...   \n",
       "3800  897215964785332224  @couchpotatoes05 @pyrosvestiki Τραβάνε μεγάλο ...   \n",
       "3801  897214452738781184  #vouli #Καλαμο #Kalamos #Βαρναβα #φωτιά #πυρκα...   \n",
       "3802  907288819061231616  Σε εξέλιξη πυρκαγιά σε περιοχή του Ρεθύμνου  h...   \n",
       "3803  881191982168760320  Μυτιλήνη: Πυρκαγιά στην περιοχή του Καρά Τεπέ ...   \n",
       "\n",
       "      relevance                                               reps  \n",
       "0             0  [[-0.6408848, -0.48102167, 0.20622978, -0.0700...  \n",
       "1             0  [[-0.18210799, -0.5399046, 0.111069806, 0.3130...  \n",
       "2             0  [[-0.84237725, -0.2731679, -0.31454232, 0.5368...  \n",
       "3             0  [[-0.5167864, -0.85462856, -0.17453858, 0.8997...  \n",
       "4             1  [[-0.6144835, -0.7360876, 0.08487149, 0.340718...  \n",
       "...         ...                                                ...  \n",
       "3799          1  [[-0.44032797, -0.65290415, -0.13523479, 0.345...  \n",
       "3800          0  [[-0.7781397, -0.39640337, -0.5486824, 0.28955...  \n",
       "3801          0  [[-1.2320484, 0.09964307, -0.58601195, 0.54208...  \n",
       "3802          1  [[-0.6051739, -0.53369755, 0.27293795, 0.63927...  \n",
       "3803          1  [[-0.41292074, -0.7942677, 0.22602521, 0.41025...  \n",
       "\n",
       "[3804 rows x 4 columns]"
      ]
     },
     "execution_count": 13,
     "metadata": {},
     "output_type": "execute_result"
    }
   ],
   "source": [
    "WF"
   ]
  },
  {
   "cell_type": "code",
   "execution_count": 4,
   "id": "a151dff1",
   "metadata": {},
   "outputs": [],
   "source": [
    "hyperspace = {\n",
    "    'dropout_rate': hp.uniform('dropout_rate', 0.05, 0.45),\n",
    "    'dropout_rate2': hp.uniform('dropout_rate2', 0.05, 0.45),\n",
    "    'relovir': hp.uniform('relovir', 0.5, 1),\n",
    "    'PostEmbedding#nods': hp.qnormal('PostEmbedding#nods',768,150,q = 1),\n",
    "    'batch_size' : hp.quniform('batch_size',15,60,q=1),\n",
    "    'PostEmbeddingActivation':hp.choice('PostEmbeddingActivation',['relu','tanh']),\n",
    "    'PostEmbedding#nods2': hp.qnormal('PostEmbedding#nod2',768,150,q = 1),\n",
    "    'PostEmbeddingActivation2':hp.choice('PostEmbeddingActivation2',['relu','tanh']),\n",
    "    'PrePredictionActivation':hp.choice('PrePredictionActivation',['softmax','sigmoid'])\n",
    "     }"
   ]
  },
  {
   "cell_type": "code",
   "execution_count": 7,
   "id": "0910cc1c",
   "metadata": {},
   "outputs": [],
   "source": [
    "def modelize(calibrers):\n",
    "    \n",
    "    # define manual/constant hyperparameters\n",
    "    \n",
    "    hyperparameters = {\n",
    "                   'ITERATIONS':'20',\n",
    "                   'EPOCHS': '50',\n",
    "                   'LOSS':\"'binary_crossentropy'\",\n",
    "                   'OPTIMIZER': 'Adam(learning_rate=0.0001)',\n",
    "                   'METRICS': \"\"\"['acc', metrics.precision, metrics.recall, metrics.f1]\"\"\",\n",
    "                   'BATCH_SIZE': '32',\n",
    "                   'TEST_SIZE': '0.15'}\n",
    "    \n",
    "#                    'RELOVIR': '1' }\n",
    "\n",
    "    \n",
    "    for key, value in hyperparameters.items():\n",
    "        globals()[key] = eval(value)\n",
    "        #print(key+':'+value)\n",
    "    \n",
    "    av_f1_val = np.zeros(EPOCHS)\n",
    "    \n",
    "    for iteration in range(ITERATIONS):\n",
    "        \n",
    "        # training set\n",
    "        \n",
    "        training_set_X, test_set_X, training_set_y, test_set_y = datasplit(WF, TEST_SIZE, relovir= calibrers['relovir'])\n",
    "        \n",
    "        #model building\n",
    "        \n",
    "        model = Sequential()\n",
    "        model.add(Input(shape = (768,))) \n",
    "        model.add(Dense(calibrers['PostEmbedding#nods'],activation=calibrers['PostEmbeddingActivation']))\n",
    "        model.add(Dropout(calibrers['dropout_rate']))\n",
    "        model.add(Dense(calibrers['PostEmbedding#nods2'],activation=calibrers['PostEmbeddingActivation2']))\n",
    "        model.add(Dropout(calibrers['dropout_rate2']))\n",
    "        model.add(Dense(1,activation=calibrers['PrePredictionActivation']))\n",
    "        \n",
    "        \n",
    "        \n",
    "        model.compile(optimizer=OPTIMIZER, loss=LOSS, metrics=METRICS)\n",
    "        \n",
    "        history = model.fit(training_set_X, training_set_y,validation_data=( test_set_X,  test_set_y), batch_size = int(calibrers['batch_size']), epochs = EPOCHS, verbose = 0,callbacks=[],shuffle = True)\n",
    "    \n",
    "        av_f1_val = np.add(av_f1_val,np.array(history.history['val_f1']))\n",
    " \n",
    "    return -np.max(np.divide(av_f1_val,ITERATIONS))"
   ]
  },
  {
   "cell_type": "code",
   "execution_count": 8,
   "id": "10d446c3",
   "metadata": {},
   "outputs": [
    {
     "name": "stdout",
     "output_type": "stream",
     "text": [
      "100%|████████████████████████████████████████████| 10/10 [1:51:18<00:00, 667.86s/trial, best loss: -0.8732911765575408]\n"
     ]
    },
    {
     "data": {
      "text/plain": [
       "{'PostEmbedding#nod2': 816.0,\n",
       " 'PostEmbedding#nods': 785.0,\n",
       " 'PostEmbeddingActivation': 0,\n",
       " 'PostEmbeddingActivation2': 1,\n",
       " 'PrePredictionActivation': 1,\n",
       " 'batch_size': 18.0,\n",
       " 'dropout_rate': 0.27599333184153324,\n",
       " 'dropout_rate2': 0.16804208635517714,\n",
       " 'relovir': 0.6352668325536401}"
      ]
     },
     "execution_count": 8,
     "metadata": {},
     "output_type": "execute_result"
    }
   ],
   "source": [
    "best = fmin(fn=modelize, space=hyperspace, algo=tpe.suggest, max_evals=10)\n",
    "best"
   ]
  },
  {
   "cell_type": "code",
   "execution_count": 9,
   "id": "449f1034",
   "metadata": {},
   "outputs": [
    {
     "ename": "NameError",
     "evalue": "name 'model' is not defined",
     "output_type": "error",
     "traceback": [
      "\u001b[1;31m---------------------------------------------------------------------------\u001b[0m",
      "\u001b[1;31mNameError\u001b[0m                                 Traceback (most recent call last)",
      "\u001b[1;32m<ipython-input-9-5f15418b3570>\u001b[0m in \u001b[0;36m<module>\u001b[1;34m\u001b[0m\n\u001b[1;32m----> 1\u001b[1;33m \u001b[0mmodel\u001b[0m\u001b[1;33m.\u001b[0m\u001b[0msummary\u001b[0m\u001b[1;33m(\u001b[0m\u001b[1;33m)\u001b[0m\u001b[1;33m\u001b[0m\u001b[1;33m\u001b[0m\u001b[0m\n\u001b[0m",
      "\u001b[1;31mNameError\u001b[0m: name 'model' is not defined"
     ]
    }
   ],
   "source": [
    "model.summary()"
   ]
  },
  {
   "cell_type": "code",
   "execution_count": null,
   "id": "0cf1c785",
   "metadata": {},
   "outputs": [],
   "source": []
  },
  {
   "cell_type": "code",
   "execution_count": null,
   "id": "b7782579",
   "metadata": {},
   "outputs": [],
   "source": []
  },
  {
   "cell_type": "code",
   "execution_count": null,
   "id": "ece81acf",
   "metadata": {},
   "outputs": [],
   "source": []
  },
  {
   "cell_type": "code",
   "execution_count": 8,
   "id": "eb498b49",
   "metadata": {},
   "outputs": [
    {
     "name": "stdout",
     "output_type": "stream",
     "text": [
      "100%|████████████████████████████████████████████| 20/20 [1:54:38<00:00, 343.93s/trial, best loss: -0.8636006504297257]\n"
     ]
    },
    {
     "data": {
      "text/plain": [
       "{'PostEmbedding#nods': 674.0,\n",
       " 'PostEmbeddingActivation': 1,\n",
       " 'PrePredictionActivation': 1,\n",
       " 'batch_size': 52.0,\n",
       " 'dropout_rate': 0.15166799040702791,\n",
       " 'relovir': 0.6305057817313761}"
      ]
     },
     "execution_count": 8,
     "metadata": {},
     "output_type": "execute_result"
    }
   ],
   "source": [
    "best = fmin(fn=modelize, space=hyperspace, algo=tpe.suggest, max_evals=20)\n",
    "best"
   ]
  },
  {
   "cell_type": "code",
   "execution_count": 34,
   "id": "ace32ca7",
   "metadata": {},
   "outputs": [
    {
     "name": "stdout",
     "output_type": "stream",
     "text": [
      "100%|███████████████████████████████████████████████| 20/20 [21:36<00:00, 64.85s/trial, best loss: -0.8783693552017212]\n"
     ]
    },
    {
     "data": {
      "text/plain": [
       "{'PostEmbedding#nods': 553.0,\n",
       " 'batch_size': 36.0,\n",
       " 'dropout_rate': 0.11385248098147271,\n",
       " 'relovir': 0.6138015752716723}"
      ]
     },
     "execution_count": 34,
     "metadata": {},
     "output_type": "execute_result"
    }
   ],
   "source": [
    "best = fmin(fn=modelize, space=hyperspace, algo=tpe.suggest, max_evals=20)\n",
    "best"
   ]
  },
  {
   "cell_type": "code",
   "execution_count": null,
   "id": "b7e41fea",
   "metadata": {},
   "outputs": [],
   "source": []
  },
  {
   "cell_type": "code",
   "execution_count": null,
   "id": "33b0b6a9",
   "metadata": {},
   "outputs": [],
   "source": []
  },
  {
   "cell_type": "code",
   "execution_count": null,
   "id": "fc65daf5",
   "metadata": {},
   "outputs": [],
   "source": []
  },
  {
   "cell_type": "code",
   "execution_count": null,
   "id": "7b102ee7",
   "metadata": {},
   "outputs": [],
   "source": [
    "def hoptimize(omniparameters):\n",
    "    modelize()"
   ]
  },
  {
   "cell_type": "code",
   "execution_count": 6,
   "id": "cb51a693",
   "metadata": {},
   "outputs": [
    {
     "name": "stdout",
     "output_type": "stream",
     "text": [
      "100%|███████████████████████████████████████████████| 20/20 [16:53<00:00, 50.69s/trial, best loss: -0.8628330171108246]\n"
     ]
    },
    {
     "data": {
      "text/plain": [
       "{'dropout_rate': 0.12565449473968116,\n",
       " 'relovir': 0.6317721961062578,\n",
       " 'test_size': 0.23398836697583153}"
      ]
     },
     "execution_count": 6,
     "metadata": {},
     "output_type": "execute_result"
    }
   ],
   "source": [
    "best = fmin(fn=modelize, space=hyperspace, algo=tpe.suggest, max_evals=20)\n",
    "best"
   ]
  },
  {
   "cell_type": "markdown",
   "id": "e637e3e9",
   "metadata": {},
   "source": [
    "# Big Greek Dataset"
   ]
  },
  {
   "cell_type": "code",
   "execution_count": 7,
   "id": "40040d8d",
   "metadata": {},
   "outputs": [],
   "source": [
    "with open('greek_text.pkl', 'rb') as f:  \n",
    "    WF = pickle.load(f)"
   ]
  },
  {
   "cell_type": "code",
   "execution_count": 8,
   "id": "cd8251b8",
   "metadata": {},
   "outputs": [],
   "source": [
    "hyperspace = {\n",
    "    'dropout_rate': hp.uniform('dropout_rate', 0.05, 0.45),\n",
    "    'dropout_rate2': hp.uniform('dropout_rate2', 0.05, 0.45),\n",
    "    'relovir': hp.uniform('relovir', 0.5, 1),\n",
    "    'PostEmbedding#nods': hp.qnormal('PostEmbedding#nods',768,150,q = 1),\n",
    "    'batch_size' : hp.quniform('batch_size',15,60,q=1),\n",
    "    'PostEmbeddingActivation':hp.choice('PostEmbeddingActivation',['relu','tanh']),\n",
    "    'PostEmbedding#nods2': hp.qnormal('PostEmbedding#nod2',768,150,q = 1),\n",
    "    'PostEmbeddingActivation2':hp.choice('PostEmbeddingActivation2',['relu','tanh']),\n",
    "    'PrePredictionActivation':hp.choice('PrePredictionActivation',['softmax','sigmoid'])\n",
    "     }"
   ]
  },
  {
   "cell_type": "code",
   "execution_count": 9,
   "id": "c72428c5",
   "metadata": {},
   "outputs": [],
   "source": [
    "def modelize(calibrers):\n",
    "    \n",
    "    # define manual/constant hyperparameters\n",
    "    \n",
    "    hyperparameters = {\n",
    "                   'ITERATIONS':'5',\n",
    "                   'EPOCHS': '20',\n",
    "                   'LOSS':\"'binary_crossentropy'\",\n",
    "                   'OPTIMIZER': 'Adam(learning_rate=0.0001)',\n",
    "                   'METRICS': \"\"\"['acc', metrics.precision, metrics.recall, metrics.f1]\"\"\",\n",
    "                   'BATCH_SIZE': '32',\n",
    "                   'TEST_SIZE': '0.15'}\n",
    "    \n",
    "#                    'RELOVIR': '1' }\n",
    "\n",
    "    \n",
    "    for key, value in hyperparameters.items():\n",
    "        globals()[key] = eval(value)\n",
    "        #print(key+':'+value)\n",
    "    \n",
    "    av_f1_val = np.zeros(EPOCHS)\n",
    "    \n",
    "    for iteration in range(ITERATIONS):\n",
    "        \n",
    "        # training set\n",
    "        \n",
    "        training_set_X, test_set_X, training_set_y, test_set_y = datasplit(WF, TEST_SIZE, relovir= calibrers['relovir'])\n",
    "        \n",
    "        #model building\n",
    "        \n",
    "        model = Sequential()\n",
    "        model.add(Input(shape = (768,))) \n",
    "        model.add(Dense(calibrers['PostEmbedding#nods'],activation=calibrers['PostEmbeddingActivation']))\n",
    "        model.add(Dropout(calibrers['dropout_rate']))\n",
    "        model.add(Dense(calibrers['PostEmbedding#nods2'],activation=calibrers['PostEmbeddingActivation2']))\n",
    "        model.add(Dropout(calibrers['dropout_rate2']))\n",
    "        model.add(Dense(1,activation=calibrers['PrePredictionActivation']))\n",
    "        \n",
    "        \n",
    "        \n",
    "        model.compile(optimizer=OPTIMIZER, loss=LOSS, metrics=METRICS)\n",
    "        \n",
    "        history = model.fit(training_set_X, training_set_y,validation_data=( test_set_X,  test_set_y), batch_size = int(calibrers['batch_size']), epochs = EPOCHS, verbose = 0,callbacks=[],shuffle = True)\n",
    "    \n",
    "        av_f1_val = np.add(av_f1_val,np.array(history.history['val_f1']))\n",
    " \n",
    "    return -np.max(np.divide(av_f1_val,ITERATIONS))"
   ]
  },
  {
   "cell_type": "code",
   "execution_count": 10,
   "id": "1c801c43",
   "metadata": {},
   "outputs": [
    {
     "name": "stdout",
     "output_type": "stream",
     "text": [
      "100%|████████████████████████████████████████████████| 3/3 [09:49<00:00, 196.65s/trial, best loss: -0.8569135308265686]\n"
     ]
    },
    {
     "data": {
      "text/plain": [
       "{'PostEmbedding#nod2': 696.0,\n",
       " 'PostEmbedding#nods': 882.0,\n",
       " 'PostEmbeddingActivation': 0,\n",
       " 'PostEmbeddingActivation2': 0,\n",
       " 'PrePredictionActivation': 1,\n",
       " 'batch_size': 49.0,\n",
       " 'dropout_rate': 0.11860873943025974,\n",
       " 'dropout_rate2': 0.25017479664608383,\n",
       " 'relovir': 0.5152784088265083}"
      ]
     },
     "execution_count": 10,
     "metadata": {},
     "output_type": "execute_result"
    }
   ],
   "source": [
    "best = fmin(fn=modelize, space=hyperspace, algo=tpe.suggest, max_evals=3)\n",
    "best"
   ]
  },
  {
   "cell_type": "code",
   "execution_count": null,
   "id": "e19e33e4",
   "metadata": {},
   "outputs": [],
   "source": []
  }
 ],
 "metadata": {
  "kernelspec": {
   "display_name": "Python 3 (ipykernel)",
   "language": "python",
   "name": "python3"
  },
  "language_info": {
   "codemirror_mode": {
    "name": "ipython",
    "version": 3
   },
   "file_extension": ".py",
   "mimetype": "text/x-python",
   "name": "python",
   "nbconvert_exporter": "python",
   "pygments_lexer": "ipython3",
   "version": "3.8.8"
  }
 },
 "nbformat": 4,
 "nbformat_minor": 5
}
