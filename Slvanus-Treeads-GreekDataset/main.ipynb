{
 "cells": [
  {
   "cell_type": "code",
   "execution_count": 1,
   "id": "0456e270",
   "metadata": {},
   "outputs": [],
   "source": [
    "from TweetDataProcessing.TweetDataReport import *\n",
    "import pandas as pd\n",
    "import numpy as np\n",
    "from sklearn.model_selection import train_test_split\n",
    "from simpletransformers.language_representation import RepresentationModel\n",
    "from tensorflow.keras.models import Sequential\n",
    "from tensorflow.keras.layers import *\n",
    "from tensorflow.keras.initializers import GlorotUniform, HeUniform\n",
    "from tensorflow.keras.optimizers import Adam\n",
    "np.set_printoptions(precision=8, suppress=False)\n",
    "import pickle\n",
    "import metrics\n",
    "import matplotlib.pyplot as plt\n",
    "import time\n",
    "from IPython.display import clear_output\n",
    "import os\n",
    "import re"
   ]
  },
  {
   "cell_type": "markdown",
   "id": "531f9315",
   "metadata": {},
   "source": [
    "# Data"
   ]
  },
  {
   "cell_type": "code",
   "execution_count": 2,
   "id": "d502b116",
   "metadata": {},
   "outputs": [],
   "source": [
    "# WF = pd.read_json( \"BeAwareGreekFires2.json\")\n",
    "# WF = WF.drop('timestamp', axis=1)\n",
    "# WF = WF.sample(frac = 1).reset_index(drop=True)\n",
    "# WF = WF.rename(columns={'relevant':'relevance'})\n",
    "# WF['relevance'] = WF['relevance'].map(lambda x: int(x))\n",
    "# WF = WF.drop_duplicates(subset=['text']).reset_index(drop=True)\n",
    "# WF\n",
    "\n",
    "# pretrained_model = RepresentationModel(model_type=\"bert\",model_name=\"nlpaueb/bert-base-greek-uncased-v1\",use_cuda=False) \n",
    "# sentence_vectors = pretrained_model.encode_sentences(WF['text'], combine_strategy=\"mean\")\n",
    "# sentence_vectors = np.split(sentence_vectors,sentence_vectors.shape[0])\n",
    "# pandasseries = pd.Series(sentence_vectors)\n",
    "# WF['reps'] = pandasseries.copy()\n",
    "# WF\n",
    "\n",
    "# WF = pd.read_json(\"BeAwareGreekFires2.json\",orient=\"index\")\n",
    "# WF = WF.sample(frac = 1).reset_index(drop=True)\n",
    "# WF"
   ]
  },
  {
   "cell_type": "code",
   "execution_count": 3,
   "id": "b8d9ade2",
   "metadata": {},
   "outputs": [],
   "source": [
    "# print_tweet_report(WF)"
   ]
  },
  {
   "cell_type": "code",
   "execution_count": 4,
   "id": "a3e35efa",
   "metadata": {},
   "outputs": [],
   "source": [
    "# check_relevance_balance(WF)"
   ]
  },
  {
   "cell_type": "code",
   "execution_count": 5,
   "id": "b70203ba",
   "metadata": {},
   "outputs": [],
   "source": [
    "# with open('WF.pkl', 'wb') as f:\n",
    "#     pickle.dump(WF, f)"
   ]
  },
  {
   "cell_type": "code",
   "execution_count": 6,
   "id": "50473b0a",
   "metadata": {},
   "outputs": [],
   "source": [
    "with open('WF.pkl', 'rb') as f:\n",
    "    WF = pickle.load(f)"
   ]
  },
  {
   "cell_type": "code",
   "execution_count": 7,
   "id": "1a699c80",
   "metadata": {},
   "outputs": [
    {
     "data": {
      "text/html": [
       "<div>\n",
       "<style scoped>\n",
       "    .dataframe tbody tr th:only-of-type {\n",
       "        vertical-align: middle;\n",
       "    }\n",
       "\n",
       "    .dataframe tbody tr th {\n",
       "        vertical-align: top;\n",
       "    }\n",
       "\n",
       "    .dataframe thead th {\n",
       "        text-align: right;\n",
       "    }\n",
       "</style>\n",
       "<table border=\"1\" class=\"dataframe\">\n",
       "  <thead>\n",
       "    <tr style=\"text-align: right;\">\n",
       "      <th></th>\n",
       "      <th>column_names</th>\n",
       "      <th>data_types</th>\n",
       "      <th>shape_len</th>\n",
       "      <th>unique_values</th>\n",
       "    </tr>\n",
       "  </thead>\n",
       "  <tbody>\n",
       "    <tr>\n",
       "      <th>0</th>\n",
       "      <td>id</td>\n",
       "      <td>&lt;class 'numpy.int64'&gt;</td>\n",
       "      <td>()</td>\n",
       "      <td>3804</td>\n",
       "    </tr>\n",
       "    <tr>\n",
       "      <th>1</th>\n",
       "      <td>text</td>\n",
       "      <td>&lt;class 'str'&gt;</td>\n",
       "      <td>---</td>\n",
       "      <td>3804</td>\n",
       "    </tr>\n",
       "    <tr>\n",
       "      <th>2</th>\n",
       "      <td>relevance</td>\n",
       "      <td>&lt;class 'numpy.int64'&gt;</td>\n",
       "      <td>()</td>\n",
       "      <td>2</td>\n",
       "    </tr>\n",
       "    <tr>\n",
       "      <th>3</th>\n",
       "      <td>reps</td>\n",
       "      <td>&lt;class 'numpy.ndarray'&gt;</td>\n",
       "      <td>(1, 768)</td>\n",
       "      <td>3710</td>\n",
       "    </tr>\n",
       "  </tbody>\n",
       "</table>\n",
       "</div>"
      ],
      "text/plain": [
       "  column_names               data_types shape_len  unique_values\n",
       "0           id    <class 'numpy.int64'>        ()           3804\n",
       "1         text            <class 'str'>       ---           3804\n",
       "2    relevance    <class 'numpy.int64'>        ()              2\n",
       "3         reps  <class 'numpy.ndarray'>  (1, 768)           3710"
      ]
     },
     "execution_count": 7,
     "metadata": {},
     "output_type": "execute_result"
    }
   ],
   "source": [
    "print_tweet_report(WF)"
   ]
  },
  {
   "cell_type": "code",
   "execution_count": 8,
   "id": "7f6b02e5",
   "metadata": {},
   "outputs": [
    {
     "data": {
      "text/html": [
       "<div>\n",
       "<style scoped>\n",
       "    .dataframe tbody tr th:only-of-type {\n",
       "        vertical-align: middle;\n",
       "    }\n",
       "\n",
       "    .dataframe tbody tr th {\n",
       "        vertical-align: top;\n",
       "    }\n",
       "\n",
       "    .dataframe thead th {\n",
       "        text-align: right;\n",
       "    }\n",
       "</style>\n",
       "<table border=\"1\" class=\"dataframe\">\n",
       "  <thead>\n",
       "    <tr style=\"text-align: right;\">\n",
       "      <th></th>\n",
       "      <th>relevance</th>\n",
       "      <th>count</th>\n",
       "      <th>balance</th>\n",
       "    </tr>\n",
       "  </thead>\n",
       "  <tbody>\n",
       "    <tr>\n",
       "      <th>0</th>\n",
       "      <td>1</td>\n",
       "      <td>1971</td>\n",
       "      <td>51.81%</td>\n",
       "    </tr>\n",
       "    <tr>\n",
       "      <th>1</th>\n",
       "      <td>0</td>\n",
       "      <td>1833</td>\n",
       "      <td>48.19%</td>\n",
       "    </tr>\n",
       "  </tbody>\n",
       "</table>\n",
       "</div>"
      ],
      "text/plain": [
       "   relevance  count balance\n",
       "0          1   1971  51.81%\n",
       "1          0   1833  48.19%"
      ]
     },
     "execution_count": 8,
     "metadata": {},
     "output_type": "execute_result"
    }
   ],
   "source": [
    "check_relevance_balance(WF)"
   ]
  },
  {
   "cell_type": "markdown",
   "id": "8cd45067",
   "metadata": {},
   "source": [
    "# Training"
   ]
  },
  {
   "cell_type": "code",
   "execution_count": 50,
   "id": "61faf055",
   "metadata": {},
   "outputs": [
    {
     "name": "stdout",
     "output_type": "stream",
     "text": [
      "ITERATIONS:3\n",
      "EPOCHS:1000\n",
      "LOSS:'binary_crossentropy'\n",
      "OPTIMIZER:Adam(learning_rate=0.000005)\n",
      "METRICS:['acc', metrics.precision, metrics.recall, metrics.f1]\n",
      "BATCH_SIZE:32\n",
      "TEST_SIZE:0.3\n",
      "RELOVIR:1\n"
     ]
    }
   ],
   "source": [
    "hyperparameters = {'ITERATIONS':'3',\n",
    "                   'EPOCHS': '1000',\n",
    "                   'LOSS':\"'binary_crossentropy'\",\n",
    "                   'OPTIMIZER': 'Adam(learning_rate=0.000005)',\n",
    "                   'METRICS': \"\"\"['acc', metrics.precision, metrics.recall, metrics.f1]\"\"\",\n",
    "                   'BATCH_SIZE': '32',\n",
    "                   'TEST_SIZE': '0.3',\n",
    "                   'RELOVIR': '1'}\n",
    "                   \n",
    "#set the values equal to the keys \n",
    "\n",
    "for key, value in hyperparameters.items():\n",
    "    globals()[key] = eval(value)\n",
    "    print(key+':'+value)"
   ]
  },
  {
   "cell_type": "code",
   "execution_count": 51,
   "id": "ea04292a",
   "metadata": {},
   "outputs": [
    {
     "name": "stdout",
     "output_type": "stream",
     "text": [
      "Directory run00021 created!\n",
      "[427, 895, 847, 429, 991, 994, 984, 424, 827, 348]\n",
      "[0.8326, 0.8321, 0.8316, 0.8314, 0.8312, 0.8311, 0.8311, 0.8311, 0.8311, 0.831]\n"
     ]
    },
    {
     "data": {
      "image/png": "[encoded data removed]",
      "text/plain": [
       "<Figure size 432x288 with 1 Axes>"
      ]
     },
     "metadata": {
      "needs_background": "light"
     },
     "output_type": "display_data"
    },
    {
     "data": {
      "text/html": [
       "<div>\n",
       "<style scoped>\n",
       "    .dataframe tbody tr th:only-of-type {\n",
       "        vertical-align: middle;\n",
       "    }\n",
       "\n",
       "    .dataframe tbody tr th {\n",
       "        vertical-align: top;\n",
       "    }\n",
       "\n",
       "    .dataframe thead th {\n",
       "        text-align: right;\n",
       "    }\n",
       "</style>\n",
       "<table border=\"1\" class=\"dataframe\">\n",
       "  <thead>\n",
       "    <tr style=\"text-align: right;\">\n",
       "      <th></th>\n",
       "      <th>train_loss</th>\n",
       "      <th>train_acc</th>\n",
       "      <th>train_prec</th>\n",
       "      <th>train_rec</th>\n",
       "      <th>train_f1</th>\n",
       "      <th>val_loss</th>\n",
       "      <th>val_acc</th>\n",
       "      <th>val_prec</th>\n",
       "      <th>val_rec</th>\n",
       "      <th>val_f1</th>\n",
       "    </tr>\n",
       "  </thead>\n",
       "  <tbody>\n",
       "    <tr>\n",
       "      <th>0</th>\n",
       "      <td>0.675427</td>\n",
       "      <td>0.583009</td>\n",
       "      <td>0.569668</td>\n",
       "      <td>0.566793</td>\n",
       "      <td>0.538309</td>\n",
       "      <td>0.619367</td>\n",
       "      <td>0.665455</td>\n",
       "      <td>0.617193</td>\n",
       "      <td>0.789241</td>\n",
       "      <td>0.685196</td>\n",
       "    </tr>\n",
       "    <tr>\n",
       "      <th>1</th>\n",
       "      <td>0.608215</td>\n",
       "      <td>0.664848</td>\n",
       "      <td>0.651667</td>\n",
       "      <td>0.731116</td>\n",
       "      <td>0.680885</td>\n",
       "      <td>0.586852</td>\n",
       "      <td>0.701515</td>\n",
       "      <td>0.671626</td>\n",
       "      <td>0.755484</td>\n",
       "      <td>0.703628</td>\n",
       "    </tr>\n",
       "    <tr>\n",
       "      <th>2</th>\n",
       "      <td>0.580761</td>\n",
       "      <td>0.698233</td>\n",
       "      <td>0.691866</td>\n",
       "      <td>0.745400</td>\n",
       "      <td>0.709251</td>\n",
       "      <td>0.568544</td>\n",
       "      <td>0.715455</td>\n",
       "      <td>0.673386</td>\n",
       "      <td>0.795471</td>\n",
       "      <td>0.722993</td>\n",
       "    </tr>\n",
       "    <tr>\n",
       "      <th>3</th>\n",
       "      <td>0.559207</td>\n",
       "      <td>0.723435</td>\n",
       "      <td>0.708897</td>\n",
       "      <td>0.774846</td>\n",
       "      <td>0.732929</td>\n",
       "      <td>0.557416</td>\n",
       "      <td>0.723333</td>\n",
       "      <td>0.681731</td>\n",
       "      <td>0.799056</td>\n",
       "      <td>0.728534</td>\n",
       "    </tr>\n",
       "    <tr>\n",
       "      <th>4</th>\n",
       "      <td>0.551712</td>\n",
       "      <td>0.720707</td>\n",
       "      <td>0.710257</td>\n",
       "      <td>0.767424</td>\n",
       "      <td>0.731070</td>\n",
       "      <td>0.543698</td>\n",
       "      <td>0.729697</td>\n",
       "      <td>0.695579</td>\n",
       "      <td>0.780033</td>\n",
       "      <td>0.728948</td>\n",
       "    </tr>\n",
       "    <tr>\n",
       "      <th>...</th>\n",
       "      <td>...</td>\n",
       "      <td>...</td>\n",
       "      <td>...</td>\n",
       "      <td>...</td>\n",
       "      <td>...</td>\n",
       "      <td>...</td>\n",
       "      <td>...</td>\n",
       "      <td>...</td>\n",
       "      <td>...</td>\n",
       "      <td>...</td>\n",
       "    </tr>\n",
       "    <tr>\n",
       "      <th>995</th>\n",
       "      <td>0.163977</td>\n",
       "      <td>0.953235</td>\n",
       "      <td>0.944836</td>\n",
       "      <td>0.963877</td>\n",
       "      <td>0.953010</td>\n",
       "      <td>0.389625</td>\n",
       "      <td>0.839697</td>\n",
       "      <td>0.820940</td>\n",
       "      <td>0.849372</td>\n",
       "      <td>0.830205</td>\n",
       "    </tr>\n",
       "    <tr>\n",
       "      <th>996</th>\n",
       "      <td>0.162661</td>\n",
       "      <td>0.953105</td>\n",
       "      <td>0.946129</td>\n",
       "      <td>0.964499</td>\n",
       "      <td>0.953809</td>\n",
       "      <td>0.390741</td>\n",
       "      <td>0.837576</td>\n",
       "      <td>0.812845</td>\n",
       "      <td>0.857141</td>\n",
       "      <td>0.829740</td>\n",
       "    </tr>\n",
       "    <tr>\n",
       "      <th>997</th>\n",
       "      <td>0.161731</td>\n",
       "      <td>0.954534</td>\n",
       "      <td>0.948443</td>\n",
       "      <td>0.963467</td>\n",
       "      <td>0.954488</td>\n",
       "      <td>0.392784</td>\n",
       "      <td>0.834848</td>\n",
       "      <td>0.805692</td>\n",
       "      <td>0.864013</td>\n",
       "      <td>0.828975</td>\n",
       "    </tr>\n",
       "    <tr>\n",
       "      <th>998</th>\n",
       "      <td>0.161837</td>\n",
       "      <td>0.953494</td>\n",
       "      <td>0.942928</td>\n",
       "      <td>0.963052</td>\n",
       "      <td>0.951418</td>\n",
       "      <td>0.390802</td>\n",
       "      <td>0.836364</td>\n",
       "      <td>0.810459</td>\n",
       "      <td>0.859197</td>\n",
       "      <td>0.829244</td>\n",
       "    </tr>\n",
       "    <tr>\n",
       "      <th>999</th>\n",
       "      <td>0.162785</td>\n",
       "      <td>0.951936</td>\n",
       "      <td>0.944057</td>\n",
       "      <td>0.963418</td>\n",
       "      <td>0.952335</td>\n",
       "      <td>0.389998</td>\n",
       "      <td>0.838788</td>\n",
       "      <td>0.816739</td>\n",
       "      <td>0.853527</td>\n",
       "      <td>0.830092</td>\n",
       "    </tr>\n",
       "  </tbody>\n",
       "</table>\n",
       "<p>1000 rows × 10 columns</p>\n",
       "</div>"
      ],
      "text/plain": [
       "     train_loss  train_acc  train_prec  train_rec  train_f1  val_loss  \\\n",
       "0      0.675427   0.583009    0.569668   0.566793  0.538309  0.619367   \n",
       "1      0.608215   0.664848    0.651667   0.731116  0.680885  0.586852   \n",
       "2      0.580761   0.698233    0.691866   0.745400  0.709251  0.568544   \n",
       "3      0.559207   0.723435    0.708897   0.774846  0.732929  0.557416   \n",
       "4      0.551712   0.720707    0.710257   0.767424  0.731070  0.543698   \n",
       "..          ...        ...         ...        ...       ...       ...   \n",
       "995    0.163977   0.953235    0.944836   0.963877  0.953010  0.389625   \n",
       "996    0.162661   0.953105    0.946129   0.964499  0.953809  0.390741   \n",
       "997    0.161731   0.954534    0.948443   0.963467  0.954488  0.392784   \n",
       "998    0.161837   0.953494    0.942928   0.963052  0.951418  0.390802   \n",
       "999    0.162785   0.951936    0.944057   0.963418  0.952335  0.389998   \n",
       "\n",
       "      val_acc  val_prec   val_rec    val_f1  \n",
       "0    0.665455  0.617193  0.789241  0.685196  \n",
       "1    0.701515  0.671626  0.755484  0.703628  \n",
       "2    0.715455  0.673386  0.795471  0.722993  \n",
       "3    0.723333  0.681731  0.799056  0.728534  \n",
       "4    0.729697  0.695579  0.780033  0.728948  \n",
       "..        ...       ...       ...       ...  \n",
       "995  0.839697  0.820940  0.849372  0.830205  \n",
       "996  0.837576  0.812845  0.857141  0.829740  \n",
       "997  0.834848  0.805692  0.864013  0.828975  \n",
       "998  0.836364  0.810459  0.859197  0.829244  \n",
       "999  0.838788  0.816739  0.853527  0.830092  \n",
       "\n",
       "[1000 rows x 10 columns]"
      ]
     },
     "execution_count": 51,
     "metadata": {},
     "output_type": "execute_result"
    }
   ],
   "source": [
    "av_loss_train = np.zeros(EPOCHS)\n",
    "av_loss_val = np.zeros(EPOCHS)\n",
    "av_acc_train = np.zeros(EPOCHS)\n",
    "av_acc_val = np.zeros(EPOCHS)\n",
    "av_prec_train = np.zeros(EPOCHS)\n",
    "av_prec_val = np.zeros(EPOCHS)\n",
    "av_rec_train = np.zeros(EPOCHS)\n",
    "av_rec_val = np.zeros(EPOCHS)\n",
    "av_f1_train = np.zeros(EPOCHS)\n",
    "av_f1_val = np.zeros(EPOCHS)\n",
    "\n",
    "iter_time = 0\n",
    "\n",
    "for iteration in range(ITERATIONS):\n",
    "    start_time = time.time()\n",
    "\n",
    "    training_set_X, test_set_X, training_set_y, test_set_y = datasplit(WF,TEST_SIZE,relovir = RELOVIR)\n",
    "    \n",
    "    model = None\n",
    "    \n",
    "    #np.random.seed(SEED)\n",
    "    \n",
    "    #initializer choice\n",
    "    \n",
    "    model = Sequential()\n",
    "    # (, 768)\n",
    "    model.add(Input(shape = (768,))) \n",
    "    model.add(Dense(768,activation='relu'))\n",
    "    model.add(Dropout(0.26))\n",
    "    model.add(Dense(1,activation='sigmoid'))\n",
    "    \n",
    "    model.compile(optimizer=OPTIMIZER, loss=LOSS, metrics=METRICS)\n",
    "    \n",
    "    #print(type(model.summary()))\n",
    "              \n",
    "    clear_output(wait=True)\n",
    "    print(f'iteration {iteration-1} took {iter_time} s or {iter_time/60} min')\n",
    "    \n",
    "    history = model.fit(training_set_X, training_set_y,validation_data=( test_set_X,  test_set_y), batch_size = BATCH_SIZE, epochs = EPOCHS, verbose = 0,callbacks=[],shuffle = True)\n",
    "    \n",
    "    \n",
    "    #training metrics\n",
    "    av_loss_train = np.add(av_loss_train,np.array(history.history['loss']))\n",
    "    av_acc_train = np.add(av_acc_train,np.array(history.history['acc']))\n",
    "    av_prec_train = np.add(av_prec_train,np.array(history.history['precision']))\n",
    "    av_rec_train = np.add(av_rec_train,np.array(history.history['recall']))\n",
    "    av_f1_train = np.add(av_f1_train,np.array(history.history['f1']))\n",
    "    #validation metrics\n",
    "    av_loss_val = np.add(av_loss_val,np.array(history.history['val_loss']))\n",
    "    av_acc_val = np.add(av_acc_val,np.array(history.history['val_acc']))\n",
    "    av_prec_val = np.add(av_prec_val,np.array(history.history['val_precision']))\n",
    "    av_rec_val = np.add(av_rec_val,np.array(history.history['val_recall']))\n",
    "    av_f1_val = np.add(av_f1_val,np.array(history.history['val_f1']))\n",
    "    \n",
    "    end_time = time.time()\n",
    "    \n",
    "    iter_time = end_time-start_time\n",
    "    \n",
    "    \n",
    "av_loss_train = np.divide(av_loss_train,ITERATIONS)\n",
    "av_acc_train = np.divide(av_acc_train,ITERATIONS)\n",
    "av_prec_train = np.divide(av_prec_train,ITERATIONS)\n",
    "av_rec_train = np.divide(av_rec_train,ITERATIONS)\n",
    "av_f1_train = np.divide(av_f1_train,ITERATIONS)\n",
    "\n",
    "av_loss_val = np.divide(av_loss_val,ITERATIONS)\n",
    "av_acc_val = np.divide(av_acc_val,ITERATIONS)\n",
    "av_prec_val = np.divide(av_prec_val,ITERATIONS)\n",
    "av_rec_val = np.divide(av_rec_val,ITERATIONS)\n",
    "av_f1_val = np.divide(av_f1_val,ITERATIONS)\n",
    "\n",
    "clear_output(wait=True)\n",
    "\n",
    "results = pd.DataFrame({'train_loss': av_loss_train,'train_acc': av_acc_train,'train_prec': av_prec_train,'train_rec': av_rec_train,'train_f1': av_f1_train,\n",
    "                        'val_loss': av_loss_val,'val_acc': av_acc_val,'val_prec': av_prec_val,'val_rec': av_rec_val,'val_f1': av_f1_val})\n",
    "\n",
    "\n",
    "#####################\n",
    "# saving everything at a new file with a run id(initially just run 001 ect) at the file run\n",
    "# first create a folder checking the name\n",
    "path = \"C:/Users/jmstf/CERTH-ITI/Slvanus-Treeads-GreekDataset/runs\"\n",
    "dirs = os.listdir(path)\n",
    "dirs.sort(reverse = True)\n",
    "the_run = dirs[0]\n",
    "match = re.search(r\"run\\d{5}\", the_run)[0][3:]\n",
    "match = f'{(int(match)+1):05}'\n",
    "the_folder = f\"run{match}\"\n",
    "directory = os.path.join(path, the_folder)\n",
    "if not os.path.exists(directory):\n",
    "    os.makedirs(directory)\n",
    "    print(f\"Directory {the_folder} created!\")\n",
    "else:\n",
    "    print(\"Directory already exists.\")\n",
    "\n",
    "#####################\n",
    "# now save the results pickle and the hyperparameter text in the correct run folder\n",
    "filepath = f\"C:/Users/jmstf/CERTH-ITI/Slvanus-Treeads-GreekDataset/runs\" +f\"/{the_folder}\"\n",
    "sub_dir1 = os.path.join(filepath,'results.plk')\n",
    "sub_dir2 = os.path.join(filepath,\"hyperparameters.txt\")\n",
    "with open(sub_dir1, 'wb') as dummy:\n",
    "    pickle.dump(results, dummy)\n",
    "with open(sub_dir2, 'w') as file:\n",
    "    for key in hyperparameters:\n",
    "        file.write('\\n '+ key + ':' + str(hyperparameters[key]) + '\\n')\n",
    "\n",
    "#####################\n",
    "# txt with the n maximum val_f1 epochs and their values\n",
    "n=10\n",
    "if EPOCHS<n:\n",
    "    n = 1\n",
    "sub_dir3 = os.path.join(filepath,\"val_f1.txt\")\n",
    "x = list(results['val_f1'].nlargest(n).index)\n",
    "print(x)\n",
    "nums = list(map(lambda x: round(results['val_f1'].loc[x],4),x))\n",
    "print(nums)\n",
    "text = 'epoch value\\n'\n",
    "for i in range(n):\n",
    "    text+=f'-{(x[i]):03}- {nums[i]}\\n'\n",
    "with open(sub_dir3, 'wb') as dummy:\n",
    "    dummy.write(text.encode())\n",
    "\n",
    "#####################\n",
    "# now save the plot pictures(not particularly usefull in the general code)\n",
    "plt.plot(results['val_acc'])\n",
    "plt.plot(results['val_prec'])\n",
    "plt.plot(results['val_rec'])\n",
    "plt.plot(results['val_f1'])\n",
    "plt.title('Average Evaluation Model Metrics')\n",
    "plt.ylabel('Value')\n",
    "plt.xlabel('Epoch')\n",
    "plt.legend(['accuracy','precision','recall','f1-score'], loc='lower right')#, bbox_to_anchor=(1, 0.5))\n",
    "plt.savefig(f'runs/{the_folder}/AEMM.jpg',dpi = 300)\n",
    "plt.show()\n",
    "\n",
    "######################\n",
    "# save model summary\n",
    "with open(f'C:/Users/jmstf/CERTH-ITI/Slvanus-Treeads-GreekDataset/runs/{the_folder}/model_summary.txt', 'w') as f:\n",
    "    model.summary(print_fn=lambda x: f.write(x + '\\n'))\n",
    "\n",
    "results"
   ]
  },
  {
   "cell_type": "code",
   "execution_count": 32,
   "id": "de41d9ea",
   "metadata": {},
   "outputs": [],
   "source": [
    "# filepath = f\"C:/Users/jmstf/CERTH-ITI/Silvanus-Treeads/runs\" +f\"/{the_folder}\"\n",
    "# sub_dir = os.path.join(filepath,\"results.plk\")\n",
    "# with open(sub_dir, 'rb') as f:\n",
    "#     WF = pickle.load(f)\n"
   ]
  },
  {
   "cell_type": "code",
   "execution_count": 52,
   "id": "9ee80a00",
   "metadata": {},
   "outputs": [
    {
     "data": {
      "text/plain": [
       "Int64Index([427, 895, 847, 429, 991, 994, 984, 424, 827, 348], dtype='int64')"
      ]
     },
     "execution_count": 52,
     "metadata": {},
     "output_type": "execute_result"
    }
   ],
   "source": [
    "results['val_f1'].nlargest(10).index"
   ]
  },
  {
   "cell_type": "code",
   "execution_count": 53,
   "id": "3ffc2348",
   "metadata": {},
   "outputs": [
    {
     "data": {
      "image/png": "[encoded data removed]",
      "text/plain": [
       "<Figure size 432x288 with 1 Axes>"
      ]
     },
     "metadata": {
      "needs_background": "light"
     },
     "output_type": "display_data"
    }
   ],
   "source": [
    "plt.plot(results['val_acc'])\n",
    "plt.plot(results['val_prec'])\n",
    "plt.plot(results['val_rec'])\n",
    "plt.plot(results['val_f1'])\n",
    "plt.title('Evaluation Model Metrics')\n",
    "plt.ylabel('Value')\n",
    "plt.xlabel('Epoch')\n",
    "plt.legend(['accuracy','precision','recall','f1-score'], loc='center left', bbox_to_anchor=(1, 0.5))\n",
    "plt.show()"
   ]
  },
  {
   "cell_type": "code",
   "execution_count": 14,
   "id": "50a63ca9",
   "metadata": {},
   "outputs": [],
   "source": [
    "# with open('results.pkl', 'wb') as dummyvar:\n",
    "#     pickle.dump(results, dummyvar)"
   ]
  },
  {
   "cell_type": "code",
   "execution_count": 15,
   "id": "1fb3be24",
   "metadata": {},
   "outputs": [],
   "source": [
    "# with open('results.pkl', 'rb') as f:\n",
    "#     results = pickle.load(f)"
   ]
  },
  {
   "cell_type": "markdown",
   "id": "485c67f9",
   "metadata": {},
   "source": [
    "# First Run 100iter-10epochs"
   ]
  },
  {
   "cell_type": "code",
   "execution_count": 16,
   "id": "adf5489e",
   "metadata": {},
   "outputs": [],
   "source": [
    "# plt.plot(results['val_loss'])\n",
    "#first run\n",
    "\n",
    "\n",
    "\n",
    "# plt.plot(results['val_acc'])\n",
    "# plt.plot(results['val_prec'])\n",
    "# plt.plot(results['val_rec'])\n",
    "# plt.plot(results['val_f1'])\n",
    "# plt.title('Evaluation Model Metrics')\n",
    "# plt.ylabel('Value')\n",
    "# plt.xlabel('Epoch')\n",
    "# plt.legend(['accuracy','precision','recall','f1-score'], loc='center left', bbox_to_anchor=(1, 0.5))\n",
    "# plt.show()"
   ]
  },
  {
   "cell_type": "markdown",
   "id": "3b917d1b",
   "metadata": {},
   "source": [
    "# Second Run 100iter-10epochs"
   ]
  },
  {
   "cell_type": "code",
   "execution_count": 17,
   "id": "af90c617",
   "metadata": {},
   "outputs": [],
   "source": [
    "# plt.plot(results['val_acc'])\n",
    "# plt.plot(results['val_prec'])\n",
    "# plt.plot(results['val_rec'])\n",
    "# plt.plot(results['val_f1'])\n",
    "# plt.title('Evaluation Model Metrics')\n",
    "# plt.ylabel('Value')\n",
    "# plt.xlabel('Epoch')\n",
    "# plt.legend(['accuracy','precision','recall','f1-score'], loc='center left', bbox_to_anchor=(1, 0.5))\n",
    "# plt.show()"
   ]
  },
  {
   "cell_type": "markdown",
   "id": "ee6f625a",
   "metadata": {},
   "source": [
    "# third run 300 iters-10 epochs"
   ]
  },
  {
   "cell_type": "code",
   "execution_count": 18,
   "id": "50e368ac",
   "metadata": {},
   "outputs": [],
   "source": [
    "# plt.plot(results['val_acc'])\n",
    "# plt.plot(results['val_prec'])\n",
    "# plt.plot(results['val_rec'])\n",
    "# plt.plot(results['val_f1'])\n",
    "# plt.title('Evaluation Model Metrics')\n",
    "# plt.ylabel('Value')\n",
    "# plt.xlabel('Epoch')\n",
    "# plt.legend(['accuracy','precision','recall','f1-score'], loc='center left', bbox_to_anchor=(1, 0.5))\n",
    "# plt.show()"
   ]
  },
  {
   "cell_type": "markdown",
   "id": "fffea487",
   "metadata": {},
   "source": [
    "# forth run 300 iters-10 epochs"
   ]
  },
  {
   "cell_type": "code",
   "execution_count": 22,
   "id": "3fd86b3b",
   "metadata": {},
   "outputs": [
    {
     "data": {
      "image/png": "[encoded data removed]",
      "text/plain": [
       "<Figure size 432x288 with 1 Axes>"
      ]
     },
     "metadata": {
      "needs_background": "light"
     },
     "output_type": "display_data"
    }
   ],
   "source": [
    "plt.plot(results['val_acc'])\n",
    "plt.plot(results['val_prec'])\n",
    "plt.plot(results['val_rec'])\n",
    "plt.plot(results['val_f1'])\n",
    "plt.title('Evaluation Model Metrics')\n",
    "plt.ylabel('Value')\n",
    "plt.xlabel('Epoch')\n",
    "plt.legend(['accuracy','precision','recall','f1-score'], loc='center left', bbox_to_anchor=(1, 0.5))\n",
    "plt.show()"
   ]
  },
  {
   "cell_type": "markdown",
   "id": "7e37294a",
   "metadata": {},
   "source": [
    "# forth run 1 iters-100 epochs"
   ]
  },
  {
   "cell_type": "code",
   "execution_count": null,
   "id": "f4621e70",
   "metadata": {},
   "outputs": [],
   "source": []
  }
 ],
 "metadata": {
  "kernelspec": {
   "display_name": "Python 3 (ipykernel)",
   "language": "python",
   "name": "python3"
  },
  "language_info": {
   "codemirror_mode": {
    "name": "ipython",
    "version": 3
   },
   "file_extension": ".py",
   "mimetype": "text/x-python",
   "name": "python",
   "nbconvert_exporter": "python",
   "pygments_lexer": "ipython3",
   "version": "3.8.8"
  }
 },
 "nbformat": 4,
 "nbformat_minor": 5
}
