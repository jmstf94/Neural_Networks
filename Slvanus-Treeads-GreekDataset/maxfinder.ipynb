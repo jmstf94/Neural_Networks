{
 "cells": [
  {
   "cell_type": "code",
   "execution_count": 1,
   "id": "79f689a1",
   "metadata": {},
   "outputs": [],
   "source": [
    "import os\n",
    "import re\n",
    "import pickle\n",
    "import pandas as pd\n",
    "path = 'C:/Users/jmstf/CERTH-ITI/Slvanus-Treeads-GreekDataset/runs'"
   ]
  },
  {
   "cell_type": "code",
   "execution_count": 2,
   "id": "67ee6f27",
   "metadata": {},
   "outputs": [],
   "source": [
    "maxes = {}\n",
    "n=10\n",
    "\n",
    "for directory in os.listdir(path):\n",
    "    if re.match(r'run\\d{5}', directory) and len(directory)==8:\n",
    "        filepath = path+'/'+directory+'/results.plk'\n",
    "        with open(filepath, 'rb') as dummyvar:\n",
    "            df = pickle.load(dummyvar)\n",
    "        epochs = list(df['val_f1'].nlargest(n).index)\n",
    "        keys = [directory+'-epoch'+str(x) for x in epochs]\n",
    "        values = list(map(lambda x: round(df['val_f1'].loc[x],4),epochs))\n",
    "        maxes.update({k: v for k, v in zip(keys, values)})"
   ]
  },
  {
   "cell_type": "code",
   "execution_count": 3,
   "id": "9ca55e4f",
   "metadata": {},
   "outputs": [
    {
     "data": {
      "text/html": [
       "<div>\n",
       "<style scoped>\n",
       "    .dataframe tbody tr th:only-of-type {\n",
       "        vertical-align: middle;\n",
       "    }\n",
       "\n",
       "    .dataframe tbody tr th {\n",
       "        vertical-align: top;\n",
       "    }\n",
       "\n",
       "    .dataframe thead th {\n",
       "        text-align: right;\n",
       "    }\n",
       "</style>\n",
       "<table border=\"1\" class=\"dataframe\">\n",
       "  <thead>\n",
       "    <tr style=\"text-align: right;\">\n",
       "      <th></th>\n",
       "      <th>runepoch</th>\n",
       "      <th>val_f1</th>\n",
       "    </tr>\n",
       "  </thead>\n",
       "  <tbody>\n",
       "    <tr>\n",
       "      <th>0</th>\n",
       "      <td>run00020-epoch942</td>\n",
       "      <td>0.8450</td>\n",
       "    </tr>\n",
       "    <tr>\n",
       "      <th>1</th>\n",
       "      <td>run00020-epoch996</td>\n",
       "      <td>0.8445</td>\n",
       "    </tr>\n",
       "    <tr>\n",
       "      <th>2</th>\n",
       "      <td>run00017-epoch187</td>\n",
       "      <td>0.8441</td>\n",
       "    </tr>\n",
       "    <tr>\n",
       "      <th>3</th>\n",
       "      <td>run00020-epoch931</td>\n",
       "      <td>0.8441</td>\n",
       "    </tr>\n",
       "    <tr>\n",
       "      <th>4</th>\n",
       "      <td>run00017-epoch190</td>\n",
       "      <td>0.8441</td>\n",
       "    </tr>\n",
       "    <tr>\n",
       "      <th>...</th>\n",
       "      <td>...</td>\n",
       "      <td>...</td>\n",
       "    </tr>\n",
       "    <tr>\n",
       "      <th>205</th>\n",
       "      <td>run00015-epoch6</td>\n",
       "      <td>0.7664</td>\n",
       "    </tr>\n",
       "    <tr>\n",
       "      <th>206</th>\n",
       "      <td>run00015-epoch5</td>\n",
       "      <td>0.7633</td>\n",
       "    </tr>\n",
       "    <tr>\n",
       "      <th>207</th>\n",
       "      <td>run00015-epoch4</td>\n",
       "      <td>0.7590</td>\n",
       "    </tr>\n",
       "    <tr>\n",
       "      <th>208</th>\n",
       "      <td>run00015-epoch3</td>\n",
       "      <td>0.7558</td>\n",
       "    </tr>\n",
       "    <tr>\n",
       "      <th>209</th>\n",
       "      <td>run00015-epoch2</td>\n",
       "      <td>0.7489</td>\n",
       "    </tr>\n",
       "  </tbody>\n",
       "</table>\n",
       "<p>210 rows × 2 columns</p>\n",
       "</div>"
      ],
      "text/plain": [
       "              runepoch  val_f1\n",
       "0    run00020-epoch942  0.8450\n",
       "1    run00020-epoch996  0.8445\n",
       "2    run00017-epoch187  0.8441\n",
       "3    run00020-epoch931  0.8441\n",
       "4    run00017-epoch190  0.8441\n",
       "..                 ...     ...\n",
       "205    run00015-epoch6  0.7664\n",
       "206    run00015-epoch5  0.7633\n",
       "207    run00015-epoch4  0.7590\n",
       "208    run00015-epoch3  0.7558\n",
       "209    run00015-epoch2  0.7489\n",
       "\n",
       "[210 rows x 2 columns]"
      ]
     },
     "execution_count": 3,
     "metadata": {},
     "output_type": "execute_result"
    }
   ],
   "source": [
    "df = pd.DataFrame(list(maxes.items()), columns=['runepoch', 'val_f1'])\n",
    "df_sorted = df.sort_values(by='val_f1',ascending=False).reset_index(drop = True)\n",
    "df_sorted"
   ]
  },
  {
   "cell_type": "code",
   "execution_count": 4,
   "id": "67b5150d",
   "metadata": {},
   "outputs": [],
   "source": [
    "df_sorted.to_excel('C:/Users/jmstf/CERTH-ITI/Slvanus-Treeads-GreekDataset/runs/maxfinder.xlsx', index=False)"
   ]
  },
  {
   "cell_type": "code",
   "execution_count": null,
   "id": "203ca6b1",
   "metadata": {},
   "outputs": [],
   "source": []
  }
 ],
 "metadata": {
  "kernelspec": {
   "display_name": "Python 3",
   "language": "python",
   "name": "python3"
  },
  "language_info": {
   "codemirror_mode": {
    "name": "ipython",
    "version": 3
   },
   "file_extension": ".py",
   "mimetype": "text/x-python",
   "name": "python",
   "nbconvert_exporter": "python",
   "pygments_lexer": "ipython3",
   "version": "3.8.8"
  }
 },
 "nbformat": 4,
 "nbformat_minor": 5
}
