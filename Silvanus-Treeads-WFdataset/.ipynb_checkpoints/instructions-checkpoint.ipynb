{
 "cells": [
  {
   "cell_type": "code",
   "execution_count": 3,
   "id": "31aa8f42-b55d-492b-8056-cae3b6e13743",
   "metadata": {},
   "outputs": [],
   "source": [
    "from sklearn.pipeline import Pipeline\n",
    "from simpletransformers.language_representation import RepresentationModel\n",
    "import tensorflow as tf\n",
    "import pickle"
   ]
  },
  {
   "cell_type": "code",
   "execution_count": 4,
   "id": "a930246c-0da2-4934-851a-08f28a58fe04",
   "metadata": {
    "tags": []
   },
   "outputs": [
    {
     "name": "stderr",
     "output_type": "stream",
     "text": [
      "C:\\Users\\distef\\AppData\\Local\\anaconda3\\envs\\neuralnets\\lib\\site-packages\\sklearn\\base.py:348: InconsistentVersionWarning: Trying to unpickle estimator TfidfTransformer from version 1.3.0 when using version 1.3.1. This might lead to breaking code or invalid results. Use at your own risk. For more info please refer to:\n",
      "https://scikit-learn.org/stable/model_persistence.html#security-maintainability-limitations\n",
      "  warnings.warn(\n",
      "C:\\Users\\distef\\AppData\\Local\\anaconda3\\envs\\neuralnets\\lib\\site-packages\\sklearn\\base.py:348: InconsistentVersionWarning: Trying to unpickle estimator TfidfVectorizer from version 1.3.0 when using version 1.3.1. This might lead to breaking code or invalid results. Use at your own risk. For more info please refer to:\n",
      "https://scikit-learn.org/stable/model_persistence.html#security-maintainability-limitations\n",
      "  warnings.warn(\n",
      "C:\\Users\\distef\\AppData\\Local\\anaconda3\\envs\\neuralnets\\lib\\site-packages\\sklearn\\base.py:348: InconsistentVersionWarning: Trying to unpickle estimator SVC from version 1.3.0 when using version 1.3.1. This might lead to breaking code or invalid results. Use at your own risk. For more info please refer to:\n",
      "https://scikit-learn.org/stable/model_persistence.html#security-maintainability-limitations\n",
      "  warnings.warn(\n",
      "C:\\Users\\distef\\AppData\\Local\\anaconda3\\envs\\neuralnets\\lib\\site-packages\\sklearn\\base.py:348: InconsistentVersionWarning: Trying to unpickle estimator Pipeline from version 1.3.0 when using version 1.3.1. This might lead to breaking code or invalid results. Use at your own risk. For more info please refer to:\n",
      "https://scikit-learn.org/stable/model_persistence.html#security-maintainability-limitations\n",
      "  warnings.warn(\n"
     ]
    }
   ],
   "source": [
    "with open(r\"D:\\CERTH_ITI_storage\\2023-12-19_Aris Silvanus Service v1\\Greek_Pipeline.pkl\", 'rb') as file:\n",
    "    clf = pickle.load(file)"
   ]
  },
  {
   "cell_type": "markdown",
   "id": "ec0c1fe2-26ef-4404-b992-2f9686409e2e",
   "metadata": {},
   "source": [
    "Ελληνικό παράδειγμα (τα παραδείγματα είναι απο το dataset μας)"
   ]
  },
  {
   "cell_type": "code",
   "execution_count": 10,
   "id": "f7ec6187-28e8-4434-becb-13fb48b9efc8",
   "metadata": {
    "tags": []
   },
   "outputs": [
    {
     "data": {
      "text/plain": [
       "array([[0.97939085, 0.02060915]])"
      ]
     },
     "execution_count": 10,
     "metadata": {},
     "output_type": "execute_result"
    }
   ],
   "source": [
    "clf.predict_proba(['Παράδειγμα λανθασμένης σύγκρισης λόγω ανομοιότητας, και τελικα λόγω της ηλιθιότητάς του. Οι νεκροί από πυρκαγιά μπορούσαν να αποφευχθούν. Από κορονοϊό, πάρα πολύ δυσκολότερα.\\n\\n#κορονοιος QT: με ΝΔ πόσους νεκρούς πρέπει να δουμε για να παραιτηθεί κανένας; https://t.co/uFhsKOeXWr'])"
   ]
  },
  {
   "cell_type": "code",
   "execution_count": 11,
   "id": "e7345e58-dac8-4e9d-bc21-76dd82f8b18b",
   "metadata": {
    "tags": []
   },
   "outputs": [
    {
     "data": {
      "text/plain": [
       "array([[0.00393201, 0.99606799]])"
      ]
     },
     "execution_count": 11,
     "metadata": {},
     "output_type": "execute_result"
    }
   ],
   "source": [
    "clf.predict_proba(['Νέα πυρκαγιά στη Ζάκυνθο, στο χωριό Μαριές https://t.co/lS9whjbH3d https://t.co/DDtD6viyv4'])"
   ]
  },
  {
   "cell_type": "markdown",
   "id": "0365c7d2-24fa-47f5-b56c-6ad121635fed",
   "metadata": {
    "tags": []
   },
   "source": [
    "Αγγλικό παράδειγμα απο το κεφάλι μ(είναι άλλου τύπου dataset)"
   ]
  },
  {
   "cell_type": "code",
   "execution_count": 19,
   "id": "a1c7d8ff-6487-441c-9ca7-2d26923e6cae",
   "metadata": {
    "tags": []
   },
   "outputs": [
    {
     "name": "stdout",
     "output_type": "stream",
     "text": [
      "WARNING:tensorflow:Unable to restore custom metric. Please ensure that the layer implements `get_config` and `from_config` when saving. In addition, please use the `custom_objects` arg when calling `load_model()`.\n",
      "WARNING:tensorflow:Unable to restore custom metric. Please ensure that the layer implements `get_config` and `from_config` when saving. In addition, please use the `custom_objects` arg when calling `load_model()`.\n",
      "WARNING:tensorflow:Unable to restore custom metric. Please ensure that the layer implements `get_config` and `from_config` when saving. In addition, please use the `custom_objects` arg when calling `load_model()`.\n"
     ]
    }
   ],
   "source": [
    "pretrained_model = RepresentationModel(model_type=\"bert\",model_name=\"bert-base-uncased\",use_cuda=False) \n",
    "model = tf.keras.models.load_model(r\"D:\\CERTH_ITI_storage\\2023-12-19_Aris Silvanus Service v1\\English_Pipeline\", custom_objects=None, compile=False)"
   ]
  },
  {
   "cell_type": "code",
   "execution_count": 21,
   "id": "9ef189e9-a217-4222-a7cf-98e9de9195b5",
   "metadata": {
    "scrolled": true,
    "tags": []
   },
   "outputs": [
    {
     "name": "stdout",
     "output_type": "stream",
     "text": [
      "1/1 [==============================] - 3s 3s/step\n"
     ]
    },
    {
     "data": {
      "text/plain": [
       "array([[0.00256937]], dtype=float32)"
      ]
     },
     "execution_count": 21,
     "metadata": {},
     "output_type": "execute_result"
    }
   ],
   "source": [
    "sentence_1 = pretrained_model.encode_sentences(['Arson the rapper is crazy good!'], combine_strategy=\"mean\")\n",
    "model.predict(sentence_1)"
   ]
  },
  {
   "cell_type": "code",
   "execution_count": 23,
   "id": "ff8c44d7-9a9d-4f8f-a18f-fb0ebab3b2bd",
   "metadata": {
    "tags": []
   },
   "outputs": [
    {
     "name": "stdout",
     "output_type": "stream",
     "text": [
      "1/1 [==============================] - 0s 21ms/step\n"
     ]
    },
    {
     "data": {
      "text/plain": [
       "array([[0.96970224]], dtype=float32)"
      ]
     },
     "execution_count": 23,
     "metadata": {},
     "output_type": "execute_result"
    }
   ],
   "source": [
    "sentence_2 = pretrained_model.encode_sentences(['We caught on fire and we almost died. PLease help us.'], combine_strategy=\"mean\")\n",
    "model.predict(sentence_2)"
   ]
  },
  {
   "cell_type": "code",
   "execution_count": null,
   "id": "5b84c7dd-0fb5-45db-859a-f84277177abd",
   "metadata": {},
   "outputs": [],
   "source": []
  }
 ],
 "metadata": {
  "kernelspec": {
   "display_name": "Python 3 (ipykernel)",
   "language": "python",
   "name": "python3"
  },
  "language_info": {
   "codemirror_mode": {
    "name": "ipython",
    "version": 3
   },
   "file_extension": ".py",
   "mimetype": "text/x-python",
   "name": "python",
   "nbconvert_exporter": "python",
   "pygments_lexer": "ipython3",
   "version": "3.9.18"
  }
 },
 "nbformat": 4,
 "nbformat_minor": 5
}
