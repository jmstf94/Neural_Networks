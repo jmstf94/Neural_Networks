{
 "cells": [
  {
   "cell_type": "code",
   "execution_count": 7,
   "id": "0456e270",
   "metadata": {},
   "outputs": [],
   "source": [
    "from TweetDataProcessing.TweetDataReport import *\n",
    "import pandas as pd\n",
    "import numpy as np\n",
    "from sklearn.model_selection import train_test_split\n",
    "from simpletransformers.language_representation import RepresentationModel\n",
    "from tensorflow.keras.models import Sequential\n",
    "from tensorflow.keras.layers import *\n",
    "from tensorflow.keras.initializers import GlorotUniform, HeUniform\n",
    "from tensorflow.keras.optimizers import Adam\n",
    "np.set_printoptions(precision=8, suppress=False)\n",
    "import pickle\n",
    "import metrics\n",
    "import matplotlib.pyplot as plt\n",
    "import time\n",
    "from IPython.display import clear_output\n",
    "import os\n",
    "import re"
   ]
  },
  {
   "cell_type": "markdown",
   "id": "531f9315",
   "metadata": {},
   "source": [
    "# Data"
   ]
  },
  {
   "cell_type": "code",
   "execution_count": 2,
   "id": "d502b116",
   "metadata": {
    "scrolled": false
   },
   "outputs": [],
   "source": [
    "# pretrained_model = RepresentationModel(model_type=\"bert\",model_name=\"bert-base-uncased\",use_cuda=False) \n",
    "# sentence_vectors = pretrained_model.encode_sentences(WF['text'], combine_strategy=\"mean\")\n",
    "# sentence_vectors = np.split(sentence_vectors,sentence_vectors.shape[0])\n",
    "# WF['reps']=pd.Series(sentence_vectors)\n",
    "# WF.to_csv('WFtest.csv', index=False)\n",
    "\n",
    "# WF = pd.read_json(\"wildfire-AUS-CAL-COL.json\",orient=\"index\")\n",
    "# WF = WF.sample(frac = 1).reset_index(drop=True)\n",
    "# WF"
   ]
  },
  {
   "cell_type": "code",
   "execution_count": 3,
   "id": "29a81421",
   "metadata": {
    "scrolled": false
   },
   "outputs": [],
   "source": [
    "# pretrained_model = RepresentationModel(model_type=\"bert\",model_name=\"bert-base-uncased\",use_cuda=False) \n",
    "# sentence_vectors = pretrained_model.encode_sentences(WF['text'], combine_strategy=\"mean\")\n",
    "# sentence_vectors = np.split(sentence_vectors,sentence_vectors.shape[0])\n",
    "# pandasseries = pd.Series(sentence_vectors)\n",
    "# WF['reps'] = pandasseries.copy()\n",
    "# WF"
   ]
  },
  {
   "cell_type": "code",
   "execution_count": 4,
   "id": "b70203ba",
   "metadata": {},
   "outputs": [],
   "source": [
    "# with open('WF.pkl', 'wb') as f:\n",
    "#     pickle.dump(WF, f)"
   ]
  },
  {
   "cell_type": "code",
   "execution_count": 8,
   "id": "50473b0a",
   "metadata": {},
   "outputs": [],
   "source": [
    "with open('WF.pkl', 'rb') as f:\n",
    "    WF = pickle.load(f)"
   ]
  },
  {
   "cell_type": "code",
   "execution_count": 9,
   "id": "1a699c80",
   "metadata": {},
   "outputs": [
    {
     "data": {
      "text/html": [
       "<div>\n",
       "<style scoped>\n",
       "    .dataframe tbody tr th:only-of-type {\n",
       "        vertical-align: middle;\n",
       "    }\n",
       "\n",
       "    .dataframe tbody tr th {\n",
       "        vertical-align: top;\n",
       "    }\n",
       "\n",
       "    .dataframe thead th {\n",
       "        text-align: right;\n",
       "    }\n",
       "</style>\n",
       "<table border=\"1\" class=\"dataframe\">\n",
       "  <thead>\n",
       "    <tr style=\"text-align: right;\">\n",
       "      <th></th>\n",
       "      <th>column_names</th>\n",
       "      <th>data_types</th>\n",
       "      <th>shape_len</th>\n",
       "      <th>unique_values</th>\n",
       "    </tr>\n",
       "  </thead>\n",
       "  <tbody>\n",
       "    <tr>\n",
       "      <th>0</th>\n",
       "      <td>id</td>\n",
       "      <td>&lt;class 'numpy.int64'&gt;</td>\n",
       "      <td>()</td>\n",
       "      <td>6406</td>\n",
       "    </tr>\n",
       "    <tr>\n",
       "      <th>1</th>\n",
       "      <td>text</td>\n",
       "      <td>&lt;class 'str'&gt;</td>\n",
       "      <td>---</td>\n",
       "      <td>6406</td>\n",
       "    </tr>\n",
       "    <tr>\n",
       "      <th>2</th>\n",
       "      <td>relevance</td>\n",
       "      <td>&lt;class 'numpy.int64'&gt;</td>\n",
       "      <td>()</td>\n",
       "      <td>2</td>\n",
       "    </tr>\n",
       "    <tr>\n",
       "      <th>3</th>\n",
       "      <td>reps</td>\n",
       "      <td>&lt;class 'numpy.ndarray'&gt;</td>\n",
       "      <td>(1, 768)</td>\n",
       "      <td>6406</td>\n",
       "    </tr>\n",
       "  </tbody>\n",
       "</table>\n",
       "</div>"
      ],
      "text/plain": [
       "  column_names               data_types shape_len  unique_values\n",
       "0           id    <class 'numpy.int64'>        ()           6406\n",
       "1         text            <class 'str'>       ---           6406\n",
       "2    relevance    <class 'numpy.int64'>        ()              2\n",
       "3         reps  <class 'numpy.ndarray'>  (1, 768)           6406"
      ]
     },
     "execution_count": 9,
     "metadata": {},
     "output_type": "execute_result"
    }
   ],
   "source": [
    "print_tweet_report(WF)"
   ]
  },
  {
   "cell_type": "code",
   "execution_count": 10,
   "id": "7f6b02e5",
   "metadata": {},
   "outputs": [
    {
     "data": {
      "text/html": [
       "<div>\n",
       "<style scoped>\n",
       "    .dataframe tbody tr th:only-of-type {\n",
       "        vertical-align: middle;\n",
       "    }\n",
       "\n",
       "    .dataframe tbody tr th {\n",
       "        vertical-align: top;\n",
       "    }\n",
       "\n",
       "    .dataframe thead th {\n",
       "        text-align: right;\n",
       "    }\n",
       "</style>\n",
       "<table border=\"1\" class=\"dataframe\">\n",
       "  <thead>\n",
       "    <tr style=\"text-align: right;\">\n",
       "      <th></th>\n",
       "      <th>relevance</th>\n",
       "      <th>count</th>\n",
       "      <th>balance</th>\n",
       "    </tr>\n",
       "  </thead>\n",
       "  <tbody>\n",
       "    <tr>\n",
       "      <th>0</th>\n",
       "      <td>1</td>\n",
       "      <td>3220</td>\n",
       "      <td>50.27%</td>\n",
       "    </tr>\n",
       "    <tr>\n",
       "      <th>1</th>\n",
       "      <td>0</td>\n",
       "      <td>3186</td>\n",
       "      <td>49.73%</td>\n",
       "    </tr>\n",
       "  </tbody>\n",
       "</table>\n",
       "</div>"
      ],
      "text/plain": [
       "   relevance  count balance\n",
       "0          1   3220  50.27%\n",
       "1          0   3186  49.73%"
      ]
     },
     "execution_count": 10,
     "metadata": {},
     "output_type": "execute_result"
    }
   ],
   "source": [
    "check_relevance_balance(WF)"
   ]
  },
  {
   "cell_type": "markdown",
   "id": "8cd45067",
   "metadata": {},
   "source": [
    "# Training"
   ]
  },
  {
   "cell_type": "code",
   "execution_count": 27,
   "id": "61faf055",
   "metadata": {},
   "outputs": [],
   "source": [
    "ITERATIONS = 15\n",
    "EPOCHS = 300\n",
    "LOSS = 'binary_crossentropy'\n",
    "OPTIMIZER = Adam(learning_rate=0.000001)\n",
    "METRICS = ['acc', metrics.precision, metrics.recall, metrics.f1]\n",
    "BATCH_SIZE = 32\n",
    "TEST_SIZE = 0.3\n",
    "RELOVIR = 1 #null\n",
    "\n",
    "text = \"\"\"\n",
    "ITERATIONS = 2 \n",
    "EPOCHS = 3 \n",
    "LOSS = 'binary_crossentropy'\n",
    "OPTIMIZER = Adam(learning_rate=0.000001)\n",
    "METRICS = ['acc', metrics.precision, metrics.recall, metrics.f1]\n",
    "BATCH_SIZE = 32\n",
    "TEST_SIZE = 0.3\n",
    "RELOVIR = 1 \n",
    "\"\"\"\n",
    "\n",
    "# print(matches)\n",
    "\n",
    "# print(dirs)\n",
    "\n",
    "# for dir in dirs:\n",
    "#     if os.path.isdir(os.path.join(path, dir)):\n",
    "#         print(dir)"
   ]
  },
  {
   "cell_type": "code",
   "execution_count": 28,
   "id": "ea04292a",
   "metadata": {},
   "outputs": [
    {
     "name": "stdout",
     "output_type": "stream",
     "text": [
      "Directory run00016 created!\n"
     ]
    },
    {
     "data": {
      "image/png": "[encoded data removed]",
      "text/plain": [
       "<Figure size 432x288 with 1 Axes>"
      ]
     },
     "metadata": {
      "needs_background": "light"
     },
     "output_type": "display_data"
    },
    {
     "data": {
      "text/html": [
       "<div>\n",
       "<style scoped>\n",
       "    .dataframe tbody tr th:only-of-type {\n",
       "        vertical-align: middle;\n",
       "    }\n",
       "\n",
       "    .dataframe tbody tr th {\n",
       "        vertical-align: top;\n",
       "    }\n",
       "\n",
       "    .dataframe thead th {\n",
       "        text-align: right;\n",
       "    }\n",
       "</style>\n",
       "<table border=\"1\" class=\"dataframe\">\n",
       "  <thead>\n",
       "    <tr style=\"text-align: right;\">\n",
       "      <th></th>\n",
       "      <th>train_loss</th>\n",
       "      <th>train_acc</th>\n",
       "      <th>train_prec</th>\n",
       "      <th>train_rec</th>\n",
       "      <th>train_f1</th>\n",
       "      <th>val_loss</th>\n",
       "      <th>val_acc</th>\n",
       "      <th>val_prec</th>\n",
       "      <th>val_rec</th>\n",
       "      <th>val_f1</th>\n",
       "    </tr>\n",
       "  </thead>\n",
       "  <tbody>\n",
       "    <tr>\n",
       "      <th>0</th>\n",
       "      <td>0.649750</td>\n",
       "      <td>0.642332</td>\n",
       "      <td>0.651052</td>\n",
       "      <td>0.653906</td>\n",
       "      <td>0.619578</td>\n",
       "      <td>0.609550</td>\n",
       "      <td>0.793515</td>\n",
       "      <td>0.767058</td>\n",
       "      <td>0.885444</td>\n",
       "      <td>0.809795</td>\n",
       "    </tr>\n",
       "    <tr>\n",
       "      <th>1</th>\n",
       "      <td>0.593069</td>\n",
       "      <td>0.773049</td>\n",
       "      <td>0.744080</td>\n",
       "      <td>0.847015</td>\n",
       "      <td>0.784104</td>\n",
       "      <td>0.570142</td>\n",
       "      <td>0.860286</td>\n",
       "      <td>0.819311</td>\n",
       "      <td>0.934130</td>\n",
       "      <td>0.867444</td>\n",
       "    </tr>\n",
       "    <tr>\n",
       "      <th>2</th>\n",
       "      <td>0.558959</td>\n",
       "      <td>0.827324</td>\n",
       "      <td>0.793311</td>\n",
       "      <td>0.890592</td>\n",
       "      <td>0.833928</td>\n",
       "      <td>0.541458</td>\n",
       "      <td>0.888110</td>\n",
       "      <td>0.851973</td>\n",
       "      <td>0.943886</td>\n",
       "      <td>0.891623</td>\n",
       "    </tr>\n",
       "    <tr>\n",
       "      <th>3</th>\n",
       "      <td>0.532523</td>\n",
       "      <td>0.855142</td>\n",
       "      <td>0.821056</td>\n",
       "      <td>0.910865</td>\n",
       "      <td>0.859438</td>\n",
       "      <td>0.518060</td>\n",
       "      <td>0.903905</td>\n",
       "      <td>0.873660</td>\n",
       "      <td>0.946807</td>\n",
       "      <td>0.905648</td>\n",
       "    </tr>\n",
       "    <tr>\n",
       "      <th>4</th>\n",
       "      <td>0.510846</td>\n",
       "      <td>0.874649</td>\n",
       "      <td>0.846597</td>\n",
       "      <td>0.917495</td>\n",
       "      <td>0.876882</td>\n",
       "      <td>0.497839</td>\n",
       "      <td>0.913877</td>\n",
       "      <td>0.889428</td>\n",
       "      <td>0.946500</td>\n",
       "      <td>0.914326</td>\n",
       "    </tr>\n",
       "    <tr>\n",
       "      <th>...</th>\n",
       "      <td>...</td>\n",
       "      <td>...</td>\n",
       "      <td>...</td>\n",
       "      <td>...</td>\n",
       "      <td>...</td>\n",
       "      <td>...</td>\n",
       "      <td>...</td>\n",
       "      <td>...</td>\n",
       "      <td>...</td>\n",
       "      <td>...</td>\n",
       "    </tr>\n",
       "    <tr>\n",
       "      <th>295</th>\n",
       "      <td>0.072190</td>\n",
       "      <td>0.979865</td>\n",
       "      <td>0.984987</td>\n",
       "      <td>0.974530</td>\n",
       "      <td>0.979066</td>\n",
       "      <td>0.081992</td>\n",
       "      <td>0.973780</td>\n",
       "      <td>0.977869</td>\n",
       "      <td>0.969552</td>\n",
       "      <td>0.972845</td>\n",
       "    </tr>\n",
       "    <tr>\n",
       "      <th>296</th>\n",
       "      <td>0.071905</td>\n",
       "      <td>0.979746</td>\n",
       "      <td>0.984442</td>\n",
       "      <td>0.974841</td>\n",
       "      <td>0.978961</td>\n",
       "      <td>0.081896</td>\n",
       "      <td>0.973814</td>\n",
       "      <td>0.977869</td>\n",
       "      <td>0.969617</td>\n",
       "      <td>0.972879</td>\n",
       "    </tr>\n",
       "    <tr>\n",
       "      <th>297</th>\n",
       "      <td>0.071915</td>\n",
       "      <td>0.979611</td>\n",
       "      <td>0.984235</td>\n",
       "      <td>0.974780</td>\n",
       "      <td>0.978763</td>\n",
       "      <td>0.081797</td>\n",
       "      <td>0.973780</td>\n",
       "      <td>0.977804</td>\n",
       "      <td>0.969617</td>\n",
       "      <td>0.972845</td>\n",
       "    </tr>\n",
       "    <tr>\n",
       "      <th>298</th>\n",
       "      <td>0.071486</td>\n",
       "      <td>0.979895</td>\n",
       "      <td>0.985185</td>\n",
       "      <td>0.974162</td>\n",
       "      <td>0.978950</td>\n",
       "      <td>0.081701</td>\n",
       "      <td>0.973814</td>\n",
       "      <td>0.977931</td>\n",
       "      <td>0.969552</td>\n",
       "      <td>0.972877</td>\n",
       "    </tr>\n",
       "    <tr>\n",
       "      <th>299</th>\n",
       "      <td>0.071711</td>\n",
       "      <td>0.980120</td>\n",
       "      <td>0.984866</td>\n",
       "      <td>0.975104</td>\n",
       "      <td>0.979298</td>\n",
       "      <td>0.081597</td>\n",
       "      <td>0.973954</td>\n",
       "      <td>0.978135</td>\n",
       "      <td>0.969617</td>\n",
       "      <td>0.973018</td>\n",
       "    </tr>\n",
       "  </tbody>\n",
       "</table>\n",
       "<p>300 rows × 10 columns</p>\n",
       "</div>"
      ],
      "text/plain": [
       "     train_loss  train_acc  train_prec  train_rec  train_f1  val_loss  \\\n",
       "0      0.649750   0.642332    0.651052   0.653906  0.619578  0.609550   \n",
       "1      0.593069   0.773049    0.744080   0.847015  0.784104  0.570142   \n",
       "2      0.558959   0.827324    0.793311   0.890592  0.833928  0.541458   \n",
       "3      0.532523   0.855142    0.821056   0.910865  0.859438  0.518060   \n",
       "4      0.510846   0.874649    0.846597   0.917495  0.876882  0.497839   \n",
       "..          ...        ...         ...        ...       ...       ...   \n",
       "295    0.072190   0.979865    0.984987   0.974530  0.979066  0.081992   \n",
       "296    0.071905   0.979746    0.984442   0.974841  0.978961  0.081896   \n",
       "297    0.071915   0.979611    0.984235   0.974780  0.978763  0.081797   \n",
       "298    0.071486   0.979895    0.985185   0.974162  0.978950  0.081701   \n",
       "299    0.071711   0.980120    0.984866   0.975104  0.979298  0.081597   \n",
       "\n",
       "      val_acc  val_prec   val_rec    val_f1  \n",
       "0    0.793515  0.767058  0.885444  0.809795  \n",
       "1    0.860286  0.819311  0.934130  0.867444  \n",
       "2    0.888110  0.851973  0.943886  0.891623  \n",
       "3    0.903905  0.873660  0.946807  0.905648  \n",
       "4    0.913877  0.889428  0.946500  0.914326  \n",
       "..        ...       ...       ...       ...  \n",
       "295  0.973780  0.977869  0.969552  0.972845  \n",
       "296  0.973814  0.977869  0.969617  0.972879  \n",
       "297  0.973780  0.977804  0.969617  0.972845  \n",
       "298  0.973814  0.977931  0.969552  0.972877  \n",
       "299  0.973954  0.978135  0.969617  0.973018  \n",
       "\n",
       "[300 rows x 10 columns]"
      ]
     },
     "execution_count": 28,
     "metadata": {},
     "output_type": "execute_result"
    }
   ],
   "source": [
    "av_loss_train = np.zeros(EPOCHS)\n",
    "av_loss_val = np.zeros(EPOCHS)\n",
    "av_acc_train = np.zeros(EPOCHS)\n",
    "av_acc_val = np.zeros(EPOCHS)\n",
    "av_prec_train = np.zeros(EPOCHS)\n",
    "av_prec_val = np.zeros(EPOCHS)\n",
    "av_rec_train = np.zeros(EPOCHS)\n",
    "av_rec_val = np.zeros(EPOCHS)\n",
    "av_f1_train = np.zeros(EPOCHS)\n",
    "av_f1_val = np.zeros(EPOCHS)\n",
    "\n",
    "iter_time = 0\n",
    "\n",
    "for iteration in range(ITERATIONS):\n",
    "    start_time = time.time()\n",
    "\n",
    "    training_set_X, test_set_X, training_set_y, test_set_y = datasplit(WF,TEST_SIZE,relovir = RELOVIR)\n",
    "    \n",
    "    model = None\n",
    "    \n",
    "    #np.random.seed(SEED)\n",
    "    \n",
    "    #initializer choice\n",
    "    \n",
    "    model = Sequential()\n",
    "    # (, 768)\n",
    "    model.add(Input(shape = (768,))) \n",
    "    model.add(Dense(768,activation='relu'))\n",
    "    model.add(Dropout(0.3))\n",
    "    model.add(Dense(1,activation='sigmoid'))\n",
    "    \n",
    "    model.compile(optimizer=OPTIMIZER, loss=LOSS, metrics=METRICS)\n",
    "    \n",
    "    # print(model.summary())\n",
    "              \n",
    "    clear_output(wait=True)\n",
    "    print(f'iteration {iteration-1} took {iter_time} s or {iter_time/60} min')\n",
    "    \n",
    "    history = model.fit(training_set_X, training_set_y,validation_data=( test_set_X,  test_set_y), batch_size = BATCH_SIZE, epochs = EPOCHS, verbose = 2,callbacks=[],shuffle = True)\n",
    "    \n",
    "    \n",
    "    #training metrics\n",
    "    av_loss_train = np.add(av_loss_train,np.array(history.history['loss']))\n",
    "    av_acc_train = np.add(av_acc_train,np.array(history.history['acc']))\n",
    "    av_prec_train = np.add(av_prec_train,np.array(history.history['precision']))\n",
    "    av_rec_train = np.add(av_rec_train,np.array(history.history['recall']))\n",
    "    av_f1_train = np.add(av_f1_train,np.array(history.history['f1']))\n",
    "    #validation metrics\n",
    "    av_loss_val = np.add(av_loss_val,np.array(history.history['val_loss']))\n",
    "    av_acc_val = np.add(av_acc_val,np.array(history.history['val_acc']))\n",
    "    av_prec_val = np.add(av_prec_val,np.array(history.history['val_precision']))\n",
    "    av_rec_val = np.add(av_rec_val,np.array(history.history['val_recall']))\n",
    "    av_f1_val = np.add(av_f1_val,np.array(history.history['val_f1']))\n",
    "    \n",
    "    end_time = time.time()\n",
    "    \n",
    "    iter_time = end_time-start_time\n",
    "    \n",
    "    \n",
    "av_loss_train = np.divide(av_loss_train,ITERATIONS)\n",
    "av_acc_train = np.divide(av_acc_train,ITERATIONS)\n",
    "av_prec_train = np.divide(av_prec_train,ITERATIONS)\n",
    "av_rec_train = np.divide(av_rec_train,ITERATIONS)\n",
    "av_f1_train = np.divide(av_f1_train,ITERATIONS)\n",
    "\n",
    "av_loss_val = np.divide(av_loss_val,ITERATIONS)\n",
    "av_acc_val = np.divide(av_acc_val,ITERATIONS)\n",
    "av_prec_val = np.divide(av_prec_val,ITERATIONS)\n",
    "av_rec_val = np.divide(av_rec_val,ITERATIONS)\n",
    "av_f1_val = np.divide(av_f1_val,ITERATIONS)\n",
    "\n",
    "clear_output(wait=True)\n",
    "\n",
    "results = pd.DataFrame({'train_loss': av_loss_train,'train_acc': av_acc_train,'train_prec': av_prec_train,'train_rec': av_rec_train,'train_f1': av_f1_train,\n",
    "                        'val_loss': av_loss_val,'val_acc': av_acc_val,'val_prec': av_prec_val,'val_rec': av_rec_val,'val_f1': av_f1_val})\n",
    "\n",
    "\n",
    "#####################\n",
    "# saving everything at a new file with a run id(initially just run 001 ect) at the file run\n",
    "# first create a folder checking the name\n",
    "path = \"C:/Users/jmstf/CERTH-ITI/Silvanus-Treeads-WFdataset/runs\"\n",
    "dirs = os.listdir(path)\n",
    "dirs.sort(reverse = True)\n",
    "the_run = dirs[0]\n",
    "match = re.search(r\"run\\d{5}\", the_run)[0][3:]\n",
    "match = f'{(int(match)+1):05}'\n",
    "the_folder = f\"run{match}\"\n",
    "directory = os.path.join(path, the_folder)\n",
    "if not os.path.exists(directory):\n",
    "    os.makedirs(directory)\n",
    "    print(f\"Directory {the_folder} created!\")\n",
    "else:\n",
    "    print(\"Directory already exists.\")\n",
    "\n",
    "#####################\n",
    "# now save the results pickle and the hyperparameter text in the correct run folder\n",
    "filepath = f\"C:/Users/jmstf/CERTH-ITI/Silvanus-Treeads-WFdataset/runs\" +f\"/{the_folder}\"\n",
    "sub_dir1 = os.path.join(filepath,'results.plk')\n",
    "sub_dir2 = os.path.join(filepath,\"hyperparameters.txt\")\n",
    "with open(sub_dir1, 'wb') as dummy:\n",
    "    pickle.dump(results, dummy)\n",
    "with open(sub_dir2, \"wb\") as dummy:\n",
    "    dummy.write(text.encode())\n",
    "\n",
    "#####################\n",
    "# now save the plot pictures(not particularly usefull in the general code)\n",
    "plt.plot(results['val_acc'])\n",
    "plt.plot(results['val_prec'])\n",
    "plt.plot(results['val_rec'])\n",
    "plt.plot(results['val_f1'])\n",
    "plt.title('Average Evaluation Model Metrics')\n",
    "plt.ylabel('Value')\n",
    "plt.xlabel('Epoch')\n",
    "plt.legend(['accuracy','precision','recall','f1-score'], loc='lower right')#, bbox_to_anchor=(1, 0.5))\n",
    "plt.savefig(f'runs/{the_folder}/AEMM.jpg',dpi = 300)\n",
    "plt.show()\n",
    "\n",
    "results"
   ]
  },
  {
   "cell_type": "code",
   "execution_count": 71,
   "id": "3ffc2348",
   "metadata": {},
   "outputs": [
    {
     "data": {
      "image/png": "[encoded data removed]",
      "text/plain": [
       "<Figure size 432x288 with 1 Axes>"
      ]
     },
     "metadata": {
      "needs_background": "light"
     },
     "output_type": "display_data"
    }
   ],
   "source": [
    "plt.plot(results['val_acc'])\n",
    "plt.plot(results['val_prec'])\n",
    "plt.plot(results['val_rec'])\n",
    "plt.plot(results['val_f1'])\n",
    "plt.title('Evaluation Model Metrics')\n",
    "plt.ylabel('Value')\n",
    "plt.xlabel('Epoch')\n",
    "plt.legend(['accuracy','precision','recall','f1-score'], loc='center left', bbox_to_anchor=(1, 0.5))\n",
    "plt.show()"
   ]
  },
  {
   "cell_type": "code",
   "execution_count": 14,
   "id": "50a63ca9",
   "metadata": {},
   "outputs": [],
   "source": [
    "# with open('results.pkl', 'wb') as dummyvar:\n",
    "#     pickle.dump(results, dummyvar)"
   ]
  },
  {
   "cell_type": "code",
   "execution_count": 15,
   "id": "1fb3be24",
   "metadata": {},
   "outputs": [],
   "source": [
    "# with open('results.pkl', 'rb') as f:\n",
    "#     results = pickle.load(f)"
   ]
  },
  {
   "cell_type": "markdown",
   "id": "485c67f9",
   "metadata": {},
   "source": [
    "# First Run 100iter-10epochs"
   ]
  },
  {
   "cell_type": "code",
   "execution_count": 16,
   "id": "adf5489e",
   "metadata": {},
   "outputs": [],
   "source": [
    "# plt.plot(results['val_loss'])\n",
    "#first run\n",
    "\n",
    "\n",
    "\n",
    "# plt.plot(results['val_acc'])\n",
    "# plt.plot(results['val_prec'])\n",
    "# plt.plot(results['val_rec'])\n",
    "# plt.plot(results['val_f1'])\n",
    "# plt.title('Evaluation Model Metrics')\n",
    "# plt.ylabel('Value')\n",
    "# plt.xlabel('Epoch')\n",
    "# plt.legend(['accuracy','precision','recall','f1-score'], loc='center left', bbox_to_anchor=(1, 0.5))\n",
    "# plt.show()"
   ]
  },
  {
   "cell_type": "markdown",
   "id": "3b917d1b",
   "metadata": {},
   "source": [
    "# Second Run 100iter-10epochs"
   ]
  },
  {
   "cell_type": "code",
   "execution_count": 17,
   "id": "af90c617",
   "metadata": {},
   "outputs": [],
   "source": [
    "# plt.plot(results['val_acc'])\n",
    "# plt.plot(results['val_prec'])\n",
    "# plt.plot(results['val_rec'])\n",
    "# plt.plot(results['val_f1'])\n",
    "# plt.title('Evaluation Model Metrics')\n",
    "# plt.ylabel('Value')\n",
    "# plt.xlabel('Epoch')\n",
    "# plt.legend(['accuracy','precision','recall','f1-score'], loc='center left', bbox_to_anchor=(1, 0.5))\n",
    "# plt.show()"
   ]
  },
  {
   "cell_type": "markdown",
   "id": "ee6f625a",
   "metadata": {},
   "source": [
    "# third run 300 iters-10 epochs"
   ]
  },
  {
   "cell_type": "code",
   "execution_count": 18,
   "id": "50e368ac",
   "metadata": {},
   "outputs": [],
   "source": [
    "# plt.plot(results['val_acc'])\n",
    "# plt.plot(results['val_prec'])\n",
    "# plt.plot(results['val_rec'])\n",
    "# plt.plot(results['val_f1'])\n",
    "# plt.title('Evaluation Model Metrics')\n",
    "# plt.ylabel('Value')\n",
    "# plt.xlabel('Epoch')\n",
    "# plt.legend(['accuracy','precision','recall','f1-score'], loc='center left', bbox_to_anchor=(1, 0.5))\n",
    "# plt.show()"
   ]
  },
  {
   "cell_type": "markdown",
   "id": "fffea487",
   "metadata": {},
   "source": [
    "# forth run 300 iters-10 epochs"
   ]
  },
  {
   "cell_type": "code",
   "execution_count": 22,
   "id": "3fd86b3b",
   "metadata": {},
   "outputs": [
    {
     "data": {
      "image/png": "[encoded data removed]",
      "text/plain": [
       "<Figure size 432x288 with 1 Axes>"
      ]
     },
     "metadata": {
      "needs_background": "light"
     },
     "output_type": "display_data"
    }
   ],
   "source": [
    "plt.plot(results['val_acc'])\n",
    "plt.plot(results['val_prec'])\n",
    "plt.plot(results['val_rec'])\n",
    "plt.plot(results['val_f1'])\n",
    "plt.title('Evaluation Model Metrics')\n",
    "plt.ylabel('Value')\n",
    "plt.xlabel('Epoch')\n",
    "plt.legend(['accuracy','precision','recall','f1-score'], loc='center left', bbox_to_anchor=(1, 0.5))\n",
    "plt.show()"
   ]
  },
  {
   "cell_type": "markdown",
   "id": "7e37294a",
   "metadata": {},
   "source": [
    "# forth run 1 iters-100 epochs"
   ]
  },
  {
   "cell_type": "code",
   "execution_count": null,
   "id": "f4621e70",
   "metadata": {},
   "outputs": [],
   "source": []
  }
 ],
 "metadata": {
  "kernelspec": {
   "display_name": "Python 3",
   "language": "python",
   "name": "python3"
  },
  "language_info": {
   "codemirror_mode": {
    "name": "ipython",
    "version": 3
   },
   "file_extension": ".py",
   "mimetype": "text/x-python",
   "name": "python",
   "nbconvert_exporter": "python",
   "pygments_lexer": "ipython3",
   "version": "3.8.8"
  }
 },
 "nbformat": 4,
 "nbformat_minor": 5
}
