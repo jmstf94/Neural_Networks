{
 "cells": [
  {
   "cell_type": "code",
   "execution_count": 8,
   "id": "0456e270",
   "metadata": {
    "tags": []
   },
   "outputs": [],
   "source": [
    "from TweetDataProcessing.TweetDataReport import *\n",
    "import pandas as pd\n",
    "import numpy as np\n",
    "from sklearn.model_selection import train_test_split\n",
    "from simpletransformers.language_representation import RepresentationModel\n",
    "from tensorflow.keras.models import Sequential\n",
    "from tensorflow.keras.layers import *\n",
    "from tensorflow.keras.initializers import GlorotUniform, HeUniform\n",
    "from tensorflow.keras.optimizers import Adam\n",
    "import tensorflow as tf\n",
    "np.set_printoptions(precision=8, suppress=False)\n",
    "import pickle\n",
    "import metrics\n",
    "import matplotlib.pyplot as plt\n",
    "import time\n",
    "from IPython.display import clear_output\n",
    "import os\n",
    "import re\n",
    "\n",
    "# from text_cleaner.Text_Cleaner import Text_Cleaner"
   ]
  },
  {
   "cell_type": "code",
   "execution_count": 9,
   "id": "975213f0-8a9a-4910-b9aa-5622cdd4c74d",
   "metadata": {
    "tags": []
   },
   "outputs": [
    {
     "name": "stdout",
     "output_type": "stream",
     "text": [
      "Is TensorFlow built with CUDA (GPU support)?: True\n",
      "Available GPU devices: [PhysicalDevice(name='/physical_device:GPU:0', device_type='GPU')]\n"
     ]
    }
   ],
   "source": [
    "# Check if TensorFlow is built with CUDA (GPU support)\n",
    "print(\"Is TensorFlow built with CUDA (GPU support)?:\", tf.test.is_built_with_cuda())\n",
    "\n",
    "# Check if a GPU device is available for TensorFlow\n",
    "gpu_devices = tf.config.list_physical_devices('GPU')\n",
    "print(\"Available GPU devices:\", gpu_devices)"
   ]
  },
  {
   "cell_type": "markdown",
   "id": "af8541a7-b0f3-452f-bbbc-de421018376c",
   "metadata": {},
   "source": [
    "# RUFF DATA"
   ]
  },
  {
   "cell_type": "code",
   "execution_count": 2,
   "id": "04628216-3bbd-4782-9681-efef4126f1bd",
   "metadata": {
    "tags": []
   },
   "outputs": [],
   "source": [
    "# Sandor_Data = pd.read_json('SandorData.json')\n",
    "# Sandor_Data"
   ]
  },
  {
   "cell_type": "code",
   "execution_count": 3,
   "id": "6da03ed4-c601-4c9a-80ba-fa18ba0ff6ac",
   "metadata": {
    "tags": []
   },
   "outputs": [],
   "source": [
    "# corpus2020 = pd.read_json('wildfire-AUS-CAL-COL.json').T\n",
    "# corpus2020"
   ]
  },
  {
   "cell_type": "code",
   "execution_count": 10,
   "id": "80b4ef65-4cb9-4d14-aa99-66612d8e21b1",
   "metadata": {
    "tags": []
   },
   "outputs": [
    {
     "data": {
      "text/html": [
       "<div>\n",
       "<style scoped>\n",
       "    .dataframe tbody tr th:only-of-type {\n",
       "        vertical-align: middle;\n",
       "    }\n",
       "\n",
       "    .dataframe tbody tr th {\n",
       "        vertical-align: top;\n",
       "    }\n",
       "\n",
       "    .dataframe thead th {\n",
       "        text-align: right;\n",
       "    }\n",
       "</style>\n",
       "<table border=\"1\" class=\"dataframe\">\n",
       "  <thead>\n",
       "    <tr style=\"text-align: right;\">\n",
       "      <th></th>\n",
       "      <th>id</th>\n",
       "      <th>text</th>\n",
       "      <th>relevance</th>\n",
       "      <th>reps</th>\n",
       "    </tr>\n",
       "  </thead>\n",
       "  <tbody>\n",
       "    <tr>\n",
       "      <th>0</th>\n",
       "      <td>555811944004059136</td>\n",
       "      <td>jetlag remedy: &lt;HASHTAG&gt; yoganidra increases m...</td>\n",
       "      <td>0</td>\n",
       "      <td>[[0.1558615, -0.22208409, 0.32405025, -0.12193...</td>\n",
       "    </tr>\n",
       "    <tr>\n",
       "      <th>1</th>\n",
       "      <td>875785704600719360</td>\n",
       "      <td>&lt;USER&gt; as radiohead said, gravity always wins</td>\n",
       "      <td>0</td>\n",
       "      <td>[[0.5369296, -0.07404575, 0.32802135, 0.378893...</td>\n",
       "    </tr>\n",
       "    <tr>\n",
       "      <th>2</th>\n",
       "      <td>145272321131814912</td>\n",
       "      <td>&lt;NUMBER&gt; weeks ago i had my oil changed right ...</td>\n",
       "      <td>0</td>\n",
       "      <td>[[0.27319214, -0.10883481, 0.37960258, -0.1088...</td>\n",
       "    </tr>\n",
       "    <tr>\n",
       "      <th>3</th>\n",
       "      <td>923060401096548352</td>\n",
       "      <td>&lt;HASHTAG&gt; bayarea &lt;HASHTAG&gt; restaurants join &lt;...</td>\n",
       "      <td>1</td>\n",
       "      <td>[[0.31468362, -0.015434795, 0.29338357, -0.391...</td>\n",
       "    </tr>\n",
       "    <tr>\n",
       "      <th>4</th>\n",
       "      <td>413865285716688896</td>\n",
       "      <td>alex &amp;amp; sierra \u0001 &lt;REPEAT&gt; tai \u0001 &lt;REPEAT&gt; go...</td>\n",
       "      <td>0</td>\n",
       "      <td>[[0.05304604, -0.03956152, 0.43150967, -0.2160...</td>\n",
       "    </tr>\n",
       "    <tr>\n",
       "      <th>...</th>\n",
       "      <td>...</td>\n",
       "      <td>...</td>\n",
       "      <td>...</td>\n",
       "      <td>...</td>\n",
       "    </tr>\n",
       "    <tr>\n",
       "      <th>6401</th>\n",
       "      <td>780945793968726016</td>\n",
       "      <td>&lt;USER&gt; me</td>\n",
       "      <td>0</td>\n",
       "      <td>[[-0.17661855, -0.22707242, 0.53293943, -0.036...</td>\n",
       "    </tr>\n",
       "    <tr>\n",
       "      <th>6402</th>\n",
       "      <td>218755783205208064</td>\n",
       "      <td>pretty amazing time-lapse video of the &lt;HASHTA...</td>\n",
       "      <td>1</td>\n",
       "      <td>[[0.069605365, 0.022888266, 0.10279484, 0.0452...</td>\n",
       "    </tr>\n",
       "    <tr>\n",
       "      <th>6403</th>\n",
       "      <td>920970081479286784</td>\n",
       "      <td>judging from his response to the wildfires, tr...</td>\n",
       "      <td>1</td>\n",
       "      <td>[[0.36734098, -0.17313328, 0.2507872, 0.214488...</td>\n",
       "    </tr>\n",
       "    <tr>\n",
       "      <th>6404</th>\n",
       "      <td>391812720107859968</td>\n",
       "      <td>news by bbc australia bush fires set to worsen...</td>\n",
       "      <td>1</td>\n",
       "      <td>[[0.16103259, -0.05147232, 0.30514735, -0.1565...</td>\n",
       "    </tr>\n",
       "    <tr>\n",
       "      <th>6405</th>\n",
       "      <td>662701693713391616</td>\n",
       "      <td>&lt;USER&gt; she do want you bro, whoever it is, fem...</td>\n",
       "      <td>0</td>\n",
       "      <td>[[0.25940558, -0.03311075, 0.5606135, -0.09460...</td>\n",
       "    </tr>\n",
       "  </tbody>\n",
       "</table>\n",
       "<p>6406 rows × 4 columns</p>\n",
       "</div>"
      ],
      "text/plain": [
       "                      id                                               text  \\\n",
       "0     555811944004059136  jetlag remedy: <HASHTAG> yoganidra increases m...   \n",
       "1     875785704600719360      <USER> as radiohead said, gravity always wins   \n",
       "2     145272321131814912  <NUMBER> weeks ago i had my oil changed right ...   \n",
       "3     923060401096548352  <HASHTAG> bayarea <HASHTAG> restaurants join <...   \n",
       "4     413865285716688896  alex &amp; sierra \u0001 <REPEAT> tai \u0001 <REPEAT> go...   \n",
       "...                  ...                                                ...   \n",
       "6401  780945793968726016                                          <USER> me   \n",
       "6402  218755783205208064  pretty amazing time-lapse video of the <HASHTA...   \n",
       "6403  920970081479286784  judging from his response to the wildfires, tr...   \n",
       "6404  391812720107859968  news by bbc australia bush fires set to worsen...   \n",
       "6405  662701693713391616  <USER> she do want you bro, whoever it is, fem...   \n",
       "\n",
       "      relevance                                               reps  \n",
       "0             0  [[0.1558615, -0.22208409, 0.32405025, -0.12193...  \n",
       "1             0  [[0.5369296, -0.07404575, 0.32802135, 0.378893...  \n",
       "2             0  [[0.27319214, -0.10883481, 0.37960258, -0.1088...  \n",
       "3             1  [[0.31468362, -0.015434795, 0.29338357, -0.391...  \n",
       "4             0  [[0.05304604, -0.03956152, 0.43150967, -0.2160...  \n",
       "...         ...                                                ...  \n",
       "6401          0  [[-0.17661855, -0.22707242, 0.53293943, -0.036...  \n",
       "6402          1  [[0.069605365, 0.022888266, 0.10279484, 0.0452...  \n",
       "6403          1  [[0.36734098, -0.17313328, 0.2507872, 0.214488...  \n",
       "6404          1  [[0.16103259, -0.05147232, 0.30514735, -0.1565...  \n",
       "6405          0  [[0.25940558, -0.03311075, 0.5606135, -0.09460...  \n",
       "\n",
       "[6406 rows x 4 columns]"
      ]
     },
     "execution_count": 10,
     "metadata": {},
     "output_type": "execute_result"
    }
   ],
   "source": [
    "with open('WF.pkl', 'rb') as file:\n",
    "    WF = pickle.load(file)\n",
    "WF"
   ]
  },
  {
   "cell_type": "markdown",
   "id": "531f9315",
   "metadata": {},
   "source": [
    "# Data"
   ]
  },
  {
   "cell_type": "code",
   "execution_count": 5,
   "id": "d502b116",
   "metadata": {
    "tags": []
   },
   "outputs": [],
   "source": [
    "# pretrained_model = RepresentationModel(model_type=\"bert\",model_name=\"bert-base-uncased\",use_cuda=False) \n",
    "# sentence_vectors = pretrained_model.encode_sentences(ariss_data['text'], combine_strategy=\"mean\")\n",
    "# sentence_vectors = np.split(sentence_vectors,sentence_vectors.shape[0])\n",
    "# WF['reps']=pd.Series(sentence_vectors)\n",
    "# WF.to_csv('WFtest.csv', index=False)\n",
    "\n",
    "# WF = pd.read_json(\"wildfire-AUS-CAL-COL.json\",orient=\"index\")\n",
    "# WF = WF.sample(frac = 1).reset_index(drop=True)\n",
    "# WF"
   ]
  },
  {
   "cell_type": "code",
   "execution_count": 6,
   "id": "29a81421",
   "metadata": {
    "tags": []
   },
   "outputs": [],
   "source": [
    "# pretrained_model = RepresentationModel(model_type=\"bert\",model_name=\"bert-base-uncased\",use_cuda=False) \n",
    "# sentence_vectors = pretrained_model.encode_sentences(Sandor_Data['text'], combine_strategy=\"mean\")\n",
    "# sentence_vectors = np.split(sentence_vectors,sentence_vectors.shape[0])\n",
    "# pandasseries = pd.Series(sentence_vectors)\n",
    "# Sandor_Data['reps'] = pandasseries.copy()\n",
    "# Sandor_Data"
   ]
  },
  {
   "cell_type": "code",
   "execution_count": 32,
   "id": "b70203ba",
   "metadata": {
    "tags": []
   },
   "outputs": [],
   "source": [
    "# with open('Sandor_Data.pkl', 'wb') as f:\n",
    "#     pickle.dump(Sandor_Data, f)"
   ]
  },
  {
   "cell_type": "code",
   "execution_count": 8,
   "id": "50473b0a",
   "metadata": {
    "tags": []
   },
   "outputs": [],
   "source": [
    "# with open('WF.pkl', 'rb') as f:\n",
    "#     WF = pickle.load(f)\n",
    "# WF"
   ]
  },
  {
   "cell_type": "code",
   "execution_count": 11,
   "id": "1a699c80",
   "metadata": {
    "tags": []
   },
   "outputs": [
    {
     "data": {
      "text/html": [
       "<div>\n",
       "<style scoped>\n",
       "    .dataframe tbody tr th:only-of-type {\n",
       "        vertical-align: middle;\n",
       "    }\n",
       "\n",
       "    .dataframe tbody tr th {\n",
       "        vertical-align: top;\n",
       "    }\n",
       "\n",
       "    .dataframe thead th {\n",
       "        text-align: right;\n",
       "    }\n",
       "</style>\n",
       "<table border=\"1\" class=\"dataframe\">\n",
       "  <thead>\n",
       "    <tr style=\"text-align: right;\">\n",
       "      <th></th>\n",
       "      <th>column_names</th>\n",
       "      <th>data_types</th>\n",
       "      <th>shape_len</th>\n",
       "      <th>unique_values</th>\n",
       "    </tr>\n",
       "  </thead>\n",
       "  <tbody>\n",
       "    <tr>\n",
       "      <th>0</th>\n",
       "      <td>id</td>\n",
       "      <td>&lt;class 'numpy.int64'&gt;</td>\n",
       "      <td>()</td>\n",
       "      <td>6406</td>\n",
       "    </tr>\n",
       "    <tr>\n",
       "      <th>1</th>\n",
       "      <td>text</td>\n",
       "      <td>&lt;class 'str'&gt;</td>\n",
       "      <td>---</td>\n",
       "      <td>6406</td>\n",
       "    </tr>\n",
       "    <tr>\n",
       "      <th>2</th>\n",
       "      <td>relevance</td>\n",
       "      <td>&lt;class 'numpy.int64'&gt;</td>\n",
       "      <td>()</td>\n",
       "      <td>2</td>\n",
       "    </tr>\n",
       "    <tr>\n",
       "      <th>3</th>\n",
       "      <td>reps</td>\n",
       "      <td>&lt;class 'numpy.ndarray'&gt;</td>\n",
       "      <td>(1, 768)</td>\n",
       "      <td>6406</td>\n",
       "    </tr>\n",
       "  </tbody>\n",
       "</table>\n",
       "</div>"
      ],
      "text/plain": [
       "  column_names               data_types shape_len  unique_values\n",
       "0           id    <class 'numpy.int64'>        ()           6406\n",
       "1         text            <class 'str'>       ---           6406\n",
       "2    relevance    <class 'numpy.int64'>        ()              2\n",
       "3         reps  <class 'numpy.ndarray'>  (1, 768)           6406"
      ]
     },
     "execution_count": 11,
     "metadata": {},
     "output_type": "execute_result"
    }
   ],
   "source": [
    "print_tweet_report(WF)"
   ]
  },
  {
   "cell_type": "code",
   "execution_count": 12,
   "id": "7f6b02e5",
   "metadata": {
    "tags": []
   },
   "outputs": [
    {
     "data": {
      "text/html": [
       "<div>\n",
       "<style scoped>\n",
       "    .dataframe tbody tr th:only-of-type {\n",
       "        vertical-align: middle;\n",
       "    }\n",
       "\n",
       "    .dataframe tbody tr th {\n",
       "        vertical-align: top;\n",
       "    }\n",
       "\n",
       "    .dataframe thead th {\n",
       "        text-align: right;\n",
       "    }\n",
       "</style>\n",
       "<table border=\"1\" class=\"dataframe\">\n",
       "  <thead>\n",
       "    <tr style=\"text-align: right;\">\n",
       "      <th></th>\n",
       "      <th>relevance</th>\n",
       "      <th>count</th>\n",
       "      <th>balance</th>\n",
       "    </tr>\n",
       "  </thead>\n",
       "  <tbody>\n",
       "    <tr>\n",
       "      <th>0</th>\n",
       "      <td>1</td>\n",
       "      <td>3220</td>\n",
       "      <td>50.27%</td>\n",
       "    </tr>\n",
       "    <tr>\n",
       "      <th>1</th>\n",
       "      <td>0</td>\n",
       "      <td>3186</td>\n",
       "      <td>49.73%</td>\n",
       "    </tr>\n",
       "  </tbody>\n",
       "</table>\n",
       "</div>"
      ],
      "text/plain": [
       "   relevance  count balance\n",
       "0          1   3220  50.27%\n",
       "1          0   3186  49.73%"
      ]
     },
     "execution_count": 12,
     "metadata": {},
     "output_type": "execute_result"
    }
   ],
   "source": [
    "check_relevance_balance(WF)"
   ]
  },
  {
   "cell_type": "markdown",
   "id": "8cd45067",
   "metadata": {},
   "source": [
    "# Training"
   ]
  },
  {
   "cell_type": "code",
   "execution_count": 13,
   "id": "61faf055",
   "metadata": {
    "tags": []
   },
   "outputs": [],
   "source": [
    "ITERATIONS = 1\n",
    "EPOCHS = 300\n",
    "LOSS = 'binary_crossentropy'\n",
    "LEARNING_RATE = 0.000001\n",
    "METRICS = ['acc', metrics.precision, metrics.recall, metrics.f1]\n",
    "BATCH_SIZE = 32\n",
    "TEST_SIZE = 0.3\n",
    "RELOVIR = 1 #null\n",
    "\n",
    "text = \"\"\"\n",
    "ITERATIONS = 2 \n",
    "EPOCHS = 3 \n",
    "LOSS = 'binary_crossentropy'\n",
    "OPTIMIZER = Adam(learning_rate=0.000001)\n",
    "METRICS = ['acc', metrics.precision, metrics.recall, metrics.f1]\n",
    "BATCH_SIZE = 32\n",
    "TEST_SIZE = 0.3\n",
    "RELOVIR = 1 \n",
    "\"\"\"\n",
    "\n",
    "# print(matches)\n",
    "\n",
    "# print(dirs)\n",
    "\n",
    "# for dir in dirs:\n",
    "#     if os.path.isdir(os.path.join(path, dir)):\n",
    "#         print(dir)"
   ]
  },
  {
   "cell_type": "code",
   "execution_count": 16,
   "id": "ea04292a",
   "metadata": {
    "scrolled": true,
    "tags": []
   },
   "outputs": [
    {
     "name": "stdout",
     "output_type": "stream",
     "text": [
      "Directory run00023 created!\n"
     ]
    },
    {
     "data": {
      "image/png": "[encoded data removed]",
      "text/plain": [
       "<Figure size 640x480 with 1 Axes>"
      ]
     },
     "metadata": {},
     "output_type": "display_data"
    },
    {
     "data": {
      "text/html": [
       "<div>\n",
       "<style scoped>\n",
       "    .dataframe tbody tr th:only-of-type {\n",
       "        vertical-align: middle;\n",
       "    }\n",
       "\n",
       "    .dataframe tbody tr th {\n",
       "        vertical-align: top;\n",
       "    }\n",
       "\n",
       "    .dataframe thead th {\n",
       "        text-align: right;\n",
       "    }\n",
       "</style>\n",
       "<table border=\"1\" class=\"dataframe\">\n",
       "  <thead>\n",
       "    <tr style=\"text-align: right;\">\n",
       "      <th></th>\n",
       "      <th>train_loss</th>\n",
       "      <th>train_acc</th>\n",
       "      <th>train_prec</th>\n",
       "      <th>train_rec</th>\n",
       "      <th>train_f1</th>\n",
       "      <th>val_loss</th>\n",
       "      <th>val_acc</th>\n",
       "      <th>val_prec</th>\n",
       "      <th>val_rec</th>\n",
       "      <th>val_f1</th>\n",
       "    </tr>\n",
       "  </thead>\n",
       "  <tbody>\n",
       "    <tr>\n",
       "      <th>0</th>\n",
       "      <td>0.687201</td>\n",
       "      <td>0.551139</td>\n",
       "      <td>0.532762</td>\n",
       "      <td>0.822487</td>\n",
       "      <td>0.641152</td>\n",
       "      <td>0.670981</td>\n",
       "      <td>0.601457</td>\n",
       "      <td>0.557311</td>\n",
       "      <td>0.930476</td>\n",
       "      <td>0.690664</td>\n",
       "    </tr>\n",
       "    <tr>\n",
       "      <th>1</th>\n",
       "      <td>0.669931</td>\n",
       "      <td>0.594908</td>\n",
       "      <td>0.564657</td>\n",
       "      <td>0.829949</td>\n",
       "      <td>0.666346</td>\n",
       "      <td>0.650653</td>\n",
       "      <td>0.657648</td>\n",
       "      <td>0.597488</td>\n",
       "      <td>0.934501</td>\n",
       "      <td>0.722022</td>\n",
       "    </tr>\n",
       "    <tr>\n",
       "      <th>2</th>\n",
       "      <td>0.647603</td>\n",
       "      <td>0.651407</td>\n",
       "      <td>0.606669</td>\n",
       "      <td>0.851340</td>\n",
       "      <td>0.703440</td>\n",
       "      <td>0.631224</td>\n",
       "      <td>0.714360</td>\n",
       "      <td>0.640249</td>\n",
       "      <td>0.941184</td>\n",
       "      <td>0.756203</td>\n",
       "    </tr>\n",
       "    <tr>\n",
       "      <th>3</th>\n",
       "      <td>0.628473</td>\n",
       "      <td>0.699866</td>\n",
       "      <td>0.647393</td>\n",
       "      <td>0.876971</td>\n",
       "      <td>0.739585</td>\n",
       "      <td>0.612753</td>\n",
       "      <td>0.762747</td>\n",
       "      <td>0.682738</td>\n",
       "      <td>0.939824</td>\n",
       "      <td>0.786349</td>\n",
       "    </tr>\n",
       "    <tr>\n",
       "      <th>4</th>\n",
       "      <td>0.609575</td>\n",
       "      <td>0.735150</td>\n",
       "      <td>0.679151</td>\n",
       "      <td>0.885419</td>\n",
       "      <td>0.763828</td>\n",
       "      <td>0.595000</td>\n",
       "      <td>0.803850</td>\n",
       "      <td>0.728132</td>\n",
       "      <td>0.933096</td>\n",
       "      <td>0.814062</td>\n",
       "    </tr>\n",
       "    <tr>\n",
       "      <th>...</th>\n",
       "      <td>...</td>\n",
       "      <td>...</td>\n",
       "      <td>...</td>\n",
       "      <td>...</td>\n",
       "      <td>...</td>\n",
       "      <td>...</td>\n",
       "      <td>...</td>\n",
       "      <td>...</td>\n",
       "      <td>...</td>\n",
       "      <td>...</td>\n",
       "    </tr>\n",
       "    <tr>\n",
       "      <th>295</th>\n",
       "      <td>0.067832</td>\n",
       "      <td>0.983251</td>\n",
       "      <td>0.986503</td>\n",
       "      <td>0.979727</td>\n",
       "      <td>0.982588</td>\n",
       "      <td>0.086818</td>\n",
       "      <td>0.972425</td>\n",
       "      <td>0.969597</td>\n",
       "      <td>0.945421</td>\n",
       "      <td>0.956511</td>\n",
       "    </tr>\n",
       "    <tr>\n",
       "      <th>296</th>\n",
       "      <td>0.068706</td>\n",
       "      <td>0.980125</td>\n",
       "      <td>0.984473</td>\n",
       "      <td>0.976283</td>\n",
       "      <td>0.979702</td>\n",
       "      <td>0.086730</td>\n",
       "      <td>0.972425</td>\n",
       "      <td>0.969597</td>\n",
       "      <td>0.945421</td>\n",
       "      <td>0.956511</td>\n",
       "    </tr>\n",
       "    <tr>\n",
       "      <th>297</th>\n",
       "      <td>0.069664</td>\n",
       "      <td>0.979678</td>\n",
       "      <td>0.984085</td>\n",
       "      <td>0.976143</td>\n",
       "      <td>0.979370</td>\n",
       "      <td>0.086738</td>\n",
       "      <td>0.972425</td>\n",
       "      <td>0.969597</td>\n",
       "      <td>0.945421</td>\n",
       "      <td>0.956511</td>\n",
       "    </tr>\n",
       "    <tr>\n",
       "      <th>298</th>\n",
       "      <td>0.068705</td>\n",
       "      <td>0.980572</td>\n",
       "      <td>0.983730</td>\n",
       "      <td>0.976117</td>\n",
       "      <td>0.979166</td>\n",
       "      <td>0.086565</td>\n",
       "      <td>0.972425</td>\n",
       "      <td>0.969597</td>\n",
       "      <td>0.945421</td>\n",
       "      <td>0.956511</td>\n",
       "    </tr>\n",
       "    <tr>\n",
       "      <th>299</th>\n",
       "      <td>0.067878</td>\n",
       "      <td>0.979455</td>\n",
       "      <td>0.982010</td>\n",
       "      <td>0.975657</td>\n",
       "      <td>0.978197</td>\n",
       "      <td>0.086526</td>\n",
       "      <td>0.972425</td>\n",
       "      <td>0.969597</td>\n",
       "      <td>0.945421</td>\n",
       "      <td>0.956511</td>\n",
       "    </tr>\n",
       "  </tbody>\n",
       "</table>\n",
       "<p>300 rows × 10 columns</p>\n",
       "</div>"
      ],
      "text/plain": [
       "     train_loss  train_acc  train_prec  train_rec  train_f1  val_loss  \\\n",
       "0      0.687201   0.551139    0.532762   0.822487  0.641152  0.670981   \n",
       "1      0.669931   0.594908    0.564657   0.829949  0.666346  0.650653   \n",
       "2      0.647603   0.651407    0.606669   0.851340  0.703440  0.631224   \n",
       "3      0.628473   0.699866    0.647393   0.876971  0.739585  0.612753   \n",
       "4      0.609575   0.735150    0.679151   0.885419  0.763828  0.595000   \n",
       "..          ...        ...         ...        ...       ...       ...   \n",
       "295    0.067832   0.983251    0.986503   0.979727  0.982588  0.086818   \n",
       "296    0.068706   0.980125    0.984473   0.976283  0.979702  0.086730   \n",
       "297    0.069664   0.979678    0.984085   0.976143  0.979370  0.086738   \n",
       "298    0.068705   0.980572    0.983730   0.976117  0.979166  0.086565   \n",
       "299    0.067878   0.979455    0.982010   0.975657  0.978197  0.086526   \n",
       "\n",
       "      val_acc  val_prec   val_rec    val_f1  \n",
       "0    0.601457  0.557311  0.930476  0.690664  \n",
       "1    0.657648  0.597488  0.934501  0.722022  \n",
       "2    0.714360  0.640249  0.941184  0.756203  \n",
       "3    0.762747  0.682738  0.939824  0.786349  \n",
       "4    0.803850  0.728132  0.933096  0.814062  \n",
       "..        ...       ...       ...       ...  \n",
       "295  0.972425  0.969597  0.945421  0.956511  \n",
       "296  0.972425  0.969597  0.945421  0.956511  \n",
       "297  0.972425  0.969597  0.945421  0.956511  \n",
       "298  0.972425  0.969597  0.945421  0.956511  \n",
       "299  0.972425  0.969597  0.945421  0.956511  \n",
       "\n",
       "[300 rows x 10 columns]"
      ]
     },
     "execution_count": 16,
     "metadata": {},
     "output_type": "execute_result"
    }
   ],
   "source": [
    "av_loss_train = np.zeros(EPOCHS)\n",
    "av_loss_val = np.zeros(EPOCHS)\n",
    "av_acc_train = np.zeros(EPOCHS)\n",
    "av_acc_val = np.zeros(EPOCHS)\n",
    "av_prec_train = np.zeros(EPOCHS)\n",
    "av_prec_val = np.zeros(EPOCHS)\n",
    "av_rec_train = np.zeros(EPOCHS)\n",
    "av_rec_val = np.zeros(EPOCHS)\n",
    "av_f1_train = np.zeros(EPOCHS)\n",
    "av_f1_val = np.zeros(EPOCHS)\n",
    "\n",
    "iter_time = 0\n",
    "\n",
    "for iteration in range(ITERATIONS):\n",
    "    start_time = time.time()\n",
    "\n",
    "    training_set_X, test_set_X, training_set_y, test_set_y = datasplit_new(WF,TEST_SIZE,relovir = RELOVIR)\n",
    "    \n",
    "    model = None\n",
    "    \n",
    "    #np.random.seed(SEED)\n",
    "    \n",
    "    #initializer choice\n",
    "    \n",
    "    model = Sequential()\n",
    "    # (, 768)\n",
    "    model.add(Input(shape = (768,))) \n",
    "    model.add(Dense(768,activation='relu'))\n",
    "    model.add(Dropout(0.3))\n",
    "    model.add(Dense(1,activation='sigmoid'))\n",
    "    \n",
    "    model.compile(optimizer = Adam(learning_rate=LEARNING_RATE), loss=LOSS, metrics=METRICS)\n",
    "    \n",
    "    # print(model.summary())\n",
    "              \n",
    "    clear_output(wait=True)\n",
    "    print(f'iteration {iteration-1} took {iter_time} s or {iter_time/60} min')\n",
    "    \n",
    "    history = model.fit(training_set_X, training_set_y,validation_data=( test_set_X,  test_set_y), batch_size = BATCH_SIZE, epochs = EPOCHS, verbose = 2,callbacks=[],shuffle = True)\n",
    "    \n",
    "    #training metrics\n",
    "    av_loss_train = np.add(av_loss_train,np.array(history.history['loss']))\n",
    "    av_acc_train = np.add(av_acc_train,np.array(history.history['acc']))\n",
    "    av_prec_train = np.add(av_prec_train,np.array(history.history['precision']))\n",
    "    av_rec_train = np.add(av_rec_train,np.array(history.history['recall']))\n",
    "    av_f1_train = np.add(av_f1_train,np.array(history.history['f1']))\n",
    "    #validation metrics\n",
    "    av_loss_val = np.add(av_loss_val,np.array(history.history['val_loss']))\n",
    "    av_acc_val = np.add(av_acc_val,np.array(history.history['val_acc']))\n",
    "    av_prec_val = np.add(av_prec_val,np.array(history.history['val_precision']))\n",
    "    av_rec_val = np.add(av_rec_val,np.array(history.history['val_recall']))\n",
    "    av_f1_val = np.add(av_f1_val,np.array(history.history['val_f1']))\n",
    "    \n",
    "    end_time = time.time()\n",
    "    \n",
    "    iter_time = end_time-start_time\n",
    "    \n",
    "    \n",
    "av_loss_train = np.divide(av_loss_train,ITERATIONS)\n",
    "av_acc_train = np.divide(av_acc_train,ITERATIONS)\n",
    "av_prec_train = np.divide(av_prec_train,ITERATIONS)\n",
    "av_rec_train = np.divide(av_rec_train,ITERATIONS)\n",
    "av_f1_train = np.divide(av_f1_train,ITERATIONS)\n",
    "\n",
    "av_loss_val = np.divide(av_loss_val,ITERATIONS)\n",
    "av_acc_val = np.divide(av_acc_val,ITERATIONS)\n",
    "av_prec_val = np.divide(av_prec_val,ITERATIONS)\n",
    "av_rec_val = np.divide(av_rec_val,ITERATIONS)\n",
    "av_f1_val = np.divide(av_f1_val,ITERATIONS)\n",
    "\n",
    "clear_output(wait=True)\n",
    "\n",
    "results = pd.DataFrame({'train_loss': av_loss_train,'train_acc': av_acc_train,'train_prec': av_prec_train,'train_rec': av_rec_train,'train_f1': av_f1_train,\n",
    "                        'val_loss': av_loss_val,'val_acc': av_acc_val,'val_prec': av_prec_val,'val_rec': av_rec_val,'val_f1': av_f1_val})\n",
    "\n",
    "\n",
    "#####################\n",
    "# saving everything at a new file with a run id(initially just run 001 ect) at the file run\n",
    "# first create a folder checking the name\n",
    "path = \"C:/Users/distef/Neural_Networks/Silvanus-Treeads-WFdataset/runs\"\n",
    "dirs = os.listdir(path)\n",
    "dirs.sort(reverse = True)\n",
    "the_run = dirs[0]\n",
    "match = re.search(r\"run\\d{5}\", the_run)[0][3:]\n",
    "match = f'{(int(match)+1):05}'\n",
    "the_folder = f\"run{match}\"\n",
    "directory = os.path.join(path, the_folder)\n",
    "if not os.path.exists(directory):\n",
    "    os.makedirs(directory)\n",
    "    print(f\"Directory {the_folder} created!\")\n",
    "else:\n",
    "    print(\"Directory already exists.\")\n",
    "#####################\n",
    "#savingmodel\n",
    "#####################\n",
    "# now save the results pickle and the hyperparameter text in the correct run folder\n",
    "filepath = f\"C:/Users/distef/Neural_Networks/Silvanus-Treeads-WFdataset/runs\" +f\"/{the_folder}\"\n",
    "sub_dir1 = os.path.join(filepath,'results.plk')\n",
    "sub_dir2 = os.path.join(filepath,\"hyperparameters.txt\")\n",
    "with open(sub_dir1, 'wb') as dummy:\n",
    "    pickle.dump(results, dummy)\n",
    "with open(sub_dir2, \"wb\") as dummy:\n",
    "    dummy.write(text.encode())\n",
    "\n",
    "#####################\n",
    "# now save the plot pictures(not particularly usefull in the general code)\n",
    "plt.plot(results['val_acc'])\n",
    "plt.plot(results['val_prec'])\n",
    "plt.plot(results['val_rec'])\n",
    "plt.plot(results['val_f1'])\n",
    "plt.title('Average Evaluation Model Metrics')\n",
    "plt.ylabel('Value')\n",
    "plt.xlabel('Epoch')\n",
    "plt.legend(['accuracy','precision','recall','f1-score'], loc='lower right')#, bbox_to_anchor=(1, 0.5))\n",
    "plt.savefig(f'runs/{the_folder}/AEMM.jpg',dpi = 300)\n",
    "plt.show()\n",
    "\n",
    "results"
   ]
  },
  {
   "cell_type": "code",
   "execution_count": 18,
   "id": "12e2e6ed-92ec-4f76-90fd-ef5fd30a907b",
   "metadata": {
    "tags": []
   },
   "outputs": [],
   "source": [
    "# model.save('English_Classifier')\n"
   ]
  },
  {
   "cell_type": "code",
   "execution_count": 19,
   "id": "888d8c9a-5673-4c43-88f1-2ce5338c009f",
   "metadata": {
    "scrolled": true,
    "tags": []
   },
   "outputs": [
    {
     "data": {
      "text/html": [
       "<div>\n",
       "<style scoped>\n",
       "    .dataframe tbody tr th:only-of-type {\n",
       "        vertical-align: middle;\n",
       "    }\n",
       "\n",
       "    .dataframe tbody tr th {\n",
       "        vertical-align: top;\n",
       "    }\n",
       "\n",
       "    .dataframe thead th {\n",
       "        text-align: right;\n",
       "    }\n",
       "</style>\n",
       "<table border=\"1\" class=\"dataframe\">\n",
       "  <thead>\n",
       "    <tr style=\"text-align: right;\">\n",
       "      <th></th>\n",
       "      <th>id</th>\n",
       "      <th>text</th>\n",
       "      <th>relevance</th>\n",
       "      <th>reps</th>\n",
       "    </tr>\n",
       "  </thead>\n",
       "  <tbody>\n",
       "    <tr>\n",
       "      <th>0</th>\n",
       "      <td>555811944004059136</td>\n",
       "      <td>jetlag remedy: &lt;HASHTAG&gt; yoganidra increases m...</td>\n",
       "      <td>0</td>\n",
       "      <td>[[0.1558615, -0.22208409, 0.32405025, -0.12193...</td>\n",
       "    </tr>\n",
       "    <tr>\n",
       "      <th>1</th>\n",
       "      <td>875785704600719360</td>\n",
       "      <td>&lt;USER&gt; as radiohead said, gravity always wins</td>\n",
       "      <td>0</td>\n",
       "      <td>[[0.5369296, -0.07404575, 0.32802135, 0.378893...</td>\n",
       "    </tr>\n",
       "    <tr>\n",
       "      <th>2</th>\n",
       "      <td>145272321131814912</td>\n",
       "      <td>&lt;NUMBER&gt; weeks ago i had my oil changed right ...</td>\n",
       "      <td>0</td>\n",
       "      <td>[[0.27319214, -0.10883481, 0.37960258, -0.1088...</td>\n",
       "    </tr>\n",
       "    <tr>\n",
       "      <th>3</th>\n",
       "      <td>923060401096548352</td>\n",
       "      <td>&lt;HASHTAG&gt; bayarea &lt;HASHTAG&gt; restaurants join &lt;...</td>\n",
       "      <td>1</td>\n",
       "      <td>[[0.31468362, -0.015434795, 0.29338357, -0.391...</td>\n",
       "    </tr>\n",
       "    <tr>\n",
       "      <th>4</th>\n",
       "      <td>413865285716688896</td>\n",
       "      <td>alex &amp;amp; sierra \u0001 &lt;REPEAT&gt; tai \u0001 &lt;REPEAT&gt; go...</td>\n",
       "      <td>0</td>\n",
       "      <td>[[0.05304604, -0.03956152, 0.43150967, -0.2160...</td>\n",
       "    </tr>\n",
       "    <tr>\n",
       "      <th>...</th>\n",
       "      <td>...</td>\n",
       "      <td>...</td>\n",
       "      <td>...</td>\n",
       "      <td>...</td>\n",
       "    </tr>\n",
       "    <tr>\n",
       "      <th>6401</th>\n",
       "      <td>780945793968726016</td>\n",
       "      <td>&lt;USER&gt; me</td>\n",
       "      <td>0</td>\n",
       "      <td>[[-0.17661855, -0.22707242, 0.53293943, -0.036...</td>\n",
       "    </tr>\n",
       "    <tr>\n",
       "      <th>6402</th>\n",
       "      <td>218755783205208064</td>\n",
       "      <td>pretty amazing time-lapse video of the &lt;HASHTA...</td>\n",
       "      <td>1</td>\n",
       "      <td>[[0.069605365, 0.022888266, 0.10279484, 0.0452...</td>\n",
       "    </tr>\n",
       "    <tr>\n",
       "      <th>6403</th>\n",
       "      <td>920970081479286784</td>\n",
       "      <td>judging from his response to the wildfires, tr...</td>\n",
       "      <td>1</td>\n",
       "      <td>[[0.36734098, -0.17313328, 0.2507872, 0.214488...</td>\n",
       "    </tr>\n",
       "    <tr>\n",
       "      <th>6404</th>\n",
       "      <td>391812720107859968</td>\n",
       "      <td>news by bbc australia bush fires set to worsen...</td>\n",
       "      <td>1</td>\n",
       "      <td>[[0.16103259, -0.05147232, 0.30514735, -0.1565...</td>\n",
       "    </tr>\n",
       "    <tr>\n",
       "      <th>6405</th>\n",
       "      <td>662701693713391616</td>\n",
       "      <td>&lt;USER&gt; she do want you bro, whoever it is, fem...</td>\n",
       "      <td>0</td>\n",
       "      <td>[[0.25940558, -0.03311075, 0.5606135, -0.09460...</td>\n",
       "    </tr>\n",
       "  </tbody>\n",
       "</table>\n",
       "<p>6406 rows × 4 columns</p>\n",
       "</div>"
      ],
      "text/plain": [
       "                      id                                               text  \\\n",
       "0     555811944004059136  jetlag remedy: <HASHTAG> yoganidra increases m...   \n",
       "1     875785704600719360      <USER> as radiohead said, gravity always wins   \n",
       "2     145272321131814912  <NUMBER> weeks ago i had my oil changed right ...   \n",
       "3     923060401096548352  <HASHTAG> bayarea <HASHTAG> restaurants join <...   \n",
       "4     413865285716688896  alex &amp; sierra \u0001 <REPEAT> tai \u0001 <REPEAT> go...   \n",
       "...                  ...                                                ...   \n",
       "6401  780945793968726016                                          <USER> me   \n",
       "6402  218755783205208064  pretty amazing time-lapse video of the <HASHTA...   \n",
       "6403  920970081479286784  judging from his response to the wildfires, tr...   \n",
       "6404  391812720107859968  news by bbc australia bush fires set to worsen...   \n",
       "6405  662701693713391616  <USER> she do want you bro, whoever it is, fem...   \n",
       "\n",
       "      relevance                                               reps  \n",
       "0             0  [[0.1558615, -0.22208409, 0.32405025, -0.12193...  \n",
       "1             0  [[0.5369296, -0.07404575, 0.32802135, 0.378893...  \n",
       "2             0  [[0.27319214, -0.10883481, 0.37960258, -0.1088...  \n",
       "3             1  [[0.31468362, -0.015434795, 0.29338357, -0.391...  \n",
       "4             0  [[0.05304604, -0.03956152, 0.43150967, -0.2160...  \n",
       "...         ...                                                ...  \n",
       "6401          0  [[-0.17661855, -0.22707242, 0.53293943, -0.036...  \n",
       "6402          1  [[0.069605365, 0.022888266, 0.10279484, 0.0452...  \n",
       "6403          1  [[0.36734098, -0.17313328, 0.2507872, 0.214488...  \n",
       "6404          1  [[0.16103259, -0.05147232, 0.30514735, -0.1565...  \n",
       "6405          0  [[0.25940558, -0.03311075, 0.5606135, -0.09460...  \n",
       "\n",
       "[6406 rows x 4 columns]"
      ]
     },
     "execution_count": 19,
     "metadata": {},
     "output_type": "execute_result"
    }
   ],
   "source": [
    "# pretrained_model = RepresentationModel(model_type=\"bert\",model_name=\"bert-base-uncased\",use_cuda=False) \n",
    "# sentence_vectors = pretrained_model.encode_sentences(ariss_data['text'], combine_strategy=\"mean\")\n",
    "# sentence_vectors = np.split(sentence_vectors,sentence_vectors.shape[0])\n",
    "# WF['reps']=pd.Series(sentence_vectors)\n",
    "# WF.to_csv('WFtest.csv', index=False)\n",
    "\n",
    "# WF = pd.read_json(\"wildfire-AUS-CAL-COL.json\",orient=\"index\")\n",
    "# WF = WF.sample(frac = 1).reset_index(drop=True)\n"
   ]
  },
  {
   "cell_type": "code",
   "execution_count": 40,
   "id": "683d4bcc-521e-46ff-80f7-b1bd718fbb19",
   "metadata": {
    "tags": []
   },
   "outputs": [],
   "source": [
    "pretrained_model = RepresentationModel(model_type=\"bert\",model_name=\"bert-base-uncased\",use_cuda=False) \n",
    "sentence_vectors = pretrained_model.encode_sentences(['Arson the rapper is crazy good'], combine_strategy=\"mean\")"
   ]
  },
  {
   "cell_type": "code",
   "execution_count": 37,
   "id": "9deb9af3-f8e2-42c3-84d4-a4d36873ab75",
   "metadata": {
    "tags": []
   },
   "outputs": [
    {
     "data": {
      "text/plain": [
       "(1, 768)"
      ]
     },
     "execution_count": 37,
     "metadata": {},
     "output_type": "execute_result"
    }
   ],
   "source": [
    "vector = WF['reps'][3]\n",
    "vector.shape"
   ]
  },
  {
   "cell_type": "code",
   "execution_count": 41,
   "id": "ab06a2e6-7f5e-4671-acb3-aa019925bc37",
   "metadata": {
    "tags": []
   },
   "outputs": [
    {
     "name": "stdout",
     "output_type": "stream",
     "text": [
      "1/1 [==============================] - 0s 18ms/step\n"
     ]
    },
    {
     "data": {
      "text/plain": [
       "array([[0.00518599]], dtype=float32)"
      ]
     },
     "execution_count": 41,
     "metadata": {},
     "output_type": "execute_result"
    }
   ],
   "source": [
    "model.predict(sentence_vectors)"
   ]
  },
  {
   "cell_type": "code",
   "execution_count": 14,
   "id": "50a63ca9",
   "metadata": {},
   "outputs": [],
   "source": [
    "# with open('results.pkl', 'wb') as dummyvar:\n",
    "#     pickle.dump(results, dummyvar)"
   ]
  },
  {
   "cell_type": "code",
   "execution_count": 15,
   "id": "1fb3be24",
   "metadata": {},
   "outputs": [],
   "source": [
    "# with open('results.pkl', 'rb') as f:\n",
    "#     results = pickle.load(f)"
   ]
  },
  {
   "cell_type": "markdown",
   "id": "485c67f9",
   "metadata": {},
   "source": [
    "# First Run 100iter-10epochs"
   ]
  },
  {
   "cell_type": "code",
   "execution_count": 16,
   "id": "adf5489e",
   "metadata": {},
   "outputs": [],
   "source": [
    "# plt.plot(results['val_loss'])\n",
    "#first run\n",
    "\n",
    "\n",
    "\n",
    "# plt.plot(results['val_acc'])\n",
    "# plt.plot(results['val_prec'])\n",
    "# plt.plot(results['val_rec'])\n",
    "# plt.plot(results['val_f1'])\n",
    "# plt.title('Evaluation Model Metrics')\n",
    "# plt.ylabel('Value')\n",
    "# plt.xlabel('Epoch')\n",
    "# plt.legend(['accuracy','precision','recall','f1-score'], loc='center left', bbox_to_anchor=(1, 0.5))\n",
    "# plt.show()"
   ]
  },
  {
   "cell_type": "markdown",
   "id": "3b917d1b",
   "metadata": {},
   "source": [
    "# Second Run 100iter-10epochs"
   ]
  },
  {
   "cell_type": "code",
   "execution_count": 17,
   "id": "af90c617",
   "metadata": {},
   "outputs": [],
   "source": [
    "# plt.plot(results['val_acc'])\n",
    "# plt.plot(results['val_prec'])\n",
    "# plt.plot(results['val_rec'])\n",
    "# plt.plot(results['val_f1'])\n",
    "# plt.title('Evaluation Model Metrics')\n",
    "# plt.ylabel('Value')\n",
    "# plt.xlabel('Epoch')\n",
    "# plt.legend(['accuracy','precision','recall','f1-score'], loc='center left', bbox_to_anchor=(1, 0.5))\n",
    "# plt.show()"
   ]
  },
  {
   "cell_type": "markdown",
   "id": "ee6f625a",
   "metadata": {},
   "source": [
    "# third run 300 iters-10 epochs"
   ]
  },
  {
   "cell_type": "code",
   "execution_count": 18,
   "id": "50e368ac",
   "metadata": {},
   "outputs": [],
   "source": [
    "# plt.plot(results['val_acc'])\n",
    "# plt.plot(results['val_prec'])\n",
    "# plt.plot(results['val_rec'])\n",
    "# plt.plot(results['val_f1'])\n",
    "# plt.title('Evaluation Model Metrics')\n",
    "# plt.ylabel('Value')\n",
    "# plt.xlabel('Epoch')\n",
    "# plt.legend(['accuracy','precision','recall','f1-score'], loc='center left', bbox_to_anchor=(1, 0.5))\n",
    "# plt.show()"
   ]
  },
  {
   "cell_type": "markdown",
   "id": "fffea487",
   "metadata": {},
   "source": [
    "# forth run 300 iters-10 epochs"
   ]
  },
  {
   "cell_type": "code",
   "execution_count": 22,
   "id": "3fd86b3b",
   "metadata": {},
   "outputs": [
    {
     "data": {
      "image/png": "[encoded data removed]",
      "text/plain": [
       "<Figure size 432x288 with 1 Axes>"
      ]
     },
     "metadata": {
      "needs_background": "light"
     },
     "output_type": "display_data"
    }
   ],
   "source": [
    "plt.plot(results['val_acc'])\n",
    "plt.plot(results['val_prec'])\n",
    "plt.plot(results['val_rec'])\n",
    "plt.plot(results['val_f1'])\n",
    "plt.title('Evaluation Model Metrics')\n",
    "plt.ylabel('Value')\n",
    "plt.xlabel('Epoch')\n",
    "plt.legend(['accuracy','precision','recall','f1-score'], loc='center left', bbox_to_anchor=(1, 0.5))\n",
    "plt.show()"
   ]
  },
  {
   "cell_type": "markdown",
   "id": "7e37294a",
   "metadata": {},
   "source": [
    "# forth run 1 iters-100 epochs"
   ]
  },
  {
   "cell_type": "code",
   "execution_count": null,
   "id": "f4621e70",
   "metadata": {},
   "outputs": [],
   "source": []
  }
 ],
 "metadata": {
  "kernelspec": {
   "display_name": "Python 3 (ipykernel)",
   "language": "python",
   "name": "python3"
  },
  "language_info": {
   "codemirror_mode": {
    "name": "ipython",
    "version": 3
   },
   "file_extension": ".py",
   "mimetype": "text/x-python",
   "name": "python",
   "nbconvert_exporter": "python",
   "pygments_lexer": "ipython3",
   "version": "3.9.18"
  }
 },
 "nbformat": 4,
 "nbformat_minor": 5
}
